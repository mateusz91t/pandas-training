{
 "cells": [
  {
   "cell_type": "markdown",
   "id": "2e5179b7",
   "metadata": {},
   "source": [
    "# Labs 02 (Section 4 - DataSeries)"
   ]
  },
  {
   "cell_type": "code",
   "execution_count": 33,
   "id": "5eaf061f",
   "metadata": {},
   "outputs": [],
   "source": [
    "from datetime import date\n",
    "import pandas as pd\n",
    "import numpy as np\n",
    "import matplotlib.pyplot as plt\n",
    "import math\n",
    "import random as rnd\n",
    "%matplotlib inline"
   ]
  },
  {
   "cell_type": "markdown",
   "id": "1e8a236a",
   "metadata": {},
   "source": [
    "## L001"
   ]
  },
  {
   "cell_type": "code",
   "execution_count": 21,
   "id": "0d03c9bf",
   "metadata": {},
   "outputs": [
    {
     "data": {
      "text/plain": [
       "[<matplotlib.lines.Line2D at 0x2a719de9940>]"
      ]
     },
     "execution_count": 21,
     "metadata": {},
     "output_type": "execute_result"
    },
    {
     "data": {
      "image/png": "[encoded data removed]",
      "text/plain": [
       "<Figure size 432x288 with 1 Axes>"
      ]
     },
     "metadata": {
      "needs_background": "light"
     },
     "output_type": "display_data"
    }
   ],
   "source": [
    "days = [1,2,3,4,5]\n",
    "amount = [1,5,20,450,700]\n",
    "\n",
    "plt.plot(days, amount, 'bs')"
   ]
  },
  {
   "cell_type": "code",
   "execution_count": 22,
   "id": "d05e6cce",
   "metadata": {},
   "outputs": [
    {
     "data": {
      "text/plain": [
       "array([ 1,  2,  3,  4,  5,  6,  7,  8,  9, 10, 11, 12])"
      ]
     },
     "execution_count": 22,
     "metadata": {},
     "output_type": "execute_result"
    }
   ],
   "source": [
    "months = np.arange(1, 13)\n",
    "months"
   ]
  },
  {
   "cell_type": "code",
   "execution_count": 23,
   "id": "6ae48731",
   "metadata": {},
   "outputs": [
    {
     "data": {
      "text/plain": [
       "array([103, 106, 109, 112, 115, 118, 121, 124, 127, 130, 133, 136])"
      ]
     },
     "execution_count": 23,
     "metadata": {},
     "output_type": "execute_result"
    }
   ],
   "source": [
    "income = 100 + 3 * months\n",
    "income"
   ]
  },
  {
   "cell_type": "code",
   "execution_count": 24,
   "id": "48807e17",
   "metadata": {},
   "outputs": [
    {
     "data": {
      "text/plain": [
       "[<matplotlib.lines.Line2D at 0x2a719889610>]"
      ]
     },
     "execution_count": 24,
     "metadata": {},
     "output_type": "execute_result"
    },
    {
     "data": {
      "image/png": "[encoded data removed]",
      "text/plain": [
       "<Figure size 432x288 with 1 Axes>"
      ]
     },
     "metadata": {
      "needs_background": "light"
     },
     "output_type": "display_data"
    }
   ],
   "source": [
    "plt.plot(months, income, 'go')"
   ]
  },
  {
   "cell_type": "code",
   "execution_count": 25,
   "id": "23f7f594",
   "metadata": {},
   "outputs": [
    {
     "data": {
      "text/plain": [
       "array([ 60,  70,  80,  90, 100, 110, 120, 130, 140, 150, 160, 170])"
      ]
     },
     "execution_count": 25,
     "metadata": {},
     "output_type": "execute_result"
    }
   ],
   "source": [
    "cost = 50 + 10 * months\n",
    "cost"
   ]
  },
  {
   "cell_type": "code",
   "execution_count": 26,
   "id": "eecc7c4c",
   "metadata": {},
   "outputs": [
    {
     "data": {
      "text/plain": [
       "[<matplotlib.lines.Line2D at 0x2a7199b5f10>,\n",
       " <matplotlib.lines.Line2D at 0x2a7199b5fd0>]"
      ]
     },
     "execution_count": 26,
     "metadata": {},
     "output_type": "execute_result"
    },
    {
     "data": {
      "image/png": "[encoded data removed]",
      "text/plain": [
       "<Figure size 432x288 with 1 Axes>"
      ]
     },
     "metadata": {
      "needs_background": "light"
     },
     "output_type": "display_data"
    }
   ],
   "source": [
    "plt.plot(months, income, 'go', months, cost, 'r^')"
   ]
  },
  {
   "cell_type": "code",
   "execution_count": 27,
   "id": "e8078903",
   "metadata": {},
   "outputs": [
    {
     "data": {
      "image/png": "[encoded data removed]",
      "text/plain": [
       "<Figure size 432x288 with 1 Axes>"
      ]
     },
     "metadata": {
      "needs_background": "light"
     },
     "output_type": "display_data"
    }
   ],
   "source": [
    "squares = np.arange(-5, 5.1, .1)\n",
    "plt.plot(squares, 2**squares)\n",
    "plt.xlabel('X - Arguments')\n",
    "plt.ylabel('Y - Values')\n",
    "plt.show()"
   ]
  },
  {
   "cell_type": "markdown",
   "id": "9219b5fd",
   "metadata": {},
   "source": [
    "## L003"
   ]
  },
  {
   "cell_type": "code",
   "execution_count": 28,
   "id": "adc2060f",
   "metadata": {},
   "outputs": [
    {
     "data": {
      "text/plain": [
       "['Monday', 'Tuesday', 'Wednesday', 'Thursday', 'Friday', 'Saturday', 'Sunday']"
      ]
     },
     "execution_count": 28,
     "metadata": {},
     "output_type": "execute_result"
    }
   ],
   "source": [
    "weekdays = ['Monday', 'Tuesday', 'Wednesday', 'Thursday', 'Friday', 'Saturday', 'Sunday']\n",
    "weekdays"
   ]
  },
  {
   "cell_type": "code",
   "execution_count": 29,
   "id": "1ed8d81a",
   "metadata": {},
   "outputs": [
    {
     "data": {
      "text/plain": [
       "0       Monday\n",
       "1      Tuesday\n",
       "2    Wednesday\n",
       "3     Thursday\n",
       "4       Friday\n",
       "5     Saturday\n",
       "6       Sunday\n",
       "dtype: object"
      ]
     },
     "execution_count": 29,
     "metadata": {},
     "output_type": "execute_result"
    }
   ],
   "source": [
    "weekdaysSeries = pd.Series(weekdays)\n",
    "weekdaysSeries"
   ]
  },
  {
   "cell_type": "code",
   "execution_count": 30,
   "id": "5d4dcdb5",
   "metadata": {},
   "outputs": [
    {
     "data": {
      "text/plain": [
       "[False, False, False, False, False, True, True]"
      ]
     },
     "execution_count": 30,
     "metadata": {},
     "output_type": "execute_result"
    }
   ],
   "source": [
    "freeDays = [True if x in ('Saturday', 'Sunday') else False for x in weekdays]\n",
    "freeDays"
   ]
  },
  {
   "cell_type": "code",
   "execution_count": 31,
   "id": "14557201",
   "metadata": {},
   "outputs": [
    {
     "data": {
      "text/plain": [
       "0    False\n",
       "1    False\n",
       "2    False\n",
       "3    False\n",
       "4    False\n",
       "5     True\n",
       "6     True\n",
       "dtype: bool"
      ]
     },
     "execution_count": 31,
     "metadata": {},
     "output_type": "execute_result"
    }
   ],
   "source": [
    "freeDaysSeries = pd.Series(freeDays)\n",
    "freeDaysSeries"
   ]
  },
  {
   "cell_type": "code",
   "execution_count": 35,
   "id": "1d54751d",
   "metadata": {},
   "outputs": [
    {
     "data": {
      "text/plain": [
       "{'New Year': datetime.date(2021, 1, 1),\n",
       " 'Epiphany': datetime.date(2021, 1, 6),\n",
       " 'Easter': datetime.date(2021, 4, 1)}"
      ]
     },
     "execution_count": 35,
     "metadata": {},
     "output_type": "execute_result"
    }
   ],
   "source": [
    "holidays = {\n",
    "    'New Year': date(2021, 1, 1),\n",
    "    'Epiphany': date(2021, 1, 6),\n",
    "    'Easter': date(2021, 4, 1)\n",
    "}\n",
    "holidays"
   ]
  },
  {
   "cell_type": "code",
   "execution_count": 36,
   "id": "4773ad97",
   "metadata": {},
   "outputs": [
    {
     "data": {
      "text/plain": [
       "New Year    2021-01-01\n",
       "Epiphany    2021-01-06\n",
       "Easter      2021-04-01\n",
       "dtype: object"
      ]
     },
     "execution_count": 36,
     "metadata": {},
     "output_type": "execute_result"
    }
   ],
   "source": [
    "holidaysSeries = pd.Series(holidays)\n",
    "holidaysSeries"
   ]
  },
  {
   "cell_type": "markdown",
   "id": "b748f127",
   "metadata": {},
   "source": [
    "## L004"
   ]
  },
  {
   "cell_type": "code",
   "execution_count": 37,
   "id": "d158f6c0",
   "metadata": {},
   "outputs": [
    {
     "name": "stdout",
     "output_type": "stream",
     "text": [
      "dataAsFloatListSeries.size =\t100000\n",
      "dataAsFloatListSeries.nbytes =\t800000\n",
      "dataAsFloatListSeries.shape =\t(100000,)\n",
      "dataAsFloatListSeries.axes =\t[RangeIndex(start=0, stop=100000, step=1)]\n",
      "dataAsFloatListSeries.dtype =\tint64\n",
      "dataAsFloatListSeries.is_unique =\tTrue\n",
      "dataAsFloatListSeries.is_monotonic =\tTrue\n"
     ]
    }
   ],
   "source": [
    "dataAsFloatList = list()\n",
    "for x in range(100000):\n",
    "    dataAsFloatList.append(x)\n",
    "dataAsFloatListSeries = pd.Series(dataAsFloatList)\n",
    "\n",
    "print(\n",
    "    f\"dataAsFloatListSeries.size =\\t{dataAsFloatListSeries.size}\",\n",
    "    f\"dataAsFloatListSeries.nbytes =\\t{dataAsFloatListSeries.nbytes}\",\n",
    "    f\"dataAsFloatListSeries.shape =\\t{dataAsFloatListSeries.shape}\",\n",
    "    f\"dataAsFloatListSeries.axes =\\t{dataAsFloatListSeries.axes}\",\n",
    "    f\"dataAsFloatListSeries.dtype =\\t{dataAsFloatListSeries.dtype}\",\n",
    "    f\"dataAsFloatListSeries.is_unique =\\t{dataAsFloatListSeries.is_unique}\",\n",
    "    f\"dataAsFloatListSeries.is_monotonic =\\t{dataAsFloatListSeries.is_monotonic}\",\n",
    "    sep='\\n')"
   ]
  },
  {
   "cell_type": "code",
   "execution_count": 39,
   "id": "42dac879",
   "metadata": {},
   "outputs": [
    {
     "data": {
      "text/plain": [
       "0                        0.0\n",
       "1         0.8273051633193889\n",
       "2         1.2421741336066618\n",
       "3        0.16400054929506136\n",
       "4         1.4087232389207704\n",
       "                ...         \n",
       "99995       82349.2363512543\n",
       "99996     46310.608745934995\n",
       "99997     12700.115728046309\n",
       "99998      47121.56619656723\n",
       "99999      4840.435075611951\n",
       "Length: 100000, dtype: object"
      ]
     },
     "execution_count": 39,
     "metadata": {},
     "output_type": "execute_result"
    }
   ],
   "source": [
    "dataAsStringList = list()\n",
    "for x in range(100000):\n",
    "    dataAsStringList.append(str(x * rnd.random()))\n",
    "dataAsStringSeries = pd.Series(dataAsStringList)\n",
    "dataAsStringSeries"
   ]
  },
  {
   "cell_type": "code",
   "execution_count": 40,
   "id": "d59130bc",
   "metadata": {},
   "outputs": [
    {
     "name": "stdout",
     "output_type": "stream",
     "text": [
      "dataAsStringSeries.size =\t100000\n",
      "dataAsStringSeries.nbytes =\t800000\n",
      "dataAsStringSeries.dtype =\tobject\n",
      "dataAsFloatListSeries.memory_usage(deep=True) =\t800128\n",
      "dataAsStringSeries.memory_usage(deep=True) =\t7434675\n"
     ]
    }
   ],
   "source": [
    "print(f\"dataAsStringSeries.size =\\t{dataAsStringSeries.size}\",\n",
    "      f\"dataAsStringSeries.nbytes =\\t{dataAsStringSeries.nbytes}\",\n",
    "      f\"dataAsStringSeries.dtype =\\t{dataAsStringSeries.dtype}\",\n",
    "      f\"dataAsFloatListSeries.memory_usage(deep=True) =\\t{dataAsFloatListSeries.memory_usage(deep=True)}\",\n",
    "      f\"dataAsStringSeries.memory_usage(deep=True) =\\t{dataAsStringSeries.memory_usage(deep=True)}\",\n",
    "     sep='\\n')"
   ]
  },
  {
   "cell_type": "markdown",
   "id": "58ba7f53",
   "metadata": {},
   "source": [
    "## L005"
   ]
  },
  {
   "cell_type": "code",
   "execution_count": 41,
   "id": "96fa6164",
   "metadata": {},
   "outputs": [
    {
     "data": {
      "text/plain": [
       "Shanghai    24183300\n",
       "Beijing     20794100\n",
       "Istanbul    15030000\n",
       "dtype: int64"
      ]
     },
     "execution_count": 41,
     "metadata": {},
     "output_type": "execute_result"
    }
   ],
   "source": [
    "cities = ['Shanghai', 'Beijing', 'Istanbul']\n",
    "population = [24183300, 20794100, 15030000]\n",
    "citypop = pd.Series(population, cities)\n",
    "citypop"
   ]
  },
  {
   "cell_type": "code",
   "execution_count": 42,
   "id": "533d676a",
   "metadata": {},
   "outputs": [
    {
     "data": {
      "text/plain": [
       "Shanghai    24183300\n",
       "Beijing     20794100\n",
       "Istanbul    15030000\n",
       "dtype: int64"
      ]
     },
     "execution_count": 42,
     "metadata": {},
     "output_type": "execute_result"
    }
   ],
   "source": [
    "citypop = pd.Series(data=population, index=cities)\n",
    "citypop"
   ]
  },
  {
   "cell_type": "code",
   "execution_count": 43,
   "id": "9fbe47c2",
   "metadata": {},
   "outputs": [
    {
     "data": {
      "text/plain": [
       "60007400"
      ]
     },
     "execution_count": 43,
     "metadata": {},
     "output_type": "execute_result"
    }
   ],
   "source": [
    "citypop.sum()"
   ]
  },
  {
   "cell_type": "code",
   "execution_count": 44,
   "id": "0414c676",
   "metadata": {},
   "outputs": [
    {
     "data": {
      "text/plain": [
       "20002466.666666668"
      ]
     },
     "execution_count": 44,
     "metadata": {},
     "output_type": "execute_result"
    }
   ],
   "source": [
    "citypop.mean()"
   ]
  },
  {
   "cell_type": "code",
   "execution_count": 45,
   "id": "0d07e78c",
   "metadata": {},
   "outputs": [
    {
     "name": "stdout",
     "output_type": "stream",
     "text": [
      "Index(['Shanghai', 'Beijing', 'Istanbul'], dtype='object')\n",
      "Index(['Shanghai', 'Beijing', 'Istanbul'], dtype='object')\n"
     ]
    }
   ],
   "source": [
    "print(citypop.index, citypop.keys(), sep='\\n')"
   ]
  },
  {
   "cell_type": "code",
   "execution_count": 46,
   "id": "eeff1600",
   "metadata": {},
   "outputs": [
    {
     "data": {
      "text/plain": [
       "array([24183300, 20794100, 15030000], dtype=int64)"
      ]
     },
     "execution_count": 46,
     "metadata": {},
     "output_type": "execute_result"
    }
   ],
   "source": [
    "citypop.values"
   ]
  },
  {
   "cell_type": "code",
   "execution_count": 47,
   "id": "99536d70",
   "metadata": {},
   "outputs": [
    {
     "data": {
      "text/plain": [
       "'1.2.5'"
      ]
     },
     "execution_count": 47,
     "metadata": {},
     "output_type": "execute_result"
    }
   ],
   "source": [
    "pd.__version__"
   ]
  },
  {
   "cell_type": "markdown",
   "id": "449123cf",
   "metadata": {},
   "source": [
    "## L006"
   ]
  },
  {
   "cell_type": "code",
   "execution_count": 48,
   "id": "284bd415",
   "metadata": {},
   "outputs": [
    {
     "data": {
      "text/plain": [
       "do 6             14\n",
       "7-14            334\n",
       "15-17           312\n",
       "18-24          5823\n",
       "25-39          9491\n",
       "40-59          7486\n",
       "60 i więcej    4343\n",
       "dtype: int64"
      ]
     },
     "execution_count": 48,
     "metadata": {},
     "output_type": "execute_result"
    }
   ],
   "source": [
    "ages = [\"do 6\", \"7-14\", \"15-17\", \"18-24\", \"25-39\", \"40-59\", \"60 i więcej\"]\n",
    "accidents = [14 ,334,312,5823,9491,7486, 4343]\n",
    "incidents = pd.Series(data=accidents, index=ages)\n",
    "incidents"
   ]
  },
  {
   "cell_type": "code",
   "execution_count": 49,
   "id": "b522ce02",
   "metadata": {},
   "outputs": [
    {
     "name": "stdout",
     "output_type": "stream",
     "text": [
      "do 6              NaN\n",
      "7-14              NaN\n",
      "15-17             NaN\n",
      "18-24          5823.0\n",
      "25-39          9491.0\n",
      "40-59          7486.0\n",
      "60 i więcej    4343.0\n",
      "dtype: float64\n"
     ]
    },
    {
     "data": {
      "text/plain": [
       "18-24          5823.0\n",
       "25-39          9491.0\n",
       "40-59          7486.0\n",
       "60 i więcej    4343.0\n",
       "dtype: float64"
      ]
     },
     "execution_count": 49,
     "metadata": {},
     "output_type": "execute_result"
    }
   ],
   "source": [
    "print(incidents.where(incidents>1000))\n",
    "incidents.where(incidents>1000).dropna()"
   ]
  },
  {
   "cell_type": "code",
   "execution_count": 31,
   "id": "8c1fa854",
   "metadata": {
    "scrolled": true
   },
   "outputs": [
    {
     "name": "stdout",
     "output_type": "stream",
     "text": [
      "do 6             14\n",
      "7-14            334\n",
      "15-17           312\n",
      "18-24          5823\n",
      "25-39          9491\n",
      "40-59          7486\n",
      "60 i więcej    4343\n",
      "dtype: int64 18-24          5823.0\n",
      "25-39          9491.0\n",
      "40-59          7486.0\n",
      "60 i więcej    4343.0\n",
      "dtype: float64\n"
     ]
    }
   ],
   "source": [
    "incidents1000 = incidents.where(incidents>1000).dropna()\n",
    "print(incidents, incidents1000)"
   ]
  },
  {
   "cell_type": "code",
   "execution_count": 36,
   "id": "51a583cc",
   "metadata": {},
   "outputs": [
    {
     "data": {
      "text/plain": [
       "do 6       14\n",
       "7-14      334\n",
       "15-17     312\n",
       "18-24    5823\n",
       "25-39    9491\n",
       "40-59    7486\n",
       "dtype: int64"
      ]
     },
     "execution_count": 36,
     "metadata": {},
     "output_type": "execute_result"
    }
   ],
   "source": [
    "incidents.filter(items=[\"do 6\", \"7-14\", \"15-17\", \"18-24\", \"25-39\", \"40-59\"])"
   ]
  },
  {
   "cell_type": "code",
   "execution_count": 37,
   "id": "c882486e",
   "metadata": {},
   "outputs": [
    {
     "data": {
      "text/plain": [
       "do 6      14.0\n",
       "7-14     334.0\n",
       "15-17    312.0\n",
       "dtype: float64"
      ]
     },
     "execution_count": 37,
     "metadata": {},
     "output_type": "execute_result"
    }
   ],
   "source": [
    "incidents.where(incidents <= 1000, inplace=True)\n",
    "incidents.dropna(inplace=True)\n",
    "incidents"
   ]
  },
  {
   "cell_type": "markdown",
   "id": "1de1138a",
   "metadata": {},
   "source": [
    "## L007"
   ]
  },
  {
   "cell_type": "code",
   "execution_count": 39,
   "id": "fcf4e0fa",
   "metadata": {},
   "outputs": [],
   "source": [
    "namesList = ['Albania','Austria','Belarus','Belgium','Bulgaria','Croatia','Cyprus','Czech Republic','Denmark','Estonia','Finland','France','Germany','Greece','Hungary','Iceland','Ireland','Italy','Latvia','Lithuania','Luxembourg','Macedonia','Malta','Montenegro','Netherlands','Norway','Poland','Portugal','Romania','Russia','Serbia','Slovenia','Spain', 'Sweden','Switzerland','United Kingdom','Turkey','Ukraine']\n",
    "energy2010List = [1947,8347,3564,8369,4560,3814,4623,6348,6328,6506,16483,7736,7264,5318,3876,51440,5911,5494,3230,3471,16830,3521,4171,5420,7010,24891,3797,4959,2551,6410,4359,6521,5707,14934,8175,2498,3550,5701]\n",
    "energy2012List = [2118,8507,3698,7987,4762,3819,4057,6305,6039,6689,15687,7344,7270,5511,3919,53203,5665,5398,3588,3608,14696,3626,4761,5416,6871,23658,3899,4736,2604,6617,4387,6778,5573,14290,7886,2794,3641,5452]\n",
    "namesSeries = pd.Series(namesList)\n",
    "energy2010Series = pd.Series(energy2010List)\n",
    "energy2012Series = pd.Series(energy2012List)"
   ]
  },
  {
   "cell_type": "code",
   "execution_count": 40,
   "id": "360f9bb1",
   "metadata": {},
   "outputs": [
    {
     "data": {
      "text/plain": [
       "7779.8421052631575"
      ]
     },
     "execution_count": 40,
     "metadata": {},
     "output_type": "execute_result"
    }
   ],
   "source": [
    "mean2010 = energy2010Series.mean()\n",
    "mean2010"
   ]
  },
  {
   "cell_type": "code",
   "execution_count": 42,
   "id": "0853d963",
   "metadata": {},
   "outputs": [
    {
     "data": {
      "text/plain": [
       "7706.815789473684"
      ]
     },
     "execution_count": 42,
     "metadata": {},
     "output_type": "execute_result"
    }
   ],
   "source": [
    "mean2012 = energy2012Series.mean()\n",
    "mean2012"
   ]
  },
  {
   "cell_type": "code",
   "execution_count": 44,
   "id": "e99f5aff",
   "metadata": {
    "collapsed": true
   },
   "outputs": [
    {
     "data": {
      "text/plain": [
       "0     False\n",
       "1      True\n",
       "2     False\n",
       "3      True\n",
       "4     False\n",
       "5     False\n",
       "6     False\n",
       "7     False\n",
       "8     False\n",
       "9     False\n",
       "10     True\n",
       "11    False\n",
       "12    False\n",
       "13    False\n",
       "14    False\n",
       "15     True\n",
       "16    False\n",
       "17    False\n",
       "18    False\n",
       "19    False\n",
       "20     True\n",
       "21    False\n",
       "22    False\n",
       "23    False\n",
       "24    False\n",
       "25     True\n",
       "26    False\n",
       "27    False\n",
       "28    False\n",
       "29    False\n",
       "30    False\n",
       "31    False\n",
       "32    False\n",
       "33     True\n",
       "34     True\n",
       "35    False\n",
       "36    False\n",
       "37    False\n",
       "dtype: bool"
      ]
     },
     "execution_count": 44,
     "metadata": {},
     "output_type": "execute_result"
    }
   ],
   "source": [
    "filterAboveMean2010 = energy2010Series > mean2010\n",
    "filterAboveMean2010"
   ]
  },
  {
   "cell_type": "code",
   "execution_count": 45,
   "id": "58852736",
   "metadata": {
    "collapsed": true
   },
   "outputs": [
    {
     "data": {
      "text/plain": [
       "0     False\n",
       "1      True\n",
       "2     False\n",
       "3      True\n",
       "4     False\n",
       "5     False\n",
       "6     False\n",
       "7     False\n",
       "8     False\n",
       "9     False\n",
       "10     True\n",
       "11    False\n",
       "12    False\n",
       "13    False\n",
       "14    False\n",
       "15     True\n",
       "16    False\n",
       "17    False\n",
       "18    False\n",
       "19    False\n",
       "20     True\n",
       "21    False\n",
       "22    False\n",
       "23    False\n",
       "24    False\n",
       "25     True\n",
       "26    False\n",
       "27    False\n",
       "28    False\n",
       "29    False\n",
       "30    False\n",
       "31    False\n",
       "32    False\n",
       "33     True\n",
       "34     True\n",
       "35    False\n",
       "36    False\n",
       "37    False\n",
       "dtype: bool"
      ]
     },
     "execution_count": 45,
     "metadata": {},
     "output_type": "execute_result"
    }
   ],
   "source": [
    "filterAboveMean2012 = energy2012Series > mean2012\n",
    "oofilterAboveMean2012"
   ]
  },
  {
   "cell_type": "code",
   "execution_count": 46,
   "id": "f97d91f7",
   "metadata": {},
   "outputs": [
    {
     "data": {
      "text/plain": [
       "1         Austria\n",
       "3         Belgium\n",
       "10        Finland\n",
       "15        Iceland\n",
       "20     Luxembourg\n",
       "25         Norway\n",
       "33         Sweden\n",
       "34    Switzerland\n",
       "dtype: object"
      ]
     },
     "execution_count": 46,
     "metadata": {},
     "output_type": "execute_result"
    }
   ],
   "source": [
    "namesSeries.where(filterAboveMean2010).dropna()"
   ]
  },
  {
   "cell_type": "code",
   "execution_count": 47,
   "id": "96513b32",
   "metadata": {},
   "outputs": [
    {
     "data": {
      "text/plain": [
       "1         Austria\n",
       "3         Belgium\n",
       "10        Finland\n",
       "15        Iceland\n",
       "20     Luxembourg\n",
       "25         Norway\n",
       "33         Sweden\n",
       "34    Switzerland\n",
       "dtype: object"
      ]
     },
     "execution_count": 47,
     "metadata": {},
     "output_type": "execute_result"
    }
   ],
   "source": [
    "namesSeries.where(filterAboveMean2012).dropna()"
   ]
  },
  {
   "cell_type": "code",
   "execution_count": 48,
   "id": "4e10d9b2",
   "metadata": {},
   "outputs": [
    {
     "data": {
      "text/plain": [
       "Series([], dtype: object)"
      ]
     },
     "execution_count": 48,
     "metadata": {},
     "output_type": "execute_result"
    }
   ],
   "source": [
    "filterBelowMean2010 = energy2010Series < mean2010\n",
    "namesSeries.where(filterBelowMean2010 & filterAboveMean2012).dropna()"
   ]
  },
  {
   "cell_type": "markdown",
   "id": "c15bea52",
   "metadata": {},
   "source": [
    "## L008"
   ]
  },
  {
   "cell_type": "code",
   "execution_count": 73,
   "id": "e6ad386f",
   "metadata": {},
   "outputs": [
    {
     "data": {
      "text/plain": [
       "pandas.core.frame.DataFrame"
      ]
     },
     "execution_count": 73,
     "metadata": {},
     "output_type": "execute_result"
    }
   ],
   "source": [
    "education = pd.read_csv('./course-files/course-sources/StackOverflowDeveloperSurvey.csv',\n",
    "                       usecols=['FormalEducation'])\n",
    "type(education)"
   ]
  },
  {
   "cell_type": "code",
   "execution_count": 74,
   "id": "90ee7fef",
   "metadata": {},
   "outputs": [
    {
     "data": {
      "text/html": [
       "<div>\n",
       "<style scoped>\n",
       "    .dataframe tbody tr th:only-of-type {\n",
       "        vertical-align: middle;\n",
       "    }\n",
       "\n",
       "    .dataframe tbody tr th {\n",
       "        vertical-align: top;\n",
       "    }\n",
       "\n",
       "    .dataframe thead th {\n",
       "        text-align: right;\n",
       "    }\n",
       "</style>\n",
       "<table border=\"1\" class=\"dataframe\">\n",
       "  <thead>\n",
       "    <tr style=\"text-align: right;\">\n",
       "      <th></th>\n",
       "      <th>FormalEducation</th>\n",
       "    </tr>\n",
       "  </thead>\n",
       "  <tbody>\n",
       "    <tr>\n",
       "      <th>0</th>\n",
       "      <td>Secondary school</td>\n",
       "    </tr>\n",
       "    <tr>\n",
       "      <th>1</th>\n",
       "      <td>Some college/university study without earning ...</td>\n",
       "    </tr>\n",
       "    <tr>\n",
       "      <th>2</th>\n",
       "      <td>Bachelor's degree</td>\n",
       "    </tr>\n",
       "    <tr>\n",
       "      <th>3</th>\n",
       "      <td>Doctoral degree</td>\n",
       "    </tr>\n",
       "    <tr>\n",
       "      <th>4</th>\n",
       "      <td>Master's degree</td>\n",
       "    </tr>\n",
       "  </tbody>\n",
       "</table>\n",
       "</div>"
      ],
      "text/plain": [
       "                                     FormalEducation\n",
       "0                                   Secondary school\n",
       "1  Some college/university study without earning ...\n",
       "2                                  Bachelor's degree\n",
       "3                                    Doctoral degree\n",
       "4                                    Master's degree"
      ]
     },
     "execution_count": 74,
     "metadata": {},
     "output_type": "execute_result"
    }
   ],
   "source": [
    "education.head()"
   ]
  },
  {
   "cell_type": "code",
   "execution_count": 77,
   "id": "78f40852",
   "metadata": {},
   "outputs": [
    {
     "data": {
      "text/plain": [
       "pandas.core.series.Series"
      ]
     },
     "execution_count": 77,
     "metadata": {},
     "output_type": "execute_result"
    }
   ],
   "source": [
    "education = pd.read_csv('./course-files/course-sources/StackOverflowDeveloperSurvey.csv',\n",
    "                       usecols=['FormalEducation'], squeeze=True)\n",
    "type(education)"
   ]
  },
  {
   "cell_type": "code",
   "execution_count": 79,
   "id": "b60e1d55",
   "metadata": {},
   "outputs": [
    {
     "data": {
      "text/plain": [
       "51382                                      Master's degree\n",
       "51383               I never completed any formal education\n",
       "51384                                    Bachelor's degree\n",
       "51385                                      Master's degree\n",
       "51386    Some college/university study without earning ...\n",
       "51387                                    Bachelor's degree\n",
       "51388                                      Master's degree\n",
       "51389    Some college/university study without earning ...\n",
       "51390                                    Bachelor's degree\n",
       "51391                                    Bachelor's degree\n",
       "Name: FormalEducation, dtype: object"
      ]
     },
     "execution_count": 79,
     "metadata": {},
     "output_type": "execute_result"
    }
   ],
   "source": [
    "education.tail(10)"
   ]
  },
  {
   "cell_type": "code",
   "execution_count": 81,
   "id": "7c49378e",
   "metadata": {},
   "outputs": [
    {
     "data": {
      "text/plain": [
       "0     United States\n",
       "1    United Kingdom\n",
       "2    United Kingdom\n",
       "3     United States\n",
       "4       Switzerland\n",
       "Name: Country, dtype: object"
      ]
     },
     "execution_count": 81,
     "metadata": {},
     "output_type": "execute_result"
    }
   ],
   "source": [
    "allInfo = pd.read_csv('./course-files/course-sources/StackOverflowDeveloperSurvey.csv')\n",
    "country = allInfo['Country']\n",
    "country.head()"
   ]
  },
  {
   "cell_type": "code",
   "execution_count": 84,
   "id": "e5de8921",
   "metadata": {},
   "outputs": [
    {
     "data": {
      "text/plain": [
       "0     True\n",
       "1    False\n",
       "2    False\n",
       "3     True\n",
       "4    False\n",
       "Name: Country, dtype: bool"
      ]
     },
     "execution_count": 84,
     "metadata": {},
     "output_type": "execute_result"
    }
   ],
   "source": [
    "filterOnlyUSA = country == 'United States'\n",
    "filterOnlyUSA.head()"
   ]
  },
  {
   "cell_type": "code",
   "execution_count": 86,
   "id": "20a5575d",
   "metadata": {},
   "outputs": [
    {
     "data": {
      "text/plain": [
       "0              Secondary school\n",
       "3               Doctoral degree\n",
       "6               Master's degree\n",
       "10            Bachelor's degree\n",
       "15    Primary/elementary school\n",
       "17            Bachelor's degree\n",
       "18            Bachelor's degree\n",
       "25              Master's degree\n",
       "27            Bachelor's degree\n",
       "29            Bachelor's degree\n",
       "Name: FormalEducation, dtype: object"
      ]
     },
     "execution_count": 86,
     "metadata": {},
     "output_type": "execute_result"
    }
   ],
   "source": [
    "education.where(filterOnlyUSA).dropna().head(10)"
   ]
  },
  {
   "cell_type": "markdown",
   "id": "163545b2",
   "metadata": {},
   "source": [
    "## L009"
   ]
  },
  {
   "cell_type": "code",
   "execution_count": 88,
   "id": "063c14b9",
   "metadata": {},
   "outputs": [
    {
     "data": {
      "text/plain": [
       "2     113750.0\n",
       "14    100000.0\n",
       "17    130000.0\n",
       "18     82500.0\n",
       "22    100764.0\n",
       "Name: Salary, dtype: float64"
      ]
     },
     "execution_count": 88,
     "metadata": {},
     "output_type": "execute_result"
    }
   ],
   "source": [
    "salary = pd.read_csv('./course-files/course-sources/StackOverflowDeveloperSurvey.csv',\n",
    "                    usecols=['Salary'], squeeze=True)\n",
    "salary.dropna(inplace=True)\n",
    "salary.head()"
   ]
  },
  {
   "cell_type": "code",
   "execution_count": 89,
   "id": "5d4319e1",
   "metadata": {},
   "outputs": [
    {
     "data": {
      "text/plain": [
       "12891"
      ]
     },
     "execution_count": 89,
     "metadata": {},
     "output_type": "execute_result"
    }
   ],
   "source": [
    "len(salary)"
   ]
  },
  {
   "cell_type": "code",
   "execution_count": 90,
   "id": "ae1b3727",
   "metadata": {},
   "outputs": [
    {
     "data": {
      "text/plain": [
       "0.0"
      ]
     },
     "execution_count": 90,
     "metadata": {},
     "output_type": "execute_result"
    }
   ],
   "source": [
    "min(salary)"
   ]
  },
  {
   "cell_type": "code",
   "execution_count": 91,
   "id": "54d71c8e",
   "metadata": {},
   "outputs": [
    {
     "data": {
      "text/plain": [
       "197000.0"
      ]
     },
     "execution_count": 91,
     "metadata": {},
     "output_type": "execute_result"
    }
   ],
   "source": [
    "max(salary)"
   ]
  },
  {
   "cell_type": "code",
   "execution_count": 92,
   "id": "80515be0",
   "metadata": {},
   "outputs": [
    {
     "data": {
      "text/plain": [
       "[113750.0, 100000.0, 130000.0, 82500.0, 100764.0]"
      ]
     },
     "execution_count": 92,
     "metadata": {},
     "output_type": "execute_result"
    }
   ],
   "source": [
    "list(salary.head())"
   ]
  },
  {
   "cell_type": "code",
   "execution_count": 93,
   "id": "fadfcfd9",
   "metadata": {},
   "outputs": [
    {
     "data": {
      "text/plain": [
       "{2: 113750.0, 14: 100000.0, 17: 130000.0, 18: 82500.0, 22: 100764.0}"
      ]
     },
     "execution_count": 93,
     "metadata": {},
     "output_type": "execute_result"
    }
   ],
   "source": [
    "dict(salary.head())"
   ]
  },
  {
   "cell_type": "code",
   "execution_count": 96,
   "id": "a9953bb2",
   "metadata": {},
   "outputs": [
    {
     "data": {
      "text/plain": [
       "[197000.0, 195000.0, 195000.0, 195000.0, 195000.0]"
      ]
     },
     "execution_count": 96,
     "metadata": {},
     "output_type": "execute_result"
    }
   ],
   "source": [
    "listSalarySorted = sorted(salary, reverse=True)\n",
    "listSalarySorted[:5]"
   ]
  },
  {
   "cell_type": "code",
   "execution_count": 97,
   "id": "ce52ea93",
   "metadata": {},
   "outputs": [
    {
     "data": {
      "text/plain": [
       "2     113750.0\n",
       "14    100000.0\n",
       "17    130000.0\n",
       "18     82500.0\n",
       "22    100764.0\n",
       "Name: Salary of a person, dtype: float64"
      ]
     },
     "execution_count": 97,
     "metadata": {},
     "output_type": "execute_result"
    }
   ],
   "source": [
    "salary.name = 'Salary of a person'\n",
    "salary.head()"
   ]
  },
  {
   "cell_type": "markdown",
   "id": "e8771cc0",
   "metadata": {},
   "source": [
    "## L010"
   ]
  },
  {
   "cell_type": "code",
   "execution_count": 100,
   "id": "ed4db48a",
   "metadata": {},
   "outputs": [
    {
     "data": {
      "text/plain": [
       "2     113750.0\n",
       "14    100000.0\n",
       "17    130000.0\n",
       "18     82500.0\n",
       "22    100764.0\n",
       "Name: Salary, dtype: float64"
      ]
     },
     "execution_count": 100,
     "metadata": {},
     "output_type": "execute_result"
    }
   ],
   "source": [
    "salary = pd.read_csv('./course-files/course-sources/StackOverflowDeveloperSurvey.csv',\n",
    "                    usecols=['Salary'], squeeze=True).dropna()\n",
    "salary.head()"
   ]
  },
  {
   "cell_type": "code",
   "execution_count": 101,
   "id": "7e6c4fa0",
   "metadata": {},
   "outputs": [
    {
     "data": {
      "text/plain": [
       "31600    197000.0\n",
       "27943    195000.0\n",
       "6743     195000.0\n",
       "18237    195000.0\n",
       "41398    195000.0\n",
       "Name: Salary, dtype: float64"
      ]
     },
     "execution_count": 101,
     "metadata": {},
     "output_type": "execute_result"
    }
   ],
   "source": [
    "salary.sort_values(ascending=False).head()"
   ]
  },
  {
   "cell_type": "code",
   "execution_count": 102,
   "id": "18bafce7",
   "metadata": {},
   "outputs": [
    {
     "data": {
      "text/plain": [
       "51144    0.0\n",
       "23953    0.0\n",
       "23907    0.0\n",
       "44841    0.0\n",
       "2951     0.0\n",
       "Name: Salary, dtype: float64"
      ]
     },
     "execution_count": 102,
     "metadata": {},
     "output_type": "execute_result"
    }
   ],
   "source": [
    "salary.sort_values().head()"
   ]
  },
  {
   "cell_type": "code",
   "execution_count": 103,
   "id": "97b658e1",
   "metadata": {},
   "outputs": [
    {
     "data": {
      "text/plain": [
       "51144    0.0\n",
       "23953    0.0\n",
       "23907    0.0\n",
       "44841    0.0\n",
       "2951     0.0\n",
       "Name: Salary, dtype: float64"
      ]
     },
     "execution_count": 103,
     "metadata": {},
     "output_type": "execute_result"
    }
   ],
   "source": [
    "salary.sort_values(inplace=True)\n",
    "salary.head()"
   ]
  },
  {
   "cell_type": "code",
   "execution_count": 104,
   "id": "3131817a",
   "metadata": {},
   "outputs": [
    {
     "data": {
      "text/plain": [
       "2     113750.0\n",
       "14    100000.0\n",
       "17    130000.0\n",
       "18     82500.0\n",
       "22    100764.0\n",
       "Name: Salary, dtype: float64"
      ]
     },
     "execution_count": 104,
     "metadata": {},
     "output_type": "execute_result"
    }
   ],
   "source": [
    "salary.sort_index().head()"
   ]
  },
  {
   "cell_type": "code",
   "execution_count": 106,
   "id": "d70492c4",
   "metadata": {},
   "outputs": [
    {
     "data": {
      "text/plain": [
       "31600    197000.0\n",
       "27943    195000.0\n",
       "6743     195000.0\n",
       "41398    195000.0\n",
       "1696     195000.0\n",
       "           ...   \n",
       "291      170000.0\n",
       "41974    170000.0\n",
       "24272    170000.0\n",
       "274      170000.0\n",
       "6429     170000.0\n",
       "Name: Salary, Length: 100, dtype: float64"
      ]
     },
     "execution_count": 106,
     "metadata": {},
     "output_type": "execute_result"
    }
   ],
   "source": [
    "maxSalaries = salary.sort_values(ascending=False).head(100)\n",
    "maxSalaries"
   ]
  },
  {
   "cell_type": "code",
   "execution_count": 107,
   "id": "234e8588",
   "metadata": {},
   "outputs": [
    {
     "data": {
      "text/plain": [
       "51144      0.000000\n",
       "23953      0.000000\n",
       "23907      0.000000\n",
       "44841      0.000000\n",
       "2951       0.000000\n",
       "            ...    \n",
       "15179    176.185582\n",
       "33212    178.784267\n",
       "50569    198.208780\n",
       "48674    198.649186\n",
       "1077     200.000000\n",
       "Name: Salary, Length: 100, dtype: float64"
      ]
     },
     "execution_count": 107,
     "metadata": {},
     "output_type": "execute_result"
    }
   ],
   "source": [
    "minSalaries = salary.sort_values().head(100)\n",
    "minSalaries"
   ]
  },
  {
   "cell_type": "code",
   "execution_count": 109,
   "id": "74423d5e",
   "metadata": {},
   "outputs": [
    {
     "name": "stdout",
     "output_type": "stream",
     "text": [
      "maxSalaries.mean() = 180198.1045586777\n",
      "minSalaries.mean() = 67.08388907133795\n"
     ]
    }
   ],
   "source": [
    "print(f\"{maxSalaries.mean() = }\",\n",
    "     f\"{minSalaries.mean() = }\",\n",
    "     sep='\\n')"
   ]
  },
  {
   "cell_type": "markdown",
   "id": "5a4e7096",
   "metadata": {},
   "source": [
    "## L011"
   ]
  },
  {
   "cell_type": "code",
   "execution_count": 3,
   "id": "8c6ea1f9",
   "metadata": {},
   "outputs": [
    {
     "data": {
      "text/plain": [
       "0     United States\n",
       "1    United Kingdom\n",
       "2    United Kingdom\n",
       "3     United States\n",
       "4       Switzerland\n",
       "Name: Country, dtype: object"
      ]
     },
     "execution_count": 3,
     "metadata": {},
     "output_type": "execute_result"
    }
   ],
   "source": [
    "countries = pd.read_csv('./course-files/course-sources/StackOverflowDeveloperSurvey.csv',\n",
    "                       usecols=['Country'], squeeze=True).dropna()\n",
    "countries.head()"
   ]
  },
  {
   "cell_type": "code",
   "execution_count": 6,
   "id": "b180cd34",
   "metadata": {},
   "outputs": [
    {
     "data": {
      "text/plain": [
       "69       Spain\n",
       "116      Spain\n",
       "201      Spain\n",
       "301      Spain\n",
       "334      Spain\n",
       "         ...  \n",
       "51060    Spain\n",
       "51156    Spain\n",
       "51222    Spain\n",
       "51333    Spain\n",
       "51367    Spain\n",
       "Name: Country, Length: 864, dtype: object"
      ]
     },
     "execution_count": 6,
     "metadata": {},
     "output_type": "execute_result"
    }
   ],
   "source": [
    "countries.where(countries == 'Spain').dropna()"
   ]
  },
  {
   "cell_type": "code",
   "execution_count": 9,
   "id": "c47230f2",
   "metadata": {},
   "outputs": [
    {
     "name": "stdout",
     "output_type": "stream",
     "text": [
      "False\n",
      "True\n",
      "False\n"
     ]
    }
   ],
   "source": [
    "print('Spain' in countries)\n",
    "print('Spain' in countries.values)\n",
    "print('Wonderland' in countries.values)"
   ]
  },
  {
   "cell_type": "markdown",
   "id": "dfdc5d63",
   "metadata": {},
   "source": [
    "## L012"
   ]
  },
  {
   "cell_type": "code",
   "execution_count": 12,
   "id": "bbb6ad32",
   "metadata": {},
   "outputs": [
    {
     "data": {
      "text/plain": [
       "0                         NaN\n",
       "1          20 to 99 employees\n",
       "2    10,000 or more employees\n",
       "3    10,000 or more employees\n",
       "4          10 to 19 employees\n",
       "Name: CompanySize, dtype: object"
      ]
     },
     "execution_count": 12,
     "metadata": {},
     "output_type": "execute_result"
    }
   ],
   "source": [
    "surveys = pd.read_csv('./course-files/course-sources/StackOverflowDeveloperSurvey.csv',\n",
    "                         usecols=['CompanySize'],\n",
    "                         squeeze=True,\n",
    "                         low_memory=False\n",
    "                         )\n",
    "surveys.head()"
   ]
  },
  {
   "cell_type": "code",
   "execution_count": 13,
   "id": "5bbc70b1",
   "metadata": {},
   "outputs": [
    {
     "data": {
      "text/plain": [
       "'10,000 or more employees'"
      ]
     },
     "execution_count": 13,
     "metadata": {},
     "output_type": "execute_result"
    }
   ],
   "source": [
    "surveys.loc[3]"
   ]
  },
  {
   "cell_type": "code",
   "execution_count": 14,
   "id": "1fbb9111",
   "metadata": {},
   "outputs": [
    {
     "data": {
      "text/plain": [
       "1           20 to 99 employees\n",
       "2     10,000 or more employees\n",
       "3     10,000 or more employees\n",
       "4           10 to 19 employees\n",
       "5                          NaN\n",
       "6           20 to 99 employees\n",
       "7      Fewer than 10 employees\n",
       "8     5,000 to 9,999 employees\n",
       "9                          NaN\n",
       "10        100 to 499 employees\n",
       "Name: CompanySize, dtype: object"
      ]
     },
     "execution_count": 14,
     "metadata": {},
     "output_type": "execute_result"
    }
   ],
   "source": [
    "surveys.loc[1:10]"
   ]
  },
  {
   "cell_type": "code",
   "execution_count": 15,
   "id": "b05a6c08",
   "metadata": {},
   "outputs": [
    {
     "data": {
      "text/plain": [
       "'20 to 99 employees'"
      ]
     },
     "execution_count": 15,
     "metadata": {},
     "output_type": "execute_result"
    }
   ],
   "source": [
    "surveys.loc[12345]"
   ]
  },
  {
   "cell_type": "code",
   "execution_count": 20,
   "id": "a7d5e250",
   "metadata": {},
   "outputs": [
    {
     "data": {
      "text/plain": [
       "12341                         NaN\n",
       "12342    1,000 to 4,999 employees\n",
       "12343    10,000 or more employees\n",
       "12344        100 to 499 employees\n",
       "12345          20 to 99 employees\n",
       "12346                         NaN\n",
       "12347     Fewer than 10 employees\n",
       "12348          20 to 99 employees\n",
       "12349          20 to 99 employees\n",
       "12350          20 to 99 employees\n",
       "Name: CompanySize, dtype: object"
      ]
     },
     "execution_count": 20,
     "metadata": {},
     "output_type": "execute_result"
    }
   ],
   "source": [
    "surveys.loc[12341:12350]"
   ]
  },
  {
   "cell_type": "code",
   "execution_count": 22,
   "id": "0af50ca5",
   "metadata": {},
   "outputs": [
    {
     "data": {
      "text/plain": [
       "('10,000 or more employees', '10,000 or more employees')"
      ]
     },
     "execution_count": 22,
     "metadata": {},
     "output_type": "execute_result"
    }
   ],
   "source": [
    "surveys.sort_values(inplace=True)\n",
    "surveys[3], surveys.loc[3]"
   ]
  },
  {
   "cell_type": "code",
   "execution_count": 23,
   "id": "cae8f6da",
   "metadata": {},
   "outputs": [
    {
     "data": {
      "text/plain": [
       "21923    1,000 to 4,999 employees\n",
       "48599    1,000 to 4,999 employees\n",
       "48597    1,000 to 4,999 employees\n",
       "8147     1,000 to 4,999 employees\n",
       "1223     1,000 to 4,999 employees\n",
       "Name: CompanySize, dtype: object"
      ]
     },
     "execution_count": 23,
     "metadata": {},
     "output_type": "execute_result"
    }
   ],
   "source": [
    "surveys.head()"
   ]
  },
  {
   "cell_type": "code",
   "execution_count": 24,
   "id": "7a3e0051",
   "metadata": {},
   "outputs": [
    {
     "data": {
      "text/plain": [
       "48599    1,000 to 4,999 employees\n",
       "48597    1,000 to 4,999 employees\n",
       "8147     1,000 to 4,999 employees\n",
       "1223     1,000 to 4,999 employees\n",
       "48591    1,000 to 4,999 employees\n",
       "18639    1,000 to 4,999 employees\n",
       "48630    1,000 to 4,999 employees\n",
       "34118    1,000 to 4,999 employees\n",
       "32839    1,000 to 4,999 employees\n",
       "17392    1,000 to 4,999 employees\n",
       "Name: CompanySize, dtype: object"
      ]
     },
     "execution_count": 24,
     "metadata": {},
     "output_type": "execute_result"
    }
   ],
   "source": [
    "surveys[1:11]"
   ]
  },
  {
   "cell_type": "code",
   "execution_count": 27,
   "id": "5293a273",
   "metadata": {},
   "outputs": [
    {
     "data": {
      "text/plain": [
       "Series([], Name: CompanySize, dtype: object)"
      ]
     },
     "execution_count": 27,
     "metadata": {},
     "output_type": "execute_result"
    }
   ],
   "source": [
    "surveys.loc[1:10]"
   ]
  },
  {
   "cell_type": "code",
   "execution_count": 29,
   "id": "be27ea69",
   "metadata": {},
   "outputs": [
    {
     "data": {
      "text/plain": [
       "48599    1,000 to 4,999 employees\n",
       "48597    1,000 to 4,999 employees\n",
       "8147     1,000 to 4,999 employees\n",
       "1223     1,000 to 4,999 employees\n",
       "48591    1,000 to 4,999 employees\n",
       "18639    1,000 to 4,999 employees\n",
       "48630    1,000 to 4,999 employees\n",
       "34118    1,000 to 4,999 employees\n",
       "32839    1,000 to 4,999 employees\n",
       "17392    1,000 to 4,999 employees\n",
       "Name: CompanySize, dtype: object"
      ]
     },
     "execution_count": 29,
     "metadata": {},
     "output_type": "execute_result"
    }
   ],
   "source": [
    "surveys.iloc[1:11]"
   ]
  },
  {
   "cell_type": "code",
   "execution_count": 30,
   "id": "b2aa9e37",
   "metadata": {},
   "outputs": [
    {
     "data": {
      "text/plain": [
       "'20 to 99 employees'"
      ]
     },
     "execution_count": 30,
     "metadata": {},
     "output_type": "execute_result"
    }
   ],
   "source": [
    "surveys[12345]"
   ]
  },
  {
   "cell_type": "code",
   "execution_count": 31,
   "id": "9a6db214",
   "metadata": {},
   "outputs": [
    {
     "data": {
      "text/plain": [
       "'20 to 99 employees'"
      ]
     },
     "execution_count": 31,
     "metadata": {},
     "output_type": "execute_result"
    }
   ],
   "source": [
    "surveys.loc[12345]"
   ]
  },
  {
   "cell_type": "code",
   "execution_count": 32,
   "id": "79b95e56",
   "metadata": {},
   "outputs": [
    {
     "data": {
      "text/plain": [
       "'1,000 to 4,999 employees'"
      ]
     },
     "execution_count": 32,
     "metadata": {},
     "output_type": "execute_result"
    }
   ],
   "source": [
    "surveys.reset_index(drop=True, inplace=True)\n",
    "surveys[3]"
   ]
  },
  {
   "cell_type": "code",
   "execution_count": 33,
   "id": "ac6d1403",
   "metadata": {},
   "outputs": [
    {
     "data": {
      "text/plain": [
       "0    1,000 to 4,999 employees\n",
       "1    1,000 to 4,999 employees\n",
       "2    1,000 to 4,999 employees\n",
       "3    1,000 to 4,999 employees\n",
       "4    1,000 to 4,999 employees\n",
       "Name: CompanySize, dtype: object"
      ]
     },
     "execution_count": 33,
     "metadata": {},
     "output_type": "execute_result"
    }
   ],
   "source": [
    "surveys.head()"
   ]
  },
  {
   "cell_type": "code",
   "execution_count": 34,
   "id": "0e985878",
   "metadata": {},
   "outputs": [
    {
     "data": {
      "text/plain": [
       "1     1,000 to 4,999 employees\n",
       "2     1,000 to 4,999 employees\n",
       "3     1,000 to 4,999 employees\n",
       "4     1,000 to 4,999 employees\n",
       "5     1,000 to 4,999 employees\n",
       "6     1,000 to 4,999 employees\n",
       "7     1,000 to 4,999 employees\n",
       "8     1,000 to 4,999 employees\n",
       "9     1,000 to 4,999 employees\n",
       "10    1,000 to 4,999 employees\n",
       "Name: CompanySize, dtype: object"
      ]
     },
     "execution_count": 34,
     "metadata": {},
     "output_type": "execute_result"
    }
   ],
   "source": [
    "surveys[1:11]"
   ]
  },
  {
   "cell_type": "code",
   "execution_count": 35,
   "id": "029171e4",
   "metadata": {},
   "outputs": [
    {
     "data": {
      "text/plain": [
       "'10,000 or more employees'"
      ]
     },
     "execution_count": 35,
     "metadata": {},
     "output_type": "execute_result"
    }
   ],
   "source": [
    "surveys.loc[12345]"
   ]
  },
  {
   "cell_type": "markdown",
   "id": "795df011",
   "metadata": {},
   "source": [
    "## L013"
   ]
  },
  {
   "cell_type": "code",
   "execution_count": 10,
   "id": "d0d412c8",
   "metadata": {},
   "outputs": [
    {
     "data": {
      "text/plain": [
       "Symbol\n",
       "AF            Afghanistan\n",
       "AL                Albania\n",
       "DZ                Algeria\n",
       "AD                Andorra\n",
       "AO                 Angola\n",
       "AI               Anguilla\n",
       "AQ             Antarctica\n",
       "AG    Antigua and Barbuda\n",
       "SA           Saudi Arabia\n",
       "AR              Argentina\n",
       "AM                Armenia\n",
       "AW                  Aruba\n",
       "AU              Australia\n",
       "AT                Austria\n",
       "AZ             Azerbaijan\n",
       "BS                Bahamas\n",
       "BH                Bahrain\n",
       "BD             Bangladesh\n",
       "BB               Barbados\n",
       "BE                Belgium\n",
       "BZ                 Belize\n",
       "Name: Name, dtype: object"
      ]
     },
     "execution_count": 10,
     "metadata": {},
     "output_type": "execute_result"
    }
   ],
   "source": [
    "countries = pd.read_csv('./course-files/course-sources/countries.csv',\n",
    "                        usecols=['Symbol', 'Name'],\n",
    "                        index_col='Symbol',\n",
    "                        squeeze=True)\n",
    "countries[:21]"
   ]
  },
  {
   "cell_type": "code",
   "execution_count": 11,
   "id": "48d489e7",
   "metadata": {},
   "outputs": [
    {
     "data": {
      "text/plain": [
       "Symbol\n",
       "AF            Afghanistan\n",
       "AL                Albania\n",
       "DZ                Algeria\n",
       "AD                Andorra\n",
       "AO                 Angola\n",
       "AI               Anguilla\n",
       "AQ             Antarctica\n",
       "AG    Antigua and Barbuda\n",
       "SA           Saudi Arabia\n",
       "AR              Argentina\n",
       "AM                Armenia\n",
       "AW                  Aruba\n",
       "AU              Australia\n",
       "AT                Austria\n",
       "AZ             Azerbaijan\n",
       "BS                Bahamas\n",
       "BH                Bahrain\n",
       "BD             Bangladesh\n",
       "BB               Barbados\n",
       "BE                Belgium\n",
       "BZ                 Belize\n",
       "Name: Name, dtype: object"
      ]
     },
     "execution_count": 11,
     "metadata": {},
     "output_type": "execute_result"
    }
   ],
   "source": [
    "countries.iloc[:21]"
   ]
  },
  {
   "cell_type": "code",
   "execution_count": 16,
   "id": "b982f96b",
   "metadata": {},
   "outputs": [
    {
     "name": "stdout",
     "output_type": "stream",
     "text": [
      "pd.__version__ = '1.2.4'\n",
      "France\n",
      "France\n",
      "France\n",
      "France\n"
     ]
    }
   ],
   "source": [
    "print(f\"{pd.__version__ = }\")\n",
    "print(countries['FR'])\n",
    "print(countries.at['FR'])\n",
    "print(countries.loc['FR'])\n",
    "print(countries.get('FR'))"
   ]
  },
  {
   "cell_type": "code",
   "execution_count": 14,
   "id": "855eb123",
   "metadata": {},
   "outputs": [
    {
     "name": "stdout",
     "output_type": "stream",
     "text": [
      "Austria\n",
      "Austria\n",
      "Austria\n",
      "Austria\n"
     ]
    }
   ],
   "source": [
    "print(countries[13])\n",
    "print(countries.iat[13])\n",
    "print(countries.iloc[13])\n",
    "print(countries.get(13))"
   ]
  },
  {
   "cell_type": "code",
   "execution_count": 15,
   "id": "13d75d5b",
   "metadata": {},
   "outputs": [
    {
     "name": "stdout",
     "output_type": "stream",
     "text": [
      "Symbol\n",
      "FI    Finland\n",
      "SE     Sweden\n",
      "NO     Norway\n",
      "Name: Name, dtype: object\n",
      "Symbol\n",
      "FI    Finland\n",
      "SE     Sweden\n",
      "NO     Norway\n",
      "Name: Name, dtype: object\n",
      "Symbol\n",
      "FI    Finland\n",
      "SE     Sweden\n",
      "NO     Norway\n",
      "Name: Name, dtype: object\n"
     ]
    }
   ],
   "source": [
    "nordic = [ \"FI\", \"SE\", \"NO\"]\n",
    "print(countries[nordic])\n",
    "print(countries.loc[nordic])\n",
    "print(countries.get(nordic))"
   ]
  },
  {
   "cell_type": "markdown",
   "id": "4ecd3695",
   "metadata": {},
   "source": [
    "## L014"
   ]
  },
  {
   "cell_type": "code",
   "execution_count": 17,
   "id": "fe742eff",
   "metadata": {},
   "outputs": [
    {
     "data": {
      "text/plain": [
       "Symbol\n",
       "AF            Afghanistan\n",
       "AL                Albania\n",
       "DZ                Algeria\n",
       "AD                Andorra\n",
       "AO                 Angola\n",
       "AI               Anguilla\n",
       "AQ             Antarctica\n",
       "AG    Antigua and Barbuda\n",
       "SA           Saudi Arabia\n",
       "AR              Argentina\n",
       "AM                Armenia\n",
       "AW                  Aruba\n",
       "AU              Australia\n",
       "AT                Austria\n",
       "AZ             Azerbaijan\n",
       "BS                Bahamas\n",
       "BH                Bahrain\n",
       "BD             Bangladesh\n",
       "BB               Barbados\n",
       "BE                Belgium\n",
       "BZ                 Belize\n",
       "Name: Name, dtype: object"
      ]
     },
     "execution_count": 17,
     "metadata": {},
     "output_type": "execute_result"
    }
   ],
   "source": [
    "countries = pd.read_csv('./course-files/course-sources/countries.csv',\n",
    "                       usecols=['Symbol', 'Name'],\n",
    "                       squeeze=True,\n",
    "                       index_col='Symbol')\n",
    "countries.dropna(inplace=True)\n",
    "countries.iloc[:21]"
   ]
  },
  {
   "cell_type": "markdown",
   "id": "aaf2fd95",
   "metadata": {},
   "source": [
    "### L015"
   ]
  },
  {
   "cell_type": "code",
   "execution_count": 20,
   "id": "becf8050",
   "metadata": {},
   "outputs": [
    {
     "name": "stdout",
     "output_type": "stream",
     "text": [
      "Int64Index([  1,   2,   3,   4,   5,   6,   7,   8,   9,  10,\n",
      "            ...\n",
      "            491, 492, 493, 494, 495, 496, 497, 498, 499, 500],\n",
      "           dtype='int64', name='Rank', length=500)\n"
     ]
    },
    {
     "data": {
      "text/plain": [
       "Rank\n",
       "1               Walmart\n",
       "2    Berkshire Hathaway\n",
       "3                 Apple\n",
       "4           Exxon Mobil\n",
       "5              McKesson\n",
       "Name: Title, dtype: object"
      ]
     },
     "execution_count": 20,
     "metadata": {},
     "output_type": "execute_result"
    }
   ],
   "source": [
    "fortune500 = pd.read_csv('./course-files/course-sources/Fortune_500_2017.csv',\n",
    "                        usecols=['Rank', 'Title'],\n",
    "                        squeeze=True,\n",
    "                        index_col='Rank')\n",
    "print(fortune500.index)\n",
    "fortune500.head()"
   ]
  },
  {
   "cell_type": "code",
   "execution_count": 19,
   "id": "344949f6",
   "metadata": {},
   "outputs": [
    {
     "data": {
      "text/plain": [
       "Int64Index([  1,   2,   3,   4,   5,   6,   7,   8,   9,  10,\n",
       "            ...\n",
       "            491, 492, 493, 494, 495, 496, 497, 498, 499, 500],\n",
       "           dtype='int64', name='Rank', length=500)"
      ]
     },
     "execution_count": 19,
     "metadata": {},
     "output_type": "execute_result"
    }
   ],
   "source": []
  },
  {
   "cell_type": "code",
   "execution_count": 26,
   "id": "0b625450",
   "metadata": {},
   "outputs": [
    {
     "name": "stdout",
     "output_type": "stream",
     "text": [
      "Rank\n",
      "1                Walmart\n",
      "2     Berkshire Hathaway\n",
      "3                  Apple\n",
      "4            Exxon Mobil\n",
      "5               McKesson\n",
      "6     UnitedHealth Group\n",
      "7             CVS Health\n",
      "8         General Motors\n",
      "9                   AT&T\n",
      "10            Ford Motor\n",
      "Name: Title, dtype: object\n",
      "Rank\n",
      "1                Walmart\n",
      "2     Berkshire Hathaway\n",
      "3                  Apple\n",
      "4            Exxon Mobil\n",
      "5               McKesson\n",
      "6     UnitedHealth Group\n",
      "7             CVS Health\n",
      "8         General Motors\n",
      "9                   AT&T\n",
      "10            Ford Motor\n",
      "Name: Title, dtype: object\n"
     ]
    }
   ],
   "source": [
    "print(fortune500.iloc[:10])\n",
    "print(fortune500.loc[:10])"
   ]
  },
  {
   "cell_type": "code",
   "execution_count": 39,
   "id": "bc7002bf",
   "metadata": {},
   "outputs": [
    {
     "name": "stdout",
     "output_type": "stream",
     "text": [
      "Rank\n",
      "481           Booz Allen Hamilton Holding\n",
      "482                              Chemours\n",
      "483    Western & Southern Financial Group\n",
      "484                              Celanese\n",
      "485                   Windstream Holdings\n",
      "486                              Seaboard\n",
      "487                             Essendant\n",
      "488                                Apache\n",
      "489                                Airgas\n",
      "490                        Kelly Services\n",
      "491                         Liberty Media\n",
      "492                      Rockwell Collins\n",
      "493             Robert Half International\n",
      "494                             CH2M Hill\n",
      "495                              Big Lots\n",
      "496                         Michaels Cos.\n",
      "497                         Toll Brothers\n",
      "498                                 Yahoo\n",
      "499                         Vistra Energy\n",
      "500                        ABM Industries\n",
      "Name: Title, dtype: object\n",
      "Rank\n",
      "1                 Walmart\n",
      "2      Berkshire Hathaway\n",
      "3                   Apple\n",
      "4             Exxon Mobil\n",
      "5                McKesson\n",
      "              ...        \n",
      "496         Michaels Cos.\n",
      "497         Toll Brothers\n",
      "498                 Yahoo\n",
      "499         Vistra Energy\n",
      "500        ABM Industries\n",
      "Name: Title, Length: 500, dtype: object\n",
      "Rank\n",
      "481           Booz Allen Hamilton Holding\n",
      "482                              Chemours\n",
      "483    Western & Southern Financial Group\n",
      "484                              Celanese\n",
      "485                   Windstream Holdings\n",
      "486                              Seaboard\n",
      "487                             Essendant\n",
      "488                                Apache\n",
      "489                                Airgas\n",
      "490                        Kelly Services\n",
      "491                         Liberty Media\n",
      "492                      Rockwell Collins\n",
      "493             Robert Half International\n",
      "494                             CH2M Hill\n",
      "495                              Big Lots\n",
      "496                         Michaels Cos.\n",
      "497                         Toll Brothers\n",
      "498                                 Yahoo\n",
      "499                         Vistra Energy\n",
      "500                        ABM Industries\n",
      "Name: Title, dtype: object\n"
     ]
    }
   ],
   "source": [
    "print(fortune500.iloc[-20:])\n",
    "print(fortune500.loc[-20:])  # works but doesn't well\n",
    "print(fortune500[-20:])"
   ]
  },
  {
   "cell_type": "code",
   "execution_count": 50,
   "id": "88d024d6",
   "metadata": {},
   "outputs": [
    {
     "name": "stdout",
     "output_type": "stream",
     "text": [
      "Title\n",
      "Apple       116000\n",
      "Alphabet     72053\n",
      "IBM         414400\n",
      "Facebook     17048\n",
      "Name: Employees, dtype: int64\n"
     ]
    },
    {
     "data": {
      "text/plain": [
       "Title\n",
       "IBM                  414400.0\n",
       "Alphabet (Google)         NaN\n",
       "Alphabet              72053.0\n",
       "Google                    NaN\n",
       "Facebook              17048.0\n",
       "Apple                116000.0\n",
       "Name: Employees, dtype: float64"
      ]
     },
     "execution_count": 50,
     "metadata": {},
     "output_type": "execute_result"
    }
   ],
   "source": [
    "fortune500emp = pd.read_csv('./course-files/course-sources/Fortune_500_2017.csv',\n",
    "                        squeeze=True,\n",
    "                        usecols=['Title', 'Employees'],\n",
    "                        index_col='Title')\n",
    "filterCompanies = ['IBM', 'Alphabet (Google)', 'Alphabet', 'Google', 'Facebook', 'Apple']\n",
    "print(fortune500emp.loc[fortune500emp.index.intersection(filterCompanies)])\n",
    "fortune500emp.reindex(filterCompanies)"
   ]
  },
  {
   "cell_type": "code",
   "execution_count": 56,
   "id": "766c5bfe",
   "metadata": {},
   "outputs": [
    {
     "data": {
      "text/plain": [
       "True"
      ]
     },
     "execution_count": 56,
     "metadata": {},
     "output_type": "execute_result"
    }
   ],
   "source": [
    "all(fortune500emp.head(20) == fortune500emp[:20])"
   ]
  },
  {
   "cell_type": "markdown",
   "id": "7f69837f",
   "metadata": {},
   "source": [
    "## L016"
   ]
  },
  {
   "cell_type": "code",
   "execution_count": 60,
   "id": "b51b6831",
   "metadata": {},
   "outputs": [
    {
     "data": {
      "text/plain": [
       "0        NaN\n",
       "1    70841.0\n",
       "2        NaN\n",
       "3        NaN\n",
       "4    21426.0\n",
       "Name: ConvertedSalary, dtype: float64"
      ]
     },
     "execution_count": 60,
     "metadata": {},
     "output_type": "execute_result"
    }
   ],
   "source": [
    "programmers = pd.read_csv('./course-files/course-sources/StackOverflowDeveloperSurvey2018.csv',\n",
    "                         usecols=['ConvertedSalary'],\n",
    "                         squeeze=True,\n",
    "                         low_memory=False)\n",
    "programmers.head()"
   ]
  },
  {
   "cell_type": "code",
   "execution_count": 62,
   "id": "c998c3f9",
   "metadata": {},
   "outputs": [
    {
     "name": "stdout",
     "output_type": "stream",
     "text": [
      "programmers.mean() = 95780.86178776571\n",
      "programmers.median() = 55075.0\n",
      "programmers.std() = 202348.21562528735\n"
     ]
    }
   ],
   "source": [
    "print(f\"{programmers.mean() = }\",\n",
    "     f\"{programmers.median() = }\",\n",
    "     f\"{programmers.std() = }\",\n",
    "     sep='\\n')"
   ]
  },
  {
   "cell_type": "code",
   "execution_count": 63,
   "id": "9c0cdd02",
   "metadata": {},
   "outputs": [
    {
     "data": {
      "text/plain": [
       "2000000.0"
      ]
     },
     "execution_count": 63,
     "metadata": {},
     "output_type": "execute_result"
    }
   ],
   "source": [
    "programmers.max()"
   ]
  },
  {
   "cell_type": "code",
   "execution_count": 66,
   "id": "469f33c2",
   "metadata": {},
   "outputs": [
    {
     "data": {
      "text/plain": [
       "Title\n",
       "Walmart               2300000\n",
       "Berkshire Hathaway     367700\n",
       "Apple                  116000\n",
       "Exxon Mobil             72700\n",
       "McKesson                68000\n",
       "Name: Employees, dtype: int64"
      ]
     },
     "execution_count": 66,
     "metadata": {},
     "output_type": "execute_result"
    }
   ],
   "source": [
    "fortune500 = pd.read_csv('./course-files/course-sources/Fortune_500_2017.csv',\n",
    "                        usecols=['Title', 'Employees'],\n",
    "                        index_col='Title',\n",
    "                        squeeze=True)\n",
    "fortune500.head()"
   ]
  },
  {
   "cell_type": "code",
   "execution_count": 67,
   "id": "26307180",
   "metadata": {},
   "outputs": [
    {
     "data": {
      "text/plain": [
       "'Walmart'"
      ]
     },
     "execution_count": 67,
     "metadata": {},
     "output_type": "execute_result"
    }
   ],
   "source": [
    "fortune500.idxmax()"
   ]
  },
  {
   "cell_type": "code",
   "execution_count": 68,
   "id": "1569cf1e",
   "metadata": {},
   "outputs": [
    {
     "data": {
      "text/plain": [
       "2300000"
      ]
     },
     "execution_count": 68,
     "metadata": {},
     "output_type": "execute_result"
    }
   ],
   "source": [
    "fortune500.loc[fortune500.idxmax()]"
   ]
  },
  {
   "cell_type": "code",
   "execution_count": 70,
   "id": "8fc9eb35",
   "metadata": {},
   "outputs": [
    {
     "data": {
      "text/plain": [
       "'A-Mark Precious Metals'"
      ]
     },
     "execution_count": 70,
     "metadata": {},
     "output_type": "execute_result"
    }
   ],
   "source": [
    "fortune500.idxmin()"
   ]
  },
  {
   "cell_type": "code",
   "execution_count": 69,
   "id": "6b8e2a08",
   "metadata": {},
   "outputs": [
    {
     "data": {
      "text/plain": [
       "83"
      ]
     },
     "execution_count": 69,
     "metadata": {},
     "output_type": "execute_result"
    }
   ],
   "source": [
    "fortune500.loc[fortune500.idxmin()]"
   ]
  },
  {
   "cell_type": "markdown",
   "id": "2500414e",
   "metadata": {},
   "source": [
    "## L017"
   ]
  },
  {
   "cell_type": "code",
   "execution_count": 75,
   "id": "0b5aa770",
   "metadata": {},
   "outputs": [
    {
     "name": "stdout",
     "output_type": "stream",
     "text": [
      "2     113750.0\n",
      "14    100000.0\n",
      "17    130000.0\n",
      "18     82500.0\n",
      "22    100764.0\n",
      "Name: Salary, dtype: float64\n"
     ]
    },
    {
     "data": {
      "text/plain": [
       "2     113750.0\n",
       "14    100000.0\n",
       "17    130000.0\n",
       "18     82500.0\n",
       "22    100764.0\n",
       "Name: Salary, dtype: float64"
      ]
     },
     "execution_count": 75,
     "metadata": {},
     "output_type": "execute_result"
    }
   ],
   "source": [
    "surveys = pd.read_csv('./course-files/course-sources/StackOverflowDeveloperSurvey.csv',\n",
    "                     usecols=['Salary'],\n",
    "                     squeeze=True).dropna()\n",
    "print(surveys.iloc[:5])\n",
    "surveys.head()"
   ]
  },
  {
   "cell_type": "code",
   "execution_count": 76,
   "id": "413d4223",
   "metadata": {},
   "outputs": [
    {
     "data": {
      "text/plain": [
       "12891"
      ]
     },
     "execution_count": 76,
     "metadata": {},
     "output_type": "execute_result"
    }
   ],
   "source": [
    "surveys.size"
   ]
  },
  {
   "cell_type": "code",
   "execution_count": 78,
   "id": "6f8022d0",
   "metadata": {},
   "outputs": [
    {
     "data": {
      "text/plain": [
       "2     3412.50\n",
       "14    3000.00\n",
       "17    3900.00\n",
       "18    2475.00\n",
       "22    3022.92\n",
       "Name: Salary, dtype: float64"
      ]
     },
     "execution_count": 78,
     "metadata": {},
     "output_type": "execute_result"
    }
   ],
   "source": [
    "surveysIncrease = surveys * .03\n",
    "surveysIncrease.iloc[:5]"
   ]
  },
  {
   "cell_type": "code",
   "execution_count": 80,
   "id": "52811a7f",
   "metadata": {},
   "outputs": [
    {
     "data": {
      "text/plain": [
       "2     117162.50\n",
       "14    103000.00\n",
       "17    133900.00\n",
       "18     84975.00\n",
       "22    103786.92\n",
       "Name: Salary, dtype: float64"
      ]
     },
     "execution_count": 80,
     "metadata": {},
     "output_type": "execute_result"
    }
   ],
   "source": [
    "surveysAfterIncrease = surveys + surveysIncrease\n",
    "surveysAfterIncrease.iloc[:5]"
   ]
  },
  {
   "cell_type": "code",
   "execution_count": 82,
   "id": "5c114b8c",
   "metadata": {},
   "outputs": [
    {
     "data": {
      "text/plain": [
       "0             1 - 2 hours\n",
       "1         30 - 59 minutes\n",
       "3    Less than 30 minutes\n",
       "4             1 - 2 hours\n",
       "5         30 - 59 minutes\n",
       "Name: HoursOutside, dtype: object"
      ]
     },
     "execution_count": 82,
     "metadata": {},
     "output_type": "execute_result"
    }
   ],
   "source": [
    "surveysTime = pd.read_csv('./course-files/course-sources/StackOverflowDeveloperSurvey2018.csv',\n",
    "                          usecols=['HoursOutside'],\n",
    "                          squeeze=True,\n",
    "                          low_memory=False).dropna()\n",
    "surveysTime.iloc[:5]"
   ]
  },
  {
   "cell_type": "code",
   "execution_count": 83,
   "id": "fa9c4fd4",
   "metadata": {},
   "outputs": [
    {
     "data": {
      "text/plain": [
       "1 - 2 hours             27788\n",
       "30 - 59 minutes         24002\n",
       "Less than 30 minutes    11223\n",
       "3 - 4 hours              7186\n",
       "Over 4 hours             1825\n",
       "Name: HoursOutside, dtype: int64"
      ]
     },
     "execution_count": 83,
     "metadata": {},
     "output_type": "execute_result"
    }
   ],
   "source": [
    "surveysTime.value_counts()"
   ]
  },
  {
   "cell_type": "code",
   "execution_count": 85,
   "id": "91f88372",
   "metadata": {},
   "outputs": [
    {
     "data": {
      "text/plain": [
       "0             1 - 2 hours\n",
       "1         30 - 59 minutes\n",
       "3    less than 30 minutes\n",
       "4             1 - 2 hours\n",
       "5         30 - 59 minutes\n",
       "Name: HoursOutside, dtype: object"
      ]
     },
     "execution_count": 85,
     "metadata": {},
     "output_type": "execute_result"
    }
   ],
   "source": [
    "surveysTime.str.lower().head()"
   ]
  },
  {
   "cell_type": "code",
   "execution_count": 87,
   "id": "868a4fdc",
   "metadata": {},
   "outputs": [
    {
     "data": {
      "text/plain": [
       "0             1 - 2 HOURS\n",
       "1         30 - 59 MINUTES\n",
       "3    LESS THAN 30 MINUTES\n",
       "4             1 - 2 HOURS\n",
       "5         30 - 59 MINUTES\n",
       "Name: HoursOutside, dtype: object"
      ]
     },
     "execution_count": 87,
     "metadata": {},
     "output_type": "execute_result"
    }
   ],
   "source": [
    "surveysTime = surveysTime.apply(lambda x_text: x_text.upper())\n",
    "surveysTime.head()"
   ]
  },
  {
   "cell_type": "code",
   "execution_count": 89,
   "id": "95669730",
   "metadata": {},
   "outputs": [],
   "source": [
    "def change_description(text_to_change: str) -> str:\n",
    "    if text_to_change == 'LESS THAN 30 MINUTES':\n",
    "        return 'LESS THAN HALF HOUR'\n",
    "    else:\n",
    "        return text_to_change"
   ]
  },
  {
   "cell_type": "code",
   "execution_count": 91,
   "id": "d82d4417",
   "metadata": {},
   "outputs": [
    {
     "data": {
      "text/plain": [
       "0            1 - 2 HOURS\n",
       "1        30 - 59 MINUTES\n",
       "3    LESS THAN HALF HOUR\n",
       "4            1 - 2 HOURS\n",
       "5        30 - 59 MINUTES\n",
       "Name: HoursOutside, dtype: object"
      ]
     },
     "execution_count": 91,
     "metadata": {},
     "output_type": "execute_result"
    }
   ],
   "source": [
    "surveysTime.apply(change_description).head()"
   ]
  },
  {
   "cell_type": "markdown",
   "id": "2af2e264",
   "metadata": {},
   "source": [
    "### Conclusion"
   ]
  },
  {
   "cell_type": "markdown",
   "id": "ce011806",
   "metadata": {},
   "source": [
    "> ;) świeże powietrze musi być bardzo szkodliwe, skoro tak mała liczba programistów, którzy wyszli na więcej niż 4 godziny przeżyła....\n",
    "\n",
    "said author ;-)"
   ]
  },
  {
   "cell_type": "markdown",
   "id": "a8de1371",
   "metadata": {},
   "source": [
    "## "
   ]
  },
  {
   "cell_type": "markdown",
   "id": "d8702666",
   "metadata": {},
   "source": [
    "## L018"
   ]
  },
  {
   "cell_type": "code",
   "execution_count": 2,
   "id": "c5573e4b",
   "metadata": {},
   "outputs": [
    {
     "data": {
      "text/plain": [
       "{'PYT001': 'Airbus 320', 'PYT002': 'Boeing 737', 'PYT003': 'Airbus 321'}"
      ]
     },
     "execution_count": 2,
     "metadata": {},
     "output_type": "execute_result"
    }
   ],
   "source": [
    "aircrafts_dict = dict(PYT001='Airbus 320',\n",
    "                      PYT002='Boeing 737',\n",
    "                      PYT003='Airbus 321')\n",
    "aircrafts_dict"
   ]
  },
  {
   "cell_type": "code",
   "execution_count": 3,
   "id": "14553acf",
   "metadata": {},
   "outputs": [
    {
     "data": {
      "text/plain": [
       "PYT001    Airbus 320\n",
       "PYT002    Boeing 737\n",
       "PYT003    Airbus 321\n",
       "dtype: object"
      ]
     },
     "execution_count": 3,
     "metadata": {},
     "output_type": "execute_result"
    }
   ],
   "source": [
    "aircrafts = pd.Series(aircrafts_dict, index=aircrafts_dict.keys())\n",
    "aircrafts"
   ]
  },
  {
   "cell_type": "code",
   "execution_count": 4,
   "id": "8eb74e43",
   "metadata": {},
   "outputs": [
    {
     "name": "stdout",
     "output_type": "stream",
     "text": [
      "Index(['PYT001', 'PYT002', 'PYT003'], dtype='object')\n",
      "Index(['PYT001', 'PYT002', 'PYT003'], dtype='object')\n",
      "[Index(['PYT001', 'PYT002', 'PYT003'], dtype='object')]\n"
     ]
    }
   ],
   "source": [
    "print(aircrafts.keys())\n",
    "print(aircrafts.index)\n",
    "print(aircrafts.axes)"
   ]
  },
  {
   "cell_type": "code",
   "execution_count": 5,
   "id": "b89d3635",
   "metadata": {},
   "outputs": [
    {
     "data": {
      "text/plain": [
       "1"
      ]
     },
     "execution_count": 5,
     "metadata": {},
     "output_type": "execute_result"
    }
   ],
   "source": [
    "rnd.randint(0,2)"
   ]
  },
  {
   "cell_type": "code",
   "execution_count": 6,
   "id": "9f6127b2",
   "metadata": {},
   "outputs": [
    {
     "data": {
      "text/plain": [
       "3"
      ]
     },
     "execution_count": 6,
     "metadata": {},
     "output_type": "execute_result"
    }
   ],
   "source": [
    "aircrafts.index.size"
   ]
  },
  {
   "cell_type": "code",
   "execution_count": 12,
   "id": "ff977750",
   "metadata": {
    "scrolled": false
   },
   "outputs": [
    {
     "name": "stdout",
     "output_type": "stream",
     "text": [
      "100\n"
     ]
    },
    {
     "data": {
      "text/plain": [
       "['PYT002', 'PYT003', 'PYT003', 'PYT001', 'PYT001']"
      ]
     },
     "execution_count": 12,
     "metadata": {},
     "output_type": "execute_result"
    }
   ],
   "source": [
    "flights_list = list()\n",
    "for i in range(100):\n",
    "    flights_list.append(\n",
    "        aircrafts.index[rnd.randint(0, aircrafts.index.size - 1)]\n",
    "    )\n",
    "print(len(flights_list))\n",
    "flights_list[:5]"
   ]
  },
  {
   "cell_type": "code",
   "execution_count": 13,
   "id": "07a7fb4d",
   "metadata": {},
   "outputs": [
    {
     "data": {
      "text/plain": [
       "0    PYT002\n",
       "1    PYT003\n",
       "2    PYT003\n",
       "3    PYT001\n",
       "4    PYT001\n",
       "dtype: object"
      ]
     },
     "execution_count": 13,
     "metadata": {},
     "output_type": "execute_result"
    }
   ],
   "source": [
    "flights = pd.Series(data=flights_list)\n",
    "flights.iloc[:5]"
   ]
  },
  {
   "cell_type": "code",
   "execution_count": 14,
   "id": "4d1077b3",
   "metadata": {},
   "outputs": [
    {
     "data": {
      "text/plain": [
       "0    Boeing 737\n",
       "1    Airbus 321\n",
       "2    Airbus 321\n",
       "3    Airbus 320\n",
       "4    Airbus 320\n",
       "dtype: object"
      ]
     },
     "execution_count": 14,
     "metadata": {},
     "output_type": "execute_result"
    }
   ],
   "source": [
    "flights.map(aircrafts).iloc[:5]"
   ]
  },
  {
   "cell_type": "code",
   "execution_count": null,
   "id": "51a03399",
   "metadata": {},
   "outputs": [],
   "source": []
  }
 ],
 "metadata": {
  "kernelspec": {
   "display_name": "Python 3",
   "language": "python",
   "name": "python3"
  },
  "language_info": {
   "codemirror_mode": {
    "name": "ipython",
    "version": 3
   },
   "file_extension": ".py",
   "mimetype": "text/x-python",
   "name": "python",
   "nbconvert_exporter": "python",
   "pygments_lexer": "ipython3",
   "version": "3.8.10"
  }
 },
 "nbformat": 4,
 "nbformat_minor": 5
}
