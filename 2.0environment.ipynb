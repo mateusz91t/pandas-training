{
 "cells": [
  {
   "cell_type": "code",
   "execution_count": 16,
   "id": "168b09d9",
   "metadata": {},
   "outputs": [
    {
     "name": "stdout",
     "output_type": "stream",
     "text": [
      "helo\n"
     ]
    },
    {
     "data": {
      "text/plain": [
       "3"
      ]
     },
     "execution_count": 16,
     "metadata": {},
     "output_type": "execute_result"
    }
   ],
   "source": [
    "print(\"helo\")\n",
    "3"
   ]
  },
  {
   "cell_type": "code",
   "execution_count": 15,
   "id": "b0f01d5c",
   "metadata": {},
   "outputs": [
    {
     "data": {
      "text/plain": [
       "5"
      ]
     },
     "execution_count": 15,
     "metadata": {},
     "output_type": "execute_result"
    }
   ],
   "source": [
    "5"
   ]
  },
  {
   "cell_type": "code",
   "execution_count": null,
   "id": "69b44e42",
   "metadata": {},
   "outputs": [],
   "source": []
  },
  {
   "cell_type": "markdown",
   "id": "9cfffe0b",
   "metadata": {},
   "source": [
    "asd"
   ]
  },
  {
   "cell_type": "markdown",
   "id": "034a4d1a",
   "metadata": {},
   "source": [
    "# Pierwszy akapit..."
   ]
  },
  {
   "cell_type": "code",
   "execution_count": 4,
   "id": "a72fdd26",
   "metadata": {},
   "outputs": [
    {
     "data": {
      "text/plain": [
       "False"
      ]
     },
     "execution_count": 4,
     "metadata": {},
     "output_type": "execute_result"
    }
   ],
   "source": [
    "False"
   ]
  },
  {
   "cell_type": "markdown",
   "id": "066ad586",
   "metadata": {},
   "source": [
    "## pierwszy podakapit"
   ]
  },
  {
   "cell_type": "code",
   "execution_count": 14,
   "id": "e57fe8d9",
   "metadata": {},
   "outputs": [
    {
     "data": {
      "text/plain": [
       "7"
      ]
     },
     "execution_count": 14,
     "metadata": {},
     "output_type": "execute_result"
    }
   ],
   "source": [
    "6\n",
    "7"
   ]
  },
  {
   "cell_type": "markdown",
   "id": "930e29cd",
   "metadata": {},
   "source": [
    "# Formatowanie markdown\n",
    "## h2\n",
    "_tralala:_\n",
    "__asd__\n",
    "- asd\n",
    "- asd\n",
    "- bsa\n",
    "\n",
    "*asdsad*\n",
    "+ **asdasd**\n",
    "+ dasd\n",
    "\n",
    "## h2\n",
    "* sda sda\n",
    "* ![Logo dopaminy](course-files/pic.jpg)\n",
    "* ![logo numpy](https://upload.wikimedia.org/wikipedia/commons/3/31/NumPy_logo_2020.svg)\n",
    "[oznaczenie linku](https:www.stronalinku.com)\n",
    "* for x in range(10):\n",
    "    print(x)\n",
    "    \n",
    "        for x in range(10):\n",
    "            print(x)\n",
    "* ```py\n",
    "for x in range(10):\n",
    "    print(x)\n",
    "```\n",
    "\n",
    "* 2*2*2\n",
    "* 2\\*2\\*2"
   ]
  },
  {
   "cell_type": "markdown",
   "id": "dd130440",
   "metadata": {},
   "source": [
    "jakiś wzór: $e^x=\\sum_{i=0}^\\infty \\frac{1}{i!}x^i$"
   ]
  },
  {
   "cell_type": "code",
   "execution_count": null,
   "id": "38abec31",
   "metadata": {},
   "outputs": [],
   "source": []
  }
 ],
 "metadata": {
  "kernelspec": {
   "display_name": "Python 3",
   "language": "python",
   "name": "python3"
  },
  "language_info": {
   "codemirror_mode": {
    "name": "ipython",
    "version": 3
   },
   "file_extension": ".py",
   "mimetype": "text/x-python",
   "name": "python",
   "nbconvert_exporter": "python",
   "pygments_lexer": "ipython3",
   "version": "3.8.10"
  }
 },
 "nbformat": 4,
 "nbformat_minor": 5
}
