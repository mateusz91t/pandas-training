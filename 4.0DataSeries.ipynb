{
 "cells": [
  {
   "cell_type": "markdown",
   "id": "21d0cadb",
   "metadata": {},
   "source": [
    "# Data Series"
   ]
  },
  {
   "cell_type": "markdown",
   "id": "4ce1d716",
   "metadata": {},
   "source": [
    "## Properties"
   ]
  },
  {
   "cell_type": "code",
   "execution_count": 4,
   "id": "cf85c743",
   "metadata": {},
   "outputs": [],
   "source": [
    "import pandas as pd\n",
    "import numpy as np\n",
    "import matplotlib.pyplot as plt\n",
    "import math"
   ]
  },
  {
   "cell_type": "code",
   "execution_count": 2,
   "id": "8b5cc28f",
   "metadata": {
    "collapsed": true
   },
   "outputs": [],
   "source": [
    "%matplotlib inline"
   ]
  },
  {
   "cell_type": "markdown",
   "id": "49d76954",
   "metadata": {},
   "source": [
    "### 1"
   ]
  },
  {
   "cell_type": "code",
   "execution_count": 3,
   "id": "e2139fc9",
   "metadata": {},
   "outputs": [
    {
     "name": "stdout",
     "output_type": "stream",
     "text": [
      "<class 'list'>\n"
     ]
    },
    {
     "data": {
      "text/plain": [
       "['London', 'Berlin', 'Warsaw', 'Paris']"
      ]
     },
     "execution_count": 3,
     "metadata": {},
     "output_type": "execute_result"
    }
   ],
   "source": [
    "cities = ['London', 'Berlin', 'Warsaw', 'Paris']\n",
    "print(type(cities))\n",
    "cities"
   ]
  },
  {
   "cell_type": "code",
   "execution_count": 4,
   "id": "1c7f0be7",
   "metadata": {},
   "outputs": [
    {
     "data": {
      "text/plain": [
       "0    London\n",
       "1    Berlin\n",
       "2    Warsaw\n",
       "3     Paris\n",
       "dtype: object"
      ]
     },
     "execution_count": 4,
     "metadata": {},
     "output_type": "execute_result"
    }
   ],
   "source": [
    "pd.Series(cities)"
   ]
  },
  {
   "cell_type": "code",
   "execution_count": 5,
   "id": "9112aec7",
   "metadata": {},
   "outputs": [
    {
     "name": "stdout",
     "output_type": "stream",
     "text": [
      "<class 'tuple'>\n"
     ]
    },
    {
     "data": {
      "text/plain": [
       "(2, 3, 5, 7, 11, 13, 17, 19)"
      ]
     },
     "execution_count": 5,
     "metadata": {},
     "output_type": "execute_result"
    }
   ],
   "source": [
    "prime_numbers = (2,3,5,7,11,13,17,19)\n",
    "print(type(prime_numbers))\n",
    "prime_numbers"
   ]
  },
  {
   "cell_type": "code",
   "execution_count": 6,
   "id": "837546b9",
   "metadata": {},
   "outputs": [
    {
     "data": {
      "text/plain": [
       "0     2\n",
       "1     3\n",
       "2     5\n",
       "3     7\n",
       "4    11\n",
       "5    13\n",
       "6    17\n",
       "7    19\n",
       "dtype: int64"
      ]
     },
     "execution_count": 6,
     "metadata": {},
     "output_type": "execute_result"
    }
   ],
   "source": [
    "pd.Series(prime_numbers)"
   ]
  },
  {
   "cell_type": "code",
   "execution_count": 7,
   "id": "2c7e31d1",
   "metadata": {},
   "outputs": [
    {
     "data": {
      "text/plain": [
       "0     True\n",
       "1    False\n",
       "2     True\n",
       "dtype: bool"
      ]
     },
     "execution_count": 7,
     "metadata": {},
     "output_type": "execute_result"
    }
   ],
   "source": [
    "logical_values = [True, False, True]\n",
    "pd.Series(logical_values)"
   ]
  },
  {
   "cell_type": "code",
   "execution_count": 8,
   "id": "5ca7f4f0",
   "metadata": {
    "scrolled": true
   },
   "outputs": [
    {
     "data": {
      "text/plain": [
       "{'Jaws': 1975,\n",
       " '1941': 1979,\n",
       " 'Indiana Jones and the raiders of the Lost Ark': 1981,\n",
       " 'E.T. the Extra-Terrestrial': 1982}"
      ]
     },
     "execution_count": 8,
     "metadata": {},
     "output_type": "execute_result"
    }
   ],
   "source": [
    "SpielbergFilmography = {\n",
    "    'Jaws': 1975,\n",
    "    '1941': 1979,\n",
    "    'Indiana Jones and the raiders of the Lost Ark': 1981,\n",
    "    'E.T. the Extra-Terrestrial': 1982\n",
    "}\n",
    "SpielbergFilmography"
   ]
  },
  {
   "cell_type": "code",
   "execution_count": 9,
   "id": "d9263e9c",
   "metadata": {},
   "outputs": [
    {
     "data": {
      "text/plain": [
       "Jaws                                             1975\n",
       "1941                                             1979\n",
       "Indiana Jones and the raiders of the Lost Ark    1981\n",
       "E.T. the Extra-Terrestrial                       1982\n",
       "dtype: int64"
      ]
     },
     "execution_count": 9,
     "metadata": {},
     "output_type": "execute_result"
    }
   ],
   "source": [
    "pd.Series(SpielbergFilmography)"
   ]
  },
  {
   "cell_type": "markdown",
   "id": "4f64ac0a",
   "metadata": {},
   "source": [
    "### 2"
   ]
  },
  {
   "cell_type": "code",
   "execution_count": 10,
   "id": "e02742bf",
   "metadata": {},
   "outputs": [
    {
     "data": {
      "text/plain": [
       "0    London\n",
       "1    Berlin\n",
       "2    Warsaw\n",
       "3     Paris\n",
       "dtype: object"
      ]
     },
     "execution_count": 10,
     "metadata": {},
     "output_type": "execute_result"
    }
   ],
   "source": [
    "citiesSeries = pd.Series(cities)\n",
    "citiesSeries"
   ]
  },
  {
   "cell_type": "code",
   "execution_count": 11,
   "id": "d172f40e",
   "metadata": {},
   "outputs": [
    {
     "data": {
      "text/plain": [
       "4"
      ]
     },
     "execution_count": 11,
     "metadata": {},
     "output_type": "execute_result"
    }
   ],
   "source": [
    "citiesSeries.size  # size of my Series"
   ]
  },
  {
   "cell_type": "code",
   "execution_count": 12,
   "id": "7f0ba7b8",
   "metadata": {},
   "outputs": [
    {
     "data": {
      "text/plain": [
       "32"
      ]
     },
     "execution_count": 12,
     "metadata": {},
     "output_type": "execute_result"
    }
   ],
   "source": [
    "citiesSeries.nbytes  # how much memory cost my object"
   ]
  },
  {
   "cell_type": "code",
   "execution_count": 13,
   "id": "7346b2a3",
   "metadata": {},
   "outputs": [
    {
     "data": {
      "text/plain": [
       "True"
      ]
     },
     "execution_count": 13,
     "metadata": {},
     "output_type": "execute_result"
    }
   ],
   "source": [
    "citiesSeries.is_unique"
   ]
  },
  {
   "cell_type": "code",
   "execution_count": 14,
   "id": "19b08604",
   "metadata": {},
   "outputs": [
    {
     "data": {
      "text/plain": [
       "False"
      ]
     },
     "execution_count": 14,
     "metadata": {},
     "output_type": "execute_result"
    }
   ],
   "source": [
    "citiesSeries.is_monotonic  # sorted?"
   ]
  },
  {
   "cell_type": "code",
   "execution_count": 15,
   "id": "accfb82a",
   "metadata": {},
   "outputs": [
    {
     "data": {
      "text/plain": [
       "RangeIndex(start=0, stop=4, step=1)"
      ]
     },
     "execution_count": 15,
     "metadata": {},
     "output_type": "execute_result"
    }
   ],
   "source": [
    "citiesSeries.index  # what is index of the Series?"
   ]
  },
  {
   "cell_type": "code",
   "execution_count": 16,
   "id": "523fdba5",
   "metadata": {},
   "outputs": [
    {
     "data": {
      "text/plain": [
       "array(['London', 'Berlin', 'Warsaw', 'Paris'], dtype=object)"
      ]
     },
     "execution_count": 16,
     "metadata": {},
     "output_type": "execute_result"
    }
   ],
   "source": [
    "citiesSeries.values"
   ]
  },
  {
   "cell_type": "code",
   "execution_count": 17,
   "id": "1d842a75",
   "metadata": {},
   "outputs": [
    {
     "data": {
      "text/plain": [
       "dtype('O')"
      ]
     },
     "execution_count": 17,
     "metadata": {},
     "output_type": "execute_result"
    }
   ],
   "source": [
    "citiesSeries.dtype  # type of object e.g. 'O' like Object"
   ]
  },
  {
   "cell_type": "code",
   "execution_count": 18,
   "id": "b386c302",
   "metadata": {},
   "outputs": [
    {
     "data": {
      "text/plain": [
       "(4,)"
      ]
     },
     "execution_count": 18,
     "metadata": {},
     "output_type": "execute_result"
    }
   ],
   "source": [
    "citiesSeries.shape  # how many dimensions [wymiarów]"
   ]
  },
  {
   "cell_type": "code",
   "execution_count": 19,
   "id": "e5b50f25",
   "metadata": {},
   "outputs": [
    {
     "data": {
      "text/plain": [
       "[RangeIndex(start=0, stop=4, step=1)]"
      ]
     },
     "execution_count": 19,
     "metadata": {},
     "output_type": "execute_result"
    }
   ],
   "source": [
    "citiesSeries.axes"
   ]
  },
  {
   "cell_type": "code",
   "execution_count": 20,
   "id": "8a481824",
   "metadata": {},
   "outputs": [
    {
     "data": {
      "text/plain": [
       "0     1\n",
       "1     2\n",
       "2     3\n",
       "3    67\n",
       "4    99\n",
       "dtype: int64"
      ]
     },
     "execution_count": 20,
     "metadata": {},
     "output_type": "execute_result"
    }
   ],
   "source": [
    "monotonicSeries = pd.Series([1,2,3,67,99])\n",
    "monotonicSeries"
   ]
  },
  {
   "cell_type": "code",
   "execution_count": 21,
   "id": "9b93cc9e",
   "metadata": {},
   "outputs": [
    {
     "data": {
      "text/plain": [
       "True"
      ]
     },
     "execution_count": 21,
     "metadata": {},
     "output_type": "execute_result"
    }
   ],
   "source": [
    "monotonicSeries.is_monotonic"
   ]
  },
  {
   "cell_type": "code",
   "execution_count": 22,
   "id": "105b5702",
   "metadata": {},
   "outputs": [
    {
     "data": {
      "text/plain": [
       "True"
      ]
     },
     "execution_count": 22,
     "metadata": {},
     "output_type": "execute_result"
    }
   ],
   "source": [
    "monotonicSeries.is_monotonic_increasing"
   ]
  },
  {
   "cell_type": "code",
   "execution_count": 23,
   "id": "11b6b0f4",
   "metadata": {},
   "outputs": [
    {
     "data": {
      "text/plain": [
       "False"
      ]
     },
     "execution_count": 23,
     "metadata": {},
     "output_type": "execute_result"
    }
   ],
   "source": [
    "monotonicSeries.is_monotonic_decreasing"
   ]
  },
  {
   "cell_type": "code",
   "execution_count": 24,
   "id": "27db6aa1",
   "metadata": {},
   "outputs": [
    {
     "data": {
      "text/plain": [
       "0       Cola\n",
       "1    Redbull\n",
       "2     Sprite\n",
       "dtype: object"
      ]
     },
     "execution_count": 24,
     "metadata": {},
     "output_type": "execute_result"
    }
   ],
   "source": [
    "drinksSeries = pd.Series(['Cola', 'Redbull', 'Sprite'])\n",
    "drinksSeries"
   ]
  },
  {
   "cell_type": "code",
   "execution_count": 25,
   "id": "5e4c260b",
   "metadata": {},
   "outputs": [
    {
     "data": {
      "text/plain": [
       "True"
      ]
     },
     "execution_count": 25,
     "metadata": {},
     "output_type": "execute_result"
    }
   ],
   "source": [
    "drinksSeries.is_monotonic_increasing"
   ]
  },
  {
   "cell_type": "markdown",
   "id": "c4e2fb07",
   "metadata": {},
   "source": [
    "## Methods"
   ]
  },
  {
   "cell_type": "code",
   "execution_count": 27,
   "id": "9678db23",
   "metadata": {},
   "outputs": [
    {
     "data": {
      "text/plain": [
       "172"
      ]
     },
     "execution_count": 27,
     "metadata": {},
     "output_type": "execute_result"
    }
   ],
   "source": [
    "monotonicSeries.sum()"
   ]
  },
  {
   "cell_type": "code",
   "execution_count": 28,
   "id": "fb2cebc0",
   "metadata": {},
   "outputs": [
    {
     "data": {
      "text/plain": [
       "1"
      ]
     },
     "execution_count": 28,
     "metadata": {},
     "output_type": "execute_result"
    }
   ],
   "source": [
    "monotonicSeries.min()"
   ]
  },
  {
   "cell_type": "code",
   "execution_count": 29,
   "id": "f0b8a525",
   "metadata": {},
   "outputs": [
    {
     "data": {
      "text/plain": [
       "99"
      ]
     },
     "execution_count": 29,
     "metadata": {},
     "output_type": "execute_result"
    }
   ],
   "source": [
    "monotonicSeries.max()"
   ]
  },
  {
   "cell_type": "code",
   "execution_count": 31,
   "id": "667e3943",
   "metadata": {},
   "outputs": [
    {
     "data": {
      "text/plain": [
       "34.4"
      ]
     },
     "execution_count": 31,
     "metadata": {},
     "output_type": "execute_result"
    }
   ],
   "source": [
    "monotonicSeries.mean()  # average"
   ]
  },
  {
   "cell_type": "code",
   "execution_count": 34,
   "id": "05c93b2e",
   "metadata": {},
   "outputs": [
    {
     "data": {
      "text/plain": [
       "5"
      ]
     },
     "execution_count": 34,
     "metadata": {},
     "output_type": "execute_result"
    }
   ],
   "source": [
    "# in this case count() and size return the same value\n",
    "monotonicSeries.count()"
   ]
  },
  {
   "cell_type": "code",
   "execution_count": 33,
   "id": "d6b1d2bc",
   "metadata": {},
   "outputs": [
    {
     "data": {
      "text/plain": [
       "5"
      ]
     },
     "execution_count": 33,
     "metadata": {},
     "output_type": "execute_result"
    }
   ],
   "source": [
    "monotonicSeries.size"
   ]
  },
  {
   "cell_type": "code",
   "execution_count": 35,
   "id": "174a0d86",
   "metadata": {},
   "outputs": [
    {
     "data": {
      "text/plain": [
       "39798"
      ]
     },
     "execution_count": 35,
     "metadata": {},
     "output_type": "execute_result"
    }
   ],
   "source": [
    "monotonicSeries.product() # returns value from multipling all values in Series"
   ]
  },
  {
   "cell_type": "code",
   "execution_count": 36,
   "id": "891e00f4",
   "metadata": {},
   "outputs": [
    {
     "name": "stdout",
     "output_type": "stream",
     "text": [
      "RangeIndex(start=0, stop=5, step=1)\n",
      "RangeIndex(start=0, stop=5, step=1)\n"
     ]
    }
   ],
   "source": [
    "print(monotonicSeries.index)\n",
    "print(monotonicSeries.keys())"
   ]
  },
  {
   "cell_type": "code",
   "execution_count": 38,
   "id": "35ee877b",
   "metadata": {},
   "outputs": [
    {
     "name": "stdout",
     "output_type": "stream",
     "text": [
      "[ 1  2  3 67 99]\n"
     ]
    }
   ],
   "source": [
    "print(monotonicSeries.values)"
   ]
  },
  {
   "cell_type": "code",
   "execution_count": 57,
   "id": "d1bc8dab",
   "metadata": {},
   "outputs": [
    {
     "name": "stdout",
     "output_type": "stream",
     "text": [
      "0     1\n",
      "1     2\n",
      "2     3\n",
      "3    67\n",
      "4    99\n",
      "dtype: int64\n",
      "0     11\n",
      "1     12\n",
      "2     13\n",
      "3     77\n",
      "4    109\n",
      "dtype: int64\n",
      "0     1\n",
      "1     2\n",
      "2     3\n",
      "3    67\n",
      "4    99\n",
      "dtype: int64\n"
     ]
    }
   ],
   "source": [
    "print(monotonicSeries)\n",
    "print(monotonicSeries.add(10))  # add to all elements 10\n",
    "print(monotonicSeries)"
   ]
  },
  {
   "cell_type": "code",
   "execution_count": 60,
   "id": "3e067e0b",
   "metadata": {},
   "outputs": [],
   "source": [
    "countries = ['USA', 'Spain', 'Poland', 'Portugal', 'Italy']\n",
    "currencies = ['USD', 'EUR', 'PLN', 'EUR', 'EUR']"
   ]
  },
  {
   "cell_type": "code",
   "execution_count": 61,
   "id": "1e0d449f",
   "metadata": {},
   "outputs": [
    {
     "data": {
      "text/plain": [
       "USD         USA\n",
       "EUR       Spain\n",
       "PLN      Poland\n",
       "EUR    Portugal\n",
       "EUR       Italy\n",
       "dtype: object"
      ]
     },
     "execution_count": 61,
     "metadata": {},
     "output_type": "execute_result"
    }
   ],
   "source": [
    "                    # data,      index\n",
    "curSeries = pd.Series(countries, currencies)\n",
    "curSeries"
   ]
  },
  {
   "cell_type": "code",
   "execution_count": 62,
   "id": "f542d280",
   "metadata": {
    "scrolled": true
   },
   "outputs": [
    {
     "data": {
      "text/plain": [
       "USD         USA\n",
       "EUR       Spain\n",
       "PLN      Poland\n",
       "EUR    Portugal\n",
       "EUR       Italy\n",
       "dtype: object"
      ]
     },
     "execution_count": 62,
     "metadata": {},
     "output_type": "execute_result"
    }
   ],
   "source": [
    "curSeries = pd.Series(data=countries, index=currencies)\n",
    "curSeries"
   ]
  },
  {
   "cell_type": "markdown",
   "id": "7e5e0006",
   "metadata": {},
   "source": [
    "## Filtering"
   ]
  },
  {
   "cell_type": "code",
   "execution_count": 2,
   "id": "22bb91bb",
   "metadata": {},
   "outputs": [
    {
     "data": {
      "text/plain": [
       "[1, 2, 3, 11, 12, 13]"
      ]
     },
     "execution_count": 2,
     "metadata": {},
     "output_type": "execute_result"
    }
   ],
   "source": [
    "numbers = [1,2,3,11,12,13]\n",
    "numbers"
   ]
  },
  {
   "cell_type": "markdown",
   "id": "05821c9c",
   "metadata": {},
   "source": [
    "### filtering on values"
   ]
  },
  {
   "cell_type": "code",
   "execution_count": 6,
   "id": "c86ed16d",
   "metadata": {},
   "outputs": [
    {
     "name": "stdout",
     "output_type": "stream",
     "text": [
      "0     1\n",
      "1     2\n",
      "2     3\n",
      "3    11\n",
      "4    12\n",
      "5    13\n",
      "dtype: int64\n",
      "0    False\n",
      "1    False\n",
      "2    False\n",
      "3     True\n",
      "4     True\n",
      "5     True\n",
      "dtype: bool\n"
     ]
    }
   ],
   "source": [
    "# numbers > 10  # error\n",
    "numSeries = pd.Series(numbers)\n",
    "print(numSeries)\n",
    "print(numSeries > 10)"
   ]
  },
  {
   "cell_type": "code",
   "execution_count": 7,
   "id": "fec4e4de",
   "metadata": {},
   "outputs": [
    {
     "data": {
      "text/plain": [
       "0     NaN\n",
       "1     NaN\n",
       "2     NaN\n",
       "3    11.0\n",
       "4    12.0\n",
       "5    13.0\n",
       "dtype: float64"
      ]
     },
     "execution_count": 7,
     "metadata": {},
     "output_type": "execute_result"
    }
   ],
   "source": [
    "numSeries.where(numSeries > 10)\n",
    "# NaN - Not a number"
   ]
  },
  {
   "cell_type": "code",
   "execution_count": 8,
   "id": "1749ca01",
   "metadata": {},
   "outputs": [
    {
     "data": {
      "text/plain": [
       "0    -1\n",
       "1    -1\n",
       "2    -1\n",
       "3    11\n",
       "4    12\n",
       "5    13\n",
       "dtype: int64"
      ]
     },
     "execution_count": 8,
     "metadata": {},
     "output_type": "execute_result"
    }
   ],
   "source": [
    "numSeries.where(numSeries > 10, other=-1)"
   ]
  },
  {
   "cell_type": "code",
   "execution_count": 9,
   "id": "334813b2",
   "metadata": {},
   "outputs": [
    {
     "data": {
      "text/plain": [
       "3    11.0\n",
       "4    12.0\n",
       "5    13.0\n",
       "dtype: float64"
      ]
     },
     "execution_count": 9,
     "metadata": {},
     "output_type": "execute_result"
    }
   ],
   "source": [
    "numSeries.where(numSeries > 10).dropna()"
   ]
  },
  {
   "cell_type": "code",
   "execution_count": 10,
   "id": "05cd8df4",
   "metadata": {},
   "outputs": [
    {
     "name": "stdout",
     "output_type": "stream",
     "text": [
      "0     1\n",
      "1     2\n",
      "2     3\n",
      "3    11\n",
      "4    12\n",
      "5    13\n",
      "dtype: int64\n",
      "0     NaN\n",
      "1     NaN\n",
      "2     NaN\n",
      "3    11.0\n",
      "4    12.0\n",
      "5    13.0\n",
      "dtype: float64\n"
     ]
    }
   ],
   "source": [
    "print(numSeries)\n",
    "numSeries.where(numSeries > 10, inplace=True)\n",
    "print(numSeries)"
   ]
  },
  {
   "cell_type": "code",
   "execution_count": 11,
   "id": "7bff183a",
   "metadata": {},
   "outputs": [
    {
     "name": "stdout",
     "output_type": "stream",
     "text": [
      "0     NaN\n",
      "1     NaN\n",
      "2     NaN\n",
      "3    11.0\n",
      "4    12.0\n",
      "5    13.0\n",
      "dtype: float64\n",
      "3    11.0\n",
      "4    12.0\n",
      "5    13.0\n",
      "dtype: float64\n",
      "0     NaN\n",
      "1     NaN\n",
      "2     NaN\n",
      "3    11.0\n",
      "4    12.0\n",
      "5    13.0\n",
      "dtype: float64\n",
      "after dropna(inplace=True)\n",
      "3    11.0\n",
      "4    12.0\n",
      "5    13.0\n",
      "dtype: float64\n"
     ]
    }
   ],
   "source": [
    "print(numSeries)\n",
    "print(numSeries.dropna())\n",
    "print(numSeries)\n",
    "numSeries.dropna(inplace=True)\n",
    "print('after dropna(inplace=True)')\n",
    "print(numSeries)"
   ]
  },
  {
   "cell_type": "code",
   "execution_count": 12,
   "id": "91de2091",
   "metadata": {},
   "outputs": [
    {
     "data": {
      "text/plain": [
       "0     1\n",
       "1     2\n",
       "2     3\n",
       "3    11\n",
       "4    12\n",
       "5    13\n",
       "dtype: int64"
      ]
     },
     "execution_count": 12,
     "metadata": {},
     "output_type": "execute_result"
    }
   ],
   "source": [
    "numSeries = pd.Series(numbers)\n",
    "# we work on copy and it doesn't work\n",
    "numSeries.where(numSeries > 10).dropna(inplace=True)\n",
    "numSeries"
   ]
  },
  {
   "cell_type": "markdown",
   "id": "f002792a",
   "metadata": {},
   "source": [
    "### filtering on index/keys"
   ]
  },
  {
   "cell_type": "code",
   "execution_count": 13,
   "id": "2bbcf989",
   "metadata": {},
   "outputs": [
    {
     "data": {
      "text/plain": [
       "0     1\n",
       "2     3\n",
       "4    12\n",
       "dtype: int64"
      ]
     },
     "execution_count": 13,
     "metadata": {},
     "output_type": "execute_result"
    }
   ],
   "source": [
    "numSeries = pd.Series(numbers)\n",
    "numSeries.filter(items=[0,2,4])  # get only 1st, 3rd and 5th element"
   ]
  },
  {
   "cell_type": "markdown",
   "id": "6e3eb9be",
   "metadata": {},
   "source": [
    "## Advanced filtering"
   ]
  },
  {
   "cell_type": "code",
   "execution_count": 14,
   "id": "e6c74867",
   "metadata": {},
   "outputs": [
    {
     "name": "stdout",
     "output_type": "stream",
     "text": [
      "0     1\n",
      "1     2\n",
      "2     3\n",
      "3    11\n",
      "4    12\n",
      "5    13\n",
      "dtype: int64\n"
     ]
    },
    {
     "data": {
      "text/plain": [
       "0     True\n",
       "1    False\n",
       "2     True\n",
       "3     True\n",
       "4    False\n",
       "5     True\n",
       "dtype: bool"
      ]
     },
     "execution_count": 14,
     "metadata": {},
     "output_type": "execute_result"
    }
   ],
   "source": [
    "numSeries = pd.Series(numbers)\n",
    "print(numSeries)\n",
    "numSeries % 2 == 1  # only odd [nieparzyste] values"
   ]
  },
  {
   "cell_type": "code",
   "execution_count": 15,
   "id": "0f0a21b8",
   "metadata": {},
   "outputs": [
    {
     "name": "stdout",
     "output_type": "stream",
     "text": [
      "0     1.0\n",
      "1     NaN\n",
      "2     3.0\n",
      "3    11.0\n",
      "4     NaN\n",
      "5    13.0\n",
      "dtype: float64\n"
     ]
    },
    {
     "data": {
      "text/plain": [
       "0     1.0\n",
       "2     3.0\n",
       "3    11.0\n",
       "5    13.0\n",
       "dtype: float64"
      ]
     },
     "execution_count": 15,
     "metadata": {},
     "output_type": "execute_result"
    }
   ],
   "source": [
    "print(numSeries.where(numSeries % 2 == 1))\n",
    "numSeries.where(numSeries % 2 == 1).dropna()"
   ]
  },
  {
   "cell_type": "markdown",
   "id": "0d6cb1c4",
   "metadata": {},
   "source": [
    "### more than 1 condition we should declare before we use multiple conditions"
   ]
  },
  {
   "cell_type": "code",
   "execution_count": 41,
   "id": "2ea8cfdc",
   "metadata": {
    "collapsed": true
   },
   "outputs": [
    {
     "name": "stdout",
     "output_type": "stream",
     "text": [
      "0     NaN\n",
      "1     NaN\n",
      "2     NaN\n",
      "3    11.0\n",
      "4     NaN\n",
      "5    13.0\n",
      "dtype: float64\n"
     ]
    },
    {
     "data": {
      "text/plain": [
       "3    11.0\n",
       "5    13.0\n",
       "dtype: float64"
      ]
     },
     "execution_count": 41,
     "metadata": {},
     "output_type": "execute_result"
    }
   ],
   "source": [
    "# numSeries.where(numSeries > 10 and numSeries % 2 == 1)  # error\n",
    "# numSeries.where(numSeries > 10 & numSeries % 2 == 1)  # error\n",
    "numGrater10 = numSeries > 10\n",
    "numOdd = numSeries % 2 == 1\n",
    "print(numSeries.where(numGrater10 & numOdd))\n",
    "numSeries.where(numGrater10 & numOdd).dropna()"
   ]
  },
  {
   "cell_type": "code",
   "execution_count": 16,
   "id": "0dd5b332",
   "metadata": {},
   "outputs": [
    {
     "data": {
      "text/plain": [
       "0    False\n",
       "1    False\n",
       "2     True\n",
       "3     True\n",
       "4     True\n",
       "5    False\n",
       "dtype: bool"
      ]
     },
     "execution_count": 16,
     "metadata": {},
     "output_type": "execute_result"
    }
   ],
   "source": [
    "numSeries.between(3,12)  # like in sql"
   ]
  },
  {
   "cell_type": "code",
   "execution_count": 17,
   "id": "cb8a221c",
   "metadata": {},
   "outputs": [
    {
     "data": {
      "text/plain": [
       "0     NaN\n",
       "1     NaN\n",
       "2     3.0\n",
       "3    11.0\n",
       "4    12.0\n",
       "5     NaN\n",
       "dtype: float64"
      ]
     },
     "execution_count": 17,
     "metadata": {},
     "output_type": "execute_result"
    }
   ],
   "source": [
    "numSeries.where(numSeries.between(3,12))"
   ]
  },
  {
   "cell_type": "code",
   "execution_count": 18,
   "id": "a5d694b2",
   "metadata": {},
   "outputs": [
    {
     "data": {
      "text/plain": [
       "0     1.0\n",
       "1     2.0\n",
       "2     NaN\n",
       "3     NaN\n",
       "4     NaN\n",
       "5    13.0\n",
       "dtype: float64"
      ]
     },
     "execution_count": 18,
     "metadata": {},
     "output_type": "execute_result"
    }
   ],
   "source": [
    "# list of bools works same bool from series\n",
    "numSeries.where([True, True, False, False, False, True])"
   ]
  },
  {
   "cell_type": "markdown",
   "id": "1198d0ed",
   "metadata": {},
   "source": [
    "## Import data"
   ]
  },
  {
   "cell_type": "markdown",
   "id": "ea7c521c",
   "metadata": {},
   "source": [
    "### csv - comma separator values"
   ]
  },
  {
   "cell_type": "code",
   "execution_count": 48,
   "id": "8634d695",
   "metadata": {
    "collapsed": true
   },
   "outputs": [
    {
     "data": {
      "text/plain": [
       "pandas.core.frame.DataFrame"
      ]
     },
     "execution_count": 48,
     "metadata": {},
     "output_type": "execute_result"
    }
   ],
   "source": [
    "pd.read_csv('./course-files/course-sources/pokemon.csv')\n",
    "\n",
    "obj = pd.read_csv('./course-files/course-sources/pokemon.csv')\n",
    "type(obj)"
   ]
  },
  {
   "cell_type": "markdown",
   "id": "67a7c74d",
   "metadata": {},
   "source": [
    "### usecols[ Collection ] - get some cols by name"
   ]
  },
  {
   "cell_type": "code",
   "execution_count": 49,
   "id": "b37422fe",
   "metadata": {
    "collapsed": true
   },
   "outputs": [
    {
     "name": "stdout",
     "output_type": "stream",
     "text": [
      "<class 'pandas.core.frame.DataFrame'>\n"
     ]
    },
    {
     "data": {
      "text/html": [
       "<div>\n",
       "<style scoped>\n",
       "    .dataframe tbody tr th:only-of-type {\n",
       "        vertical-align: middle;\n",
       "    }\n",
       "\n",
       "    .dataframe tbody tr th {\n",
       "        vertical-align: top;\n",
       "    }\n",
       "\n",
       "    .dataframe thead th {\n",
       "        text-align: right;\n",
       "    }\n",
       "</style>\n",
       "<table border=\"1\" class=\"dataframe\">\n",
       "  <thead>\n",
       "    <tr style=\"text-align: right;\">\n",
       "      <th></th>\n",
       "      <th>Name</th>\n",
       "    </tr>\n",
       "  </thead>\n",
       "  <tbody>\n",
       "    <tr>\n",
       "      <th>0</th>\n",
       "      <td>Bulbasaur</td>\n",
       "    </tr>\n",
       "    <tr>\n",
       "      <th>1</th>\n",
       "      <td>Ivysaur</td>\n",
       "    </tr>\n",
       "    <tr>\n",
       "      <th>2</th>\n",
       "      <td>Venusaur</td>\n",
       "    </tr>\n",
       "    <tr>\n",
       "      <th>3</th>\n",
       "      <td>VenusaurMega Venusaur</td>\n",
       "    </tr>\n",
       "    <tr>\n",
       "      <th>4</th>\n",
       "      <td>Charmander</td>\n",
       "    </tr>\n",
       "    <tr>\n",
       "      <th>...</th>\n",
       "      <td>...</td>\n",
       "    </tr>\n",
       "    <tr>\n",
       "      <th>795</th>\n",
       "      <td>Diancie</td>\n",
       "    </tr>\n",
       "    <tr>\n",
       "      <th>796</th>\n",
       "      <td>DiancieMega Diancie</td>\n",
       "    </tr>\n",
       "    <tr>\n",
       "      <th>797</th>\n",
       "      <td>HoopaHoopa Confined</td>\n",
       "    </tr>\n",
       "    <tr>\n",
       "      <th>798</th>\n",
       "      <td>HoopaHoopa Unbound</td>\n",
       "    </tr>\n",
       "    <tr>\n",
       "      <th>799</th>\n",
       "      <td>Volcanion</td>\n",
       "    </tr>\n",
       "  </tbody>\n",
       "</table>\n",
       "<p>800 rows × 1 columns</p>\n",
       "</div>"
      ],
      "text/plain": [
       "                      Name\n",
       "0                Bulbasaur\n",
       "1                  Ivysaur\n",
       "2                 Venusaur\n",
       "3    VenusaurMega Venusaur\n",
       "4               Charmander\n",
       "..                     ...\n",
       "795                Diancie\n",
       "796    DiancieMega Diancie\n",
       "797    HoopaHoopa Confined\n",
       "798     HoopaHoopa Unbound\n",
       "799              Volcanion\n",
       "\n",
       "[800 rows x 1 columns]"
      ]
     },
     "execution_count": 49,
     "metadata": {},
     "output_type": "execute_result"
    }
   ],
   "source": [
    "obj = pd.read_csv('./course-files/course-sources/pokemon.csv', usecols=['Name'])\n",
    "print(type(obj))\n",
    "obj"
   ]
  },
  {
   "cell_type": "markdown",
   "id": "416faf9f",
   "metadata": {},
   "source": [
    "### squeeze - [ściśnij] if values are only 1 col, it will be converted to Series"
   ]
  },
  {
   "cell_type": "code",
   "execution_count": 20,
   "id": "c292e756",
   "metadata": {},
   "outputs": [
    {
     "name": "stdout",
     "output_type": "stream",
     "text": [
      "<class 'pandas.core.series.Series'>\n"
     ]
    },
    {
     "data": {
      "text/plain": [
       "0                  Bulbasaur\n",
       "1                    Ivysaur\n",
       "2                   Venusaur\n",
       "3      VenusaurMega Venusaur\n",
       "4                 Charmander\n",
       "               ...          \n",
       "795                  Diancie\n",
       "796      DiancieMega Diancie\n",
       "797      HoopaHoopa Confined\n",
       "798       HoopaHoopa Unbound\n",
       "799                Volcanion\n",
       "Name: Name, Length: 800, dtype: object"
      ]
     },
     "execution_count": 20,
     "metadata": {},
     "output_type": "execute_result"
    }
   ],
   "source": [
    "obj = pd.read_csv('./course-files/course-sources/pokemon.csv',\n",
    "                  usecols=['Name'], squeeze=True)\n",
    "print(type(obj))\n",
    "obj"
   ]
  },
  {
   "cell_type": "code",
   "execution_count": 21,
   "id": "0c146f32",
   "metadata": {},
   "outputs": [
    {
     "data": {
      "text/plain": [
       "0       45\n",
       "1       60\n",
       "2       80\n",
       "3       80\n",
       "4       65\n",
       "      ... \n",
       "795     50\n",
       "796    110\n",
       "797     70\n",
       "798     80\n",
       "799     70\n",
       "Name: Speed, Length: 800, dtype: int64"
      ]
     },
     "execution_count": 21,
     "metadata": {},
     "output_type": "execute_result"
    }
   ],
   "source": [
    "speed = pd.read_csv('./course-files/course-sources/pokemon.csv',\n",
    "                    usecols=['Speed'], squeeze=True)\n",
    "speed"
   ]
  },
  {
   "cell_type": "code",
   "execution_count": 22,
   "id": "05b5d871",
   "metadata": {},
   "outputs": [
    {
     "name": "stdout",
     "output_type": "stream",
     "text": [
      "<class 'pandas.core.frame.DataFrame'>\n"
     ]
    },
    {
     "data": {
      "text/html": [
       "<div>\n",
       "<style scoped>\n",
       "    .dataframe tbody tr th:only-of-type {\n",
       "        vertical-align: middle;\n",
       "    }\n",
       "\n",
       "    .dataframe tbody tr th {\n",
       "        vertical-align: top;\n",
       "    }\n",
       "\n",
       "    .dataframe thead th {\n",
       "        text-align: right;\n",
       "    }\n",
       "</style>\n",
       "<table border=\"1\" class=\"dataframe\">\n",
       "  <thead>\n",
       "    <tr style=\"text-align: right;\">\n",
       "      <th></th>\n",
       "      <th>s1[2:10:3]</th>\n",
       "    </tr>\n",
       "  </thead>\n",
       "  <tbody>\n",
       "  </tbody>\n",
       "</table>\n",
       "</div>"
      ],
      "text/plain": [
       "Empty DataFrame\n",
       "Columns: [s1[2:10:3]]\n",
       "Index: []"
      ]
     },
     "execution_count": 22,
     "metadata": {},
     "output_type": "execute_result"
    }
   ],
   "source": [
    "dataFromClipboard = pd.read_clipboard(sep=',')\n",
    "print(type(dataFromClipboard))\n",
    "dataFromClipboard"
   ]
  },
  {
   "cell_type": "code",
   "execution_count": 23,
   "id": "7ae73544",
   "metadata": {
    "collapsed": true
   },
   "outputs": [
    {
     "ename": "KeyError",
     "evalue": "'Name'",
     "output_type": "error",
     "traceback": [
      "\u001b[1;31m---------------------------------------------------------------------------\u001b[0m",
      "\u001b[1;31mKeyError\u001b[0m                                  Traceback (most recent call last)",
      "\u001b[1;32mD:\\programy\\Anaconda3\\lib\\site-packages\\pandas\\core\\indexes\\base.py\u001b[0m in \u001b[0;36mget_loc\u001b[1;34m(self, key, method, tolerance)\u001b[0m\n\u001b[0;32m   3080\u001b[0m             \u001b[1;32mtry\u001b[0m\u001b[1;33m:\u001b[0m\u001b[1;33m\u001b[0m\u001b[1;33m\u001b[0m\u001b[0m\n\u001b[1;32m-> 3081\u001b[1;33m                 \u001b[1;32mreturn\u001b[0m \u001b[0mself\u001b[0m\u001b[1;33m.\u001b[0m\u001b[0m_engine\u001b[0m\u001b[1;33m.\u001b[0m\u001b[0mget_loc\u001b[0m\u001b[1;33m(\u001b[0m\u001b[0mcasted_key\u001b[0m\u001b[1;33m)\u001b[0m\u001b[1;33m\u001b[0m\u001b[1;33m\u001b[0m\u001b[0m\n\u001b[0m\u001b[0;32m   3082\u001b[0m             \u001b[1;32mexcept\u001b[0m \u001b[0mKeyError\u001b[0m \u001b[1;32mas\u001b[0m \u001b[0merr\u001b[0m\u001b[1;33m:\u001b[0m\u001b[1;33m\u001b[0m\u001b[1;33m\u001b[0m\u001b[0m\n",
      "\u001b[1;32mpandas\\_libs\\index.pyx\u001b[0m in \u001b[0;36mpandas._libs.index.IndexEngine.get_loc\u001b[1;34m()\u001b[0m\n",
      "\u001b[1;32mpandas\\_libs\\index.pyx\u001b[0m in \u001b[0;36mpandas._libs.index.IndexEngine.get_loc\u001b[1;34m()\u001b[0m\n",
      "\u001b[1;32mpandas\\_libs\\hashtable_class_helper.pxi\u001b[0m in \u001b[0;36mpandas._libs.hashtable.PyObjectHashTable.get_item\u001b[1;34m()\u001b[0m\n",
      "\u001b[1;32mpandas\\_libs\\hashtable_class_helper.pxi\u001b[0m in \u001b[0;36mpandas._libs.hashtable.PyObjectHashTable.get_item\u001b[1;34m()\u001b[0m\n",
      "\u001b[1;31mKeyError\u001b[0m: 'Name'",
      "\nThe above exception was the direct cause of the following exception:\n",
      "\u001b[1;31mKeyError\u001b[0m                                  Traceback (most recent call last)",
      "\u001b[1;32m<ipython-input-23-7b241eb45936>\u001b[0m in \u001b[0;36m<module>\u001b[1;34m\u001b[0m\n\u001b[1;32m----> 1\u001b[1;33m \u001b[0moneSeries\u001b[0m \u001b[1;33m=\u001b[0m \u001b[0mdataFromClipboard\u001b[0m\u001b[1;33m[\u001b[0m\u001b[1;34m'Name'\u001b[0m\u001b[1;33m]\u001b[0m\u001b[1;33m\u001b[0m\u001b[1;33m\u001b[0m\u001b[0m\n\u001b[0m\u001b[0;32m      2\u001b[0m \u001b[0mprint\u001b[0m\u001b[1;33m(\u001b[0m\u001b[0mtype\u001b[0m\u001b[1;33m(\u001b[0m\u001b[0moneSeries\u001b[0m\u001b[1;33m)\u001b[0m\u001b[1;33m)\u001b[0m\u001b[1;33m\u001b[0m\u001b[1;33m\u001b[0m\u001b[0m\n\u001b[0;32m      3\u001b[0m \u001b[0moneSeries\u001b[0m\u001b[1;33m\u001b[0m\u001b[1;33m\u001b[0m\u001b[0m\n",
      "\u001b[1;32mD:\\programy\\Anaconda3\\lib\\site-packages\\pandas\\core\\frame.py\u001b[0m in \u001b[0;36m__getitem__\u001b[1;34m(self, key)\u001b[0m\n\u001b[0;32m   3022\u001b[0m             \u001b[1;32mif\u001b[0m \u001b[0mself\u001b[0m\u001b[1;33m.\u001b[0m\u001b[0mcolumns\u001b[0m\u001b[1;33m.\u001b[0m\u001b[0mnlevels\u001b[0m \u001b[1;33m>\u001b[0m \u001b[1;36m1\u001b[0m\u001b[1;33m:\u001b[0m\u001b[1;33m\u001b[0m\u001b[1;33m\u001b[0m\u001b[0m\n\u001b[0;32m   3023\u001b[0m                 \u001b[1;32mreturn\u001b[0m \u001b[0mself\u001b[0m\u001b[1;33m.\u001b[0m\u001b[0m_getitem_multilevel\u001b[0m\u001b[1;33m(\u001b[0m\u001b[0mkey\u001b[0m\u001b[1;33m)\u001b[0m\u001b[1;33m\u001b[0m\u001b[1;33m\u001b[0m\u001b[0m\n\u001b[1;32m-> 3024\u001b[1;33m             \u001b[0mindexer\u001b[0m \u001b[1;33m=\u001b[0m \u001b[0mself\u001b[0m\u001b[1;33m.\u001b[0m\u001b[0mcolumns\u001b[0m\u001b[1;33m.\u001b[0m\u001b[0mget_loc\u001b[0m\u001b[1;33m(\u001b[0m\u001b[0mkey\u001b[0m\u001b[1;33m)\u001b[0m\u001b[1;33m\u001b[0m\u001b[1;33m\u001b[0m\u001b[0m\n\u001b[0m\u001b[0;32m   3025\u001b[0m             \u001b[1;32mif\u001b[0m \u001b[0mis_integer\u001b[0m\u001b[1;33m(\u001b[0m\u001b[0mindexer\u001b[0m\u001b[1;33m)\u001b[0m\u001b[1;33m:\u001b[0m\u001b[1;33m\u001b[0m\u001b[1;33m\u001b[0m\u001b[0m\n\u001b[0;32m   3026\u001b[0m                 \u001b[0mindexer\u001b[0m \u001b[1;33m=\u001b[0m \u001b[1;33m[\u001b[0m\u001b[0mindexer\u001b[0m\u001b[1;33m]\u001b[0m\u001b[1;33m\u001b[0m\u001b[1;33m\u001b[0m\u001b[0m\n",
      "\u001b[1;32mD:\\programy\\Anaconda3\\lib\\site-packages\\pandas\\core\\indexes\\base.py\u001b[0m in \u001b[0;36mget_loc\u001b[1;34m(self, key, method, tolerance)\u001b[0m\n\u001b[0;32m   3081\u001b[0m                 \u001b[1;32mreturn\u001b[0m \u001b[0mself\u001b[0m\u001b[1;33m.\u001b[0m\u001b[0m_engine\u001b[0m\u001b[1;33m.\u001b[0m\u001b[0mget_loc\u001b[0m\u001b[1;33m(\u001b[0m\u001b[0mcasted_key\u001b[0m\u001b[1;33m)\u001b[0m\u001b[1;33m\u001b[0m\u001b[1;33m\u001b[0m\u001b[0m\n\u001b[0;32m   3082\u001b[0m             \u001b[1;32mexcept\u001b[0m \u001b[0mKeyError\u001b[0m \u001b[1;32mas\u001b[0m \u001b[0merr\u001b[0m\u001b[1;33m:\u001b[0m\u001b[1;33m\u001b[0m\u001b[1;33m\u001b[0m\u001b[0m\n\u001b[1;32m-> 3083\u001b[1;33m                 \u001b[1;32mraise\u001b[0m \u001b[0mKeyError\u001b[0m\u001b[1;33m(\u001b[0m\u001b[0mkey\u001b[0m\u001b[1;33m)\u001b[0m \u001b[1;32mfrom\u001b[0m \u001b[0merr\u001b[0m\u001b[1;33m\u001b[0m\u001b[1;33m\u001b[0m\u001b[0m\n\u001b[0m\u001b[0;32m   3084\u001b[0m \u001b[1;33m\u001b[0m\u001b[0m\n\u001b[0;32m   3085\u001b[0m         \u001b[1;32mif\u001b[0m \u001b[0mtolerance\u001b[0m \u001b[1;32mis\u001b[0m \u001b[1;32mnot\u001b[0m \u001b[1;32mNone\u001b[0m\u001b[1;33m:\u001b[0m\u001b[1;33m\u001b[0m\u001b[1;33m\u001b[0m\u001b[0m\n",
      "\u001b[1;31mKeyError\u001b[0m: 'Name'"
     ]
    }
   ],
   "source": [
    "oneSeries = dataFromClipboard['Name']\n",
    "print(type(oneSeries))\n",
    "oneSeries"
   ]
  },
  {
   "cell_type": "markdown",
   "id": "f28108a2",
   "metadata": {},
   "source": [
    "### head() / tail() - in default 5 first / last rows"
   ]
  },
  {
   "cell_type": "code",
   "execution_count": 24,
   "id": "94371dc3",
   "metadata": {},
   "outputs": [
    {
     "ename": "NameError",
     "evalue": "name 'oneSeries' is not defined",
     "output_type": "error",
     "traceback": [
      "\u001b[1;31m---------------------------------------------------------------------------\u001b[0m",
      "\u001b[1;31mNameError\u001b[0m                                 Traceback (most recent call last)",
      "\u001b[1;32m<ipython-input-24-30fdd88d2995>\u001b[0m in \u001b[0;36m<module>\u001b[1;34m\u001b[0m\n\u001b[1;32m----> 1\u001b[1;33m \u001b[0moneSeries\u001b[0m\u001b[1;33m.\u001b[0m\u001b[0mhead\u001b[0m\u001b[1;33m(\u001b[0m\u001b[1;33m)\u001b[0m\u001b[1;33m\u001b[0m\u001b[1;33m\u001b[0m\u001b[0m\n\u001b[0m",
      "\u001b[1;31mNameError\u001b[0m: name 'oneSeries' is not defined"
     ]
    }
   ],
   "source": [
    "oneSeries.head()"
   ]
  },
  {
   "cell_type": "code",
   "execution_count": 57,
   "id": "a169fc9a",
   "metadata": {
    "collapsed": true
   },
   "outputs": [
    {
     "data": {
      "text/plain": [
       "795                Diancie\n",
       "796    DiancieMega Diancie\n",
       "797    HoopaHoopa Confined\n",
       "798     HoopaHoopa Unbound\n",
       "799              Volcanion\n",
       "Name: Name, dtype: object"
      ]
     },
     "execution_count": 57,
     "metadata": {},
     "output_type": "execute_result"
    }
   ],
   "source": [
    "oneSeries.tail()"
   ]
  },
  {
   "cell_type": "code",
   "execution_count": 58,
   "id": "5feb8c57",
   "metadata": {
    "collapsed": true
   },
   "outputs": [
    {
     "data": {
      "text/plain": [
       "0    Bulbasaur\n",
       "1      Ivysaur\n",
       "2     Venusaur\n",
       "Name: Name, dtype: object"
      ]
     },
     "execution_count": 58,
     "metadata": {},
     "output_type": "execute_result"
    }
   ],
   "source": [
    "oneSeries.head(3)"
   ]
  },
  {
   "cell_type": "code",
   "execution_count": 59,
   "id": "9830c899",
   "metadata": {
    "collapsed": true
   },
   "outputs": [
    {
     "data": {
      "text/plain": [
       "790                 Noibat\n",
       "791                Noivern\n",
       "792                Xerneas\n",
       "793                Yveltal\n",
       "794       Zygarde50% Forme\n",
       "795                Diancie\n",
       "796    DiancieMega Diancie\n",
       "797    HoopaHoopa Confined\n",
       "798     HoopaHoopa Unbound\n",
       "799              Volcanion\n",
       "Name: Name, dtype: object"
      ]
     },
     "execution_count": 59,
     "metadata": {},
     "output_type": "execute_result"
    }
   ],
   "source": [
    "oneSeries.tail(10)"
   ]
  },
  {
   "cell_type": "markdown",
   "id": "78cef3f0",
   "metadata": {},
   "source": [
    "## Standard Python method"
   ]
  },
  {
   "cell_type": "code",
   "execution_count": 62,
   "id": "1b2bb990",
   "metadata": {
    "collapsed": true
   },
   "outputs": [
    {
     "name": "stdout",
     "output_type": "stream",
     "text": [
      "0                Bulbasaur\n",
      "1                  Ivysaur\n",
      "2                 Venusaur\n",
      "3    VenusaurMega Venusaur\n",
      "4               Charmander\n",
      "Name: Name, dtype: object\n",
      "['Bulbasaur', 'Charmander', 'Ivysaur', 'Venusaur', 'VenusaurMega Venusaur']\n"
     ]
    }
   ],
   "source": [
    "print(oneSeries.head())\n",
    "print(sorted(oneSeries.head()))"
   ]
  },
  {
   "cell_type": "code",
   "execution_count": 64,
   "id": "8e69bc1d",
   "metadata": {
    "collapsed": true
   },
   "outputs": [
    {
     "name": "stdout",
     "output_type": "stream",
     "text": [
      "Abomasnow Zygarde50% Forme\n"
     ]
    }
   ],
   "source": [
    "print(oneSeries.min(), oneSeries.max())"
   ]
  },
  {
   "cell_type": "code",
   "execution_count": 71,
   "id": "f0cb929d",
   "metadata": {
    "collapsed": true
   },
   "outputs": [
    {
     "name": "stdout",
     "output_type": "stream",
     "text": [
      "0                Bulbasaur\n",
      "1                  Ivysaur\n",
      "2                 Venusaur\n",
      "3    VenusaurMega Venusaur\n",
      "4               Charmander\n",
      "Name: Name of Pokemon, dtype: object\n",
      "0                Bulbasaur\n",
      "1                  Ivysaur\n",
      "2                 Venusaur\n",
      "3    VenusaurMega Venusaur\n",
      "4               Charmander\n",
      "Name: Name of Pokemon, dtype: object\n"
     ]
    }
   ],
   "source": [
    "print(oneSeries.head())\n",
    "oneSeries.name = 'Name of Pokemon'\n",
    "print(oneSeries.head())"
   ]
  },
  {
   "cell_type": "markdown",
   "id": "e6ecb852",
   "metadata": {},
   "source": [
    "\n",
    "## Sorting"
   ]
  },
  {
   "cell_type": "code",
   "execution_count": 25,
   "id": "61a68b9f",
   "metadata": {},
   "outputs": [
    {
     "data": {
      "text/plain": [
       "510                  Abomasnow\n",
       "511    AbomasnowMega Abomasnow\n",
       "68                        Abra\n",
       "392                      Absol\n",
       "393            AbsolMega Absol\n",
       "Name: Name, dtype: object"
      ]
     },
     "execution_count": 25,
     "metadata": {},
     "output_type": "execute_result"
    }
   ],
   "source": [
    "pok = obj.copy()\n",
    "pok.sort_values().head()"
   ]
  },
  {
   "cell_type": "code",
   "execution_count": 26,
   "id": "63118609",
   "metadata": {},
   "outputs": [
    {
     "data": {
      "text/plain": [
       "794    Zygarde50% Forme\n",
       "695            Zweilous\n",
       "46                Zubat\n",
       "631               Zorua\n",
       "632             Zoroark\n",
       "Name: Name, dtype: object"
      ]
     },
     "execution_count": 26,
     "metadata": {},
     "output_type": "execute_result"
    }
   ],
   "source": [
    "pok.sort_values(ascending=False).head()"
   ]
  },
  {
   "cell_type": "code",
   "execution_count": 27,
   "id": "7a73c108",
   "metadata": {},
   "outputs": [
    {
     "data": {
      "text/plain": [
       "510                  Abomasnow\n",
       "511    AbomasnowMega Abomasnow\n",
       "68                        Abra\n",
       "392                      Absol\n",
       "393            AbsolMega Absol\n",
       "Name: Name, dtype: object"
      ]
     },
     "execution_count": 27,
     "metadata": {},
     "output_type": "execute_result"
    }
   ],
   "source": [
    "pok.sort_values().head()"
   ]
  },
  {
   "cell_type": "code",
   "execution_count": 28,
   "id": "298d2062",
   "metadata": {},
   "outputs": [
    {
     "data": {
      "text/plain": [
       "510                  Abomasnow\n",
       "511    AbomasnowMega Abomasnow\n",
       "68                        Abra\n",
       "392                      Absol\n",
       "393            AbsolMega Absol\n",
       "Name: Name, dtype: object"
      ]
     },
     "execution_count": 28,
     "metadata": {},
     "output_type": "execute_result"
    }
   ],
   "source": [
    "pok.sort_values(inplace=True)\n",
    "pok.head()"
   ]
  },
  {
   "cell_type": "code",
   "execution_count": 29,
   "id": "eeb33c0d",
   "metadata": {},
   "outputs": [
    {
     "data": {
      "text/plain": [
       "0                Bulbasaur\n",
       "1                  Ivysaur\n",
       "2                 Venusaur\n",
       "3    VenusaurMega Venusaur\n",
       "4               Charmander\n",
       "Name: Name, dtype: object"
      ]
     },
     "execution_count": 29,
     "metadata": {},
     "output_type": "execute_result"
    }
   ],
   "source": [
    "pok.sort_index().head()"
   ]
  },
  {
   "cell_type": "markdown",
   "id": "cc3574d2",
   "metadata": {},
   "source": [
    "## Existing in Series"
   ]
  },
  {
   "cell_type": "code",
   "execution_count": 30,
   "id": "991a3751",
   "metadata": {},
   "outputs": [
    {
     "name": "stdout",
     "output_type": "stream",
     "text": [
      "True\n",
      "False\n"
     ]
    }
   ],
   "source": [
    "countries = ['EN', 'FR', 'PL', 'IT']\n",
    "print('PL' in countries)\n",
    "print('ES' in countries)"
   ]
  },
  {
   "cell_type": "code",
   "execution_count": 31,
   "id": "294bf3f6",
   "metadata": {},
   "outputs": [
    {
     "data": {
      "text/plain": [
       "0                Bulbasaur\n",
       "1                  Ivysaur\n",
       "2                 Venusaur\n",
       "3    VenusaurMega Venusaur\n",
       "4               Charmander\n",
       "Name: Name, dtype: object"
      ]
     },
     "execution_count": 31,
     "metadata": {},
     "output_type": "execute_result"
    }
   ],
   "source": [
    "pok = pd.read_csv('./course-files/course-sources/pokemon.csv',\n",
    "                  usecols=['Name'], squeeze=True)\n",
    "pok.head()"
   ]
  },
  {
   "cell_type": "code",
   "execution_count": 32,
   "id": "ef94cf98",
   "metadata": {},
   "outputs": [
    {
     "data": {
      "text/plain": [
       "False"
      ]
     },
     "execution_count": 32,
     "metadata": {},
     "output_type": "execute_result"
    }
   ],
   "source": [
    "'Venusaur' in pok"
   ]
  },
  {
   "cell_type": "code",
   "execution_count": 33,
   "id": "8b1d61c3",
   "metadata": {},
   "outputs": [
    {
     "data": {
      "text/plain": [
       "True"
      ]
     },
     "execution_count": 33,
     "metadata": {},
     "output_type": "execute_result"
    }
   ],
   "source": [
    "3 in pok"
   ]
  },
  {
   "cell_type": "markdown",
   "id": "88bfdcc4",
   "metadata": {},
   "source": [
    "### Operator in works on list or on index in Series"
   ]
  },
  {
   "cell_type": "code",
   "execution_count": 34,
   "id": "37b95411",
   "metadata": {},
   "outputs": [
    {
     "name": "stdout",
     "output_type": "stream",
     "text": [
      "800\n",
      "RangeIndex(start=0, stop=800, step=1)\n",
      "False\n",
      "False\n",
      "True\n"
     ]
    }
   ],
   "source": [
    "print(pok.size)\n",
    "print(pok.index)\n",
    "print(900 in pok)\n",
    "print(900 in pok.index)\n",
    "print(799 in pok.index)"
   ]
  },
  {
   "cell_type": "code",
   "execution_count": 35,
   "id": "4a095342",
   "metadata": {},
   "outputs": [
    {
     "data": {
      "text/plain": [
       "array(['Bulbasaur', 'Ivysaur', 'Venusaur', 'VenusaurMega Venusaur',\n",
       "       'Charmander'], dtype=object)"
      ]
     },
     "execution_count": 35,
     "metadata": {},
     "output_type": "execute_result"
    }
   ],
   "source": [
    "pok.values[:5]"
   ]
  },
  {
   "cell_type": "code",
   "execution_count": 36,
   "id": "f380bfc6",
   "metadata": {},
   "outputs": [
    {
     "name": "stdout",
     "output_type": "stream",
     "text": [
      "True\n",
      "False\n"
     ]
    }
   ],
   "source": [
    "print('Venusaur' in pok.values)\n",
    "print('Venusaur asdddaa' in pok.values)"
   ]
  },
  {
   "cell_type": "markdown",
   "id": "7a62ed0e",
   "metadata": {},
   "source": [
    "## Get value by index"
   ]
  },
  {
   "cell_type": "code",
   "execution_count": 37,
   "id": "8c81a62c",
   "metadata": {},
   "outputs": [
    {
     "data": {
      "text/plain": [
       "'Machoke'"
      ]
     },
     "execution_count": 37,
     "metadata": {},
     "output_type": "execute_result"
    }
   ],
   "source": [
    "pok[73]"
   ]
  },
  {
   "cell_type": "code",
   "execution_count": 38,
   "id": "2e95ea56",
   "metadata": {},
   "outputs": [
    {
     "data": {
      "text/plain": [
       "64    Arcanine\n",
       "74     Machamp\n",
       "Name: Name, dtype: object"
      ]
     },
     "execution_count": 38,
     "metadata": {},
     "output_type": "execute_result"
    }
   ],
   "source": [
    "# pok[64, 74]  # it doesn't work\n",
    "pok[[64,74]]"
   ]
  },
  {
   "cell_type": "code",
   "execution_count": 39,
   "id": "568829d3",
   "metadata": {},
   "outputs": [
    {
     "data": {
      "text/plain": [
       "2                 Venusaur\n",
       "3    VenusaurMega Venusaur\n",
       "4               Charmander\n",
       "5               Charmeleon\n",
       "6                Charizard\n",
       "Name: Name, dtype: object"
      ]
     },
     "execution_count": 39,
     "metadata": {},
     "output_type": "execute_result"
    }
   ],
   "source": [
    "pok[2:7]  # without 7"
   ]
  },
  {
   "cell_type": "code",
   "execution_count": 40,
   "id": "77ecd239",
   "metadata": {},
   "outputs": [
    {
     "data": {
      "text/plain": [
       "795                Diancie\n",
       "796    DiancieMega Diancie\n",
       "797    HoopaHoopa Confined\n",
       "798     HoopaHoopa Unbound\n",
       "799              Volcanion\n",
       "Name: Name, dtype: object"
      ]
     },
     "execution_count": 40,
     "metadata": {},
     "output_type": "execute_result"
    }
   ],
   "source": [
    "pok[795:]  # from: to end"
   ]
  },
  {
   "cell_type": "code",
   "execution_count": 41,
   "id": "c97d3bf0",
   "metadata": {},
   "outputs": [
    {
     "data": {
      "text/plain": [
       "0                Bulbasaur\n",
       "1                  Ivysaur\n",
       "2                 Venusaur\n",
       "3    VenusaurMega Venusaur\n",
       "Name: Name, dtype: object"
      ]
     },
     "execution_count": 41,
     "metadata": {},
     "output_type": "execute_result"
    }
   ],
   "source": [
    "pok[:4]  # from start: to 4 without"
   ]
  },
  {
   "cell_type": "code",
   "execution_count": 42,
   "id": "cc72b8d5",
   "metadata": {},
   "outputs": [
    {
     "data": {
      "text/plain": [
       "798    HoopaHoopa Unbound\n",
       "799             Volcanion\n",
       "Name: Name, dtype: object"
      ]
     },
     "execution_count": 42,
     "metadata": {},
     "output_type": "execute_result"
    }
   ],
   "source": [
    "pok[-2:]  # from last 2nd: to end"
   ]
  },
  {
   "cell_type": "markdown",
   "id": "c5532197",
   "metadata": {},
   "source": [
    "## Download values from Series by methods"
   ]
  },
  {
   "cell_type": "code",
   "execution_count": 23,
   "id": "7c3dd449",
   "metadata": {},
   "outputs": [
    {
     "data": {
      "text/plain": [
       "a    Austria\n",
       "b    Belgium\n",
       "c     Canada\n",
       "d    Denmark\n",
       "e    England\n",
       "e    Estonia\n",
       "dtype: object"
      ]
     },
     "execution_count": 23,
     "metadata": {},
     "output_type": "execute_result"
    }
   ],
   "source": [
    "idx = ['a', 'b', 'c', 'd', 'e', 'e']\n",
    "vals = ['Austria', 'Belgium', 'Canada', 'Denmark', 'England', 'Estonia']\n",
    "s = pd.Series(vals, idx)\n",
    "s"
   ]
  },
  {
   "cell_type": "code",
   "execution_count": 24,
   "id": "9fde482e",
   "metadata": {},
   "outputs": [
    {
     "data": {
      "text/plain": [
       "'Belgium'"
      ]
     },
     "execution_count": 24,
     "metadata": {},
     "output_type": "execute_result"
    }
   ],
   "source": [
    "s[1]"
   ]
  },
  {
   "cell_type": "code",
   "execution_count": 25,
   "id": "d557fe8f",
   "metadata": {},
   "outputs": [
    {
     "data": {
      "text/plain": [
       "'Belgium'"
      ]
     },
     "execution_count": 25,
     "metadata": {},
     "output_type": "execute_result"
    }
   ],
   "source": [
    "s['b']"
   ]
  },
  {
   "cell_type": "code",
   "execution_count": 26,
   "id": "66f87a95",
   "metadata": {},
   "outputs": [
    {
     "data": {
      "text/plain": [
       "e    England\n",
       "e    Estonia\n",
       "dtype: object"
      ]
     },
     "execution_count": 26,
     "metadata": {},
     "output_type": "execute_result"
    }
   ],
   "source": [
    "s['e']"
   ]
  },
  {
   "cell_type": "code",
   "execution_count": 1,
   "id": "b6b157b9",
   "metadata": {},
   "outputs": [],
   "source": [
    "# s['f']  # error if not exists"
   ]
  },
  {
   "cell_type": "markdown",
   "id": "2962189b",
   "metadata": {},
   "source": [
    "### get() - universal"
   ]
  },
  {
   "cell_type": "code",
   "execution_count": 28,
   "id": "914545a9",
   "metadata": {},
   "outputs": [
    {
     "data": {
      "text/plain": [
       "'Belgium'"
      ]
     },
     "execution_count": 28,
     "metadata": {},
     "output_type": "execute_result"
    }
   ],
   "source": [
    "s.get(1)"
   ]
  },
  {
   "cell_type": "code",
   "execution_count": 29,
   "id": "ffa5a833",
   "metadata": {},
   "outputs": [
    {
     "data": {
      "text/plain": [
       "'Belgium'"
      ]
     },
     "execution_count": 29,
     "metadata": {},
     "output_type": "execute_result"
    }
   ],
   "source": [
    "s.get('b')"
   ]
  },
  {
   "cell_type": "code",
   "execution_count": 68,
   "id": "66509ac1",
   "metadata": {},
   "outputs": [
    {
     "data": {
      "text/plain": [
       "b    Belgium\n",
       "c     Canada\n",
       "dtype: object"
      ]
     },
     "execution_count": 68,
     "metadata": {},
     "output_type": "execute_result"
    }
   ],
   "source": [
    "s.get([1,2])"
   ]
  },
  {
   "cell_type": "code",
   "execution_count": 31,
   "id": "0ca73314",
   "metadata": {
    "collapsed": true
   },
   "outputs": [],
   "source": [
    "s.get('f')  # not raised an error !!!"
   ]
  },
  {
   "cell_type": "markdown",
   "id": "5976f4bb",
   "metadata": {},
   "source": [
    "co jeśli index 1 nie jest pierwszy/drugi i chcę pobrać po 1?"
   ]
  },
  {
   "cell_type": "markdown",
   "id": "4369639e",
   "metadata": {},
   "source": [
    "### at[ ] - get value by index value"
   ]
  },
  {
   "cell_type": "code",
   "execution_count": 33,
   "id": "bd890532",
   "metadata": {
    "collapsed": true
   },
   "outputs": [],
   "source": [
    "# s.at[1]  # error"
   ]
  },
  {
   "cell_type": "code",
   "execution_count": 35,
   "id": "359b8ea3",
   "metadata": {},
   "outputs": [
    {
     "data": {
      "text/plain": [
       "'Belgium'"
      ]
     },
     "execution_count": 35,
     "metadata": {},
     "output_type": "execute_result"
    }
   ],
   "source": [
    "s.at['b']"
   ]
  },
  {
   "cell_type": "code",
   "execution_count": 37,
   "id": "b3953eb3",
   "metadata": {},
   "outputs": [
    {
     "name": "stdout",
     "output_type": "stream",
     "text": [
      "<class 'pandas.core.series.Series'>\n"
     ]
    },
    {
     "data": {
      "text/plain": [
       "e    England\n",
       "e    Estonia\n",
       "dtype: object"
      ]
     },
     "execution_count": 37,
     "metadata": {},
     "output_type": "execute_result"
    }
   ],
   "source": [
    "print(type(s.at['e']))\n",
    "s.at['e']"
   ]
  },
  {
   "cell_type": "code",
   "execution_count": 2,
   "id": "d0a7819e",
   "metadata": {},
   "outputs": [],
   "source": [
    "# s.at['f']  # error if not exists"
   ]
  },
  {
   "cell_type": "markdown",
   "id": "8820a67f",
   "metadata": {},
   "source": [
    "### iat[ ] - get value by index position"
   ]
  },
  {
   "cell_type": "markdown",
   "id": "f9d648c6",
   "metadata": {},
   "source": [
    "co jeśli to będzie posortowana lista?"
   ]
  },
  {
   "cell_type": "code",
   "execution_count": 39,
   "id": "05f02f88",
   "metadata": {},
   "outputs": [
    {
     "data": {
      "text/plain": [
       "'Belgium'"
      ]
     },
     "execution_count": 39,
     "metadata": {},
     "output_type": "execute_result"
    }
   ],
   "source": [
    "s.iat[1]"
   ]
  },
  {
   "cell_type": "code",
   "execution_count": 41,
   "id": "d95886ed",
   "metadata": {
    "collapsed": true
   },
   "outputs": [],
   "source": [
    "# s.iat['b']  # error"
   ]
  },
  {
   "cell_type": "code",
   "execution_count": 44,
   "id": "a9934b80",
   "metadata": {
    "collapsed": true
   },
   "outputs": [],
   "source": [
    "# s.iat[[0,1]]  # error"
   ]
  },
  {
   "cell_type": "code",
   "execution_count": 46,
   "id": "950ac376",
   "metadata": {
    "collapsed": true
   },
   "outputs": [],
   "source": [
    "# s.iat[99]  # error if not exists"
   ]
  },
  {
   "cell_type": "markdown",
   "id": "86cb6ff3",
   "metadata": {},
   "source": [
    "### loc[ ] - get value by index value"
   ]
  },
  {
   "cell_type": "code",
   "execution_count": 48,
   "id": "3dd414e1",
   "metadata": {
    "collapsed": true
   },
   "outputs": [],
   "source": [
    "# s.loc[1]  # error"
   ]
  },
  {
   "cell_type": "code",
   "execution_count": 49,
   "id": "eb40cb5d",
   "metadata": {},
   "outputs": [
    {
     "data": {
      "text/plain": [
       "'Belgium'"
      ]
     },
     "execution_count": 49,
     "metadata": {},
     "output_type": "execute_result"
    }
   ],
   "source": [
    "s.loc['b']"
   ]
  },
  {
   "cell_type": "code",
   "execution_count": 52,
   "id": "2af41726",
   "metadata": {},
   "outputs": [
    {
     "name": "stdout",
     "output_type": "stream",
     "text": [
      "<class 'pandas.core.series.Series'>\n"
     ]
    },
    {
     "data": {
      "text/plain": [
       "e    England\n",
       "e    Estonia\n",
       "dtype: object"
      ]
     },
     "execution_count": 52,
     "metadata": {},
     "output_type": "execute_result"
    }
   ],
   "source": [
    "print(type(s.loc['e']))\n",
    "s.loc['e']"
   ]
  },
  {
   "cell_type": "code",
   "execution_count": 55,
   "id": "62629952",
   "metadata": {
    "collapsed": true
   },
   "outputs": [],
   "source": [
    "# s.loc['f']  # error if not exists"
   ]
  },
  {
   "cell_type": "markdown",
   "id": "280c1b90",
   "metadata": {},
   "source": [
    "które z tych poleceń działa na slice [x:y:z]"
   ]
  },
  {
   "cell_type": "markdown",
   "id": "2c5dcc1a",
   "metadata": {},
   "source": [
    "### iloc[ ] - get value by index position with multiple rows (list, slice)"
   ]
  },
  {
   "cell_type": "code",
   "execution_count": 56,
   "id": "f9199abb",
   "metadata": {},
   "outputs": [
    {
     "data": {
      "text/plain": [
       "'Belgium'"
      ]
     },
     "execution_count": 56,
     "metadata": {},
     "output_type": "execute_result"
    }
   ],
   "source": [
    "s.iloc[1]"
   ]
  },
  {
   "cell_type": "code",
   "execution_count": 58,
   "id": "65593df0",
   "metadata": {
    "collapsed": true
   },
   "outputs": [],
   "source": [
    "# s.iloc['b']  # error"
   ]
  },
  {
   "cell_type": "code",
   "execution_count": 59,
   "id": "0f3261bf",
   "metadata": {},
   "outputs": [
    {
     "data": {
      "text/plain": [
       "a    Austria\n",
       "b    Belgium\n",
       "dtype: object"
      ]
     },
     "execution_count": 59,
     "metadata": {},
     "output_type": "execute_result"
    }
   ],
   "source": [
    "s.iloc[[0,1]]"
   ]
  },
  {
   "cell_type": "code",
   "execution_count": 74,
   "id": "d0c34976",
   "metadata": {},
   "outputs": [
    {
     "data": {
      "text/plain": [
       "b    Belgium\n",
       "c     Canada\n",
       "dtype: object"
      ]
     },
     "execution_count": 74,
     "metadata": {},
     "output_type": "execute_result"
    }
   ],
   "source": [
    "s.iloc[1:3]"
   ]
  },
  {
   "cell_type": "code",
   "execution_count": 61,
   "id": "a2849105",
   "metadata": {
    "collapsed": true
   },
   "outputs": [],
   "source": [
    "# s.iloc[99]  # error if not exists"
   ]
  },
  {
   "cell_type": "markdown",
   "id": "d457e3dc",
   "metadata": {},
   "source": [
    "### ix[ ] - method _get()_ works same now, download by idx or position"
   ]
  },
  {
   "cell_type": "code",
   "execution_count": 63,
   "id": "4e278525",
   "metadata": {
    "collapsed": true
   },
   "outputs": [],
   "source": [
    "# s.ix[1]  # deprecated and deleted"
   ]
  },
  {
   "cell_type": "markdown",
   "id": "31006e6b",
   "metadata": {},
   "source": [
    "### Conclusion"
   ]
  },
  {
   "cell_type": "markdown",
   "id": "a79d4eb4",
   "metadata": {},
   "source": [
    "We could use [ ] and _get()_ like universal solution but it is not precise.\n",
    "\n",
    "\n",
    "If we want to get values by index value(s) we should use _loc[ ]_ and _at[ ]_.\n",
    "If we want to get value(s) by index position we should use _iloc[ ]_ and _iat[ ]_.\n",
    "\n",
    "\n",
    "_loc[ ]_ & _iloc[ ]_ are better than _at[ ]_ & _iat[ ]_ because _loc[ ]_ & _iloc[ ]_ can take not only 1 index, but list or slice of indexes too."
   ]
  },
  {
   "cell_type": "markdown",
   "id": "aeec2c3a",
   "metadata": {},
   "source": [
    "## Reindex and intersection"
   ]
  },
  {
   "cell_type": "code",
   "execution_count": 75,
   "id": "0331d32b",
   "metadata": {},
   "outputs": [
    {
     "data": {
      "text/plain": [
       "a     Austria\n",
       "b     Belgium\n",
       "c      Canada\n",
       "d     Denmark\n",
       "e1    England\n",
       "e2    Estonia\n",
       "dtype: object"
      ]
     },
     "execution_count": 75,
     "metadata": {},
     "output_type": "execute_result"
    }
   ],
   "source": [
    "idx = ['a', 'b', 'c', 'd', 'e1', 'e2']\n",
    "vals = ['Austria', 'Belgium', 'Canada', 'Denmark', 'England', 'Estonia']\n",
    "s = pd.Series(vals, idx)\n",
    "s"
   ]
  },
  {
   "cell_type": "code",
   "execution_count": 76,
   "id": "e3e7857a",
   "metadata": {},
   "outputs": [
    {
     "name": "stdout",
     "output_type": "stream",
     "text": [
      "a    Austria\n",
      "b    Belgium\n",
      "dtype: object\n",
      "a    Austria\n",
      "b    Belgium\n",
      "dtype: object\n"
     ]
    }
   ],
   "source": [
    "searchList = ['a', 'b']\n",
    "print(s[searchList])\n",
    "print(s.loc[searchList])"
   ]
  },
  {
   "cell_type": "code",
   "execution_count": 79,
   "id": "74f7fa49",
   "metadata": {
    "collapsed": true
   },
   "outputs": [],
   "source": [
    "searchListNotFound = ['a', 'b', 'f']\n",
    "# print(s[searchListNotFound])  # error\n",
    "# print(s.loc[searchListNotFound])  # error"
   ]
  },
  {
   "cell_type": "code",
   "execution_count": 84,
   "id": "1324b085",
   "metadata": {},
   "outputs": [
    {
     "data": {
      "text/plain": [
       "a    Austria\n",
       "b    Belgium\n",
       "f        NaN\n",
       "dtype: object"
      ]
     },
     "execution_count": 84,
     "metadata": {},
     "output_type": "execute_result"
    }
   ],
   "source": [
    "s.reindex(searchListNotFound)"
   ]
  },
  {
   "cell_type": "markdown",
   "id": "dc43330a",
   "metadata": {},
   "source": [
    "### intersection - elements which are in both collections"
   ]
  },
  {
   "cell_type": "code",
   "execution_count": 86,
   "id": "64e2ce0c",
   "metadata": {},
   "outputs": [
    {
     "name": "stdout",
     "output_type": "stream",
     "text": [
      "Index(['a', 'b', 'c', 'd', 'e1', 'e2'], dtype='object')\n",
      "Index(['a', 'b'], dtype='object')\n"
     ]
    }
   ],
   "source": [
    "print(s.index)\n",
    "print(s.index.intersection(searchListNotFound))"
   ]
  },
  {
   "cell_type": "code",
   "execution_count": 87,
   "id": "5f1c2767",
   "metadata": {},
   "outputs": [
    {
     "data": {
      "text/plain": [
       "a    Austria\n",
       "b    Belgium\n",
       "dtype: object"
      ]
     },
     "execution_count": 87,
     "metadata": {},
     "output_type": "execute_result"
    }
   ],
   "source": [
    "s.loc[s.index.intersection(searchListNotFound)]"
   ]
  },
  {
   "cell_type": "markdown",
   "id": "2281015f",
   "metadata": {},
   "source": [
    "### what if index for search is not unique??"
   ]
  },
  {
   "cell_type": "code",
   "execution_count": 88,
   "id": "cc8ef15a",
   "metadata": {},
   "outputs": [
    {
     "data": {
      "text/plain": [
       "a    Austria\n",
       "b    Belgium\n",
       "c     Canada\n",
       "d    Denmark\n",
       "e    England\n",
       "e    Estonia\n",
       "dtype: object"
      ]
     },
     "execution_count": 88,
     "metadata": {},
     "output_type": "execute_result"
    }
   ],
   "source": [
    "idx = ['a', 'b', 'c', 'd', 'e', 'e']\n",
    "vals = ['Austria', 'Belgium', 'Canada', 'Denmark', 'England', 'Estonia']\n",
    "s = pd.Series(vals, idx)\n",
    "s"
   ]
  },
  {
   "cell_type": "code",
   "execution_count": 90,
   "id": "9edf93cc",
   "metadata": {
    "collapsed": true
   },
   "outputs": [],
   "source": [
    "# s.reindex(searchListNotFound)  # error, duplicate index"
   ]
  },
  {
   "cell_type": "code",
   "execution_count": 92,
   "id": "6a99d042",
   "metadata": {},
   "outputs": [
    {
     "data": {
      "text/plain": [
       "a    Austria\n",
       "b    Belgium\n",
       "dtype: object"
      ]
     },
     "execution_count": 92,
     "metadata": {},
     "output_type": "execute_result"
    }
   ],
   "source": [
    "s.loc[s.index.intersection(searchListNotFound)]  # it works..."
   ]
  },
  {
   "cell_type": "code",
   "execution_count": 93,
   "id": "b867fd17",
   "metadata": {},
   "outputs": [
    {
     "data": {
      "text/plain": [
       "['a', 'b', 'f', 'e']"
      ]
     },
     "execution_count": 93,
     "metadata": {},
     "output_type": "execute_result"
    }
   ],
   "source": [
    "print(searchListNotFound)\n",
    "searchListNotFound += 'e'\n",
    "print(searchListNotFound)"
   ]
  },
  {
   "cell_type": "code",
   "execution_count": 95,
   "id": "df55cd80",
   "metadata": {},
   "outputs": [
    {
     "data": {
      "text/plain": [
       "a    Austria\n",
       "b    Belgium\n",
       "e    England\n",
       "e    Estonia\n",
       "dtype: object"
      ]
     },
     "execution_count": 95,
     "metadata": {},
     "output_type": "execute_result"
    }
   ],
   "source": [
    "s.loc[s.index.intersection(searchListNotFound)]  # ... even duplicated values"
   ]
  },
  {
   "cell_type": "code",
   "execution_count": 96,
   "id": "6364130b",
   "metadata": {},
   "outputs": [
    {
     "data": {
      "text/html": [
       "<div>\n",
       "<style scoped>\n",
       "    .dataframe tbody tr th:only-of-type {\n",
       "        vertical-align: middle;\n",
       "    }\n",
       "\n",
       "    .dataframe tbody tr th {\n",
       "        vertical-align: top;\n",
       "    }\n",
       "\n",
       "    .dataframe thead th {\n",
       "        text-align: right;\n",
       "    }\n",
       "</style>\n",
       "<table border=\"1\" class=\"dataframe\">\n",
       "  <thead>\n",
       "    <tr style=\"text-align: right;\">\n",
       "      <th></th>\n",
       "      <th>#</th>\n",
       "      <th>Name</th>\n",
       "      <th>Type 1</th>\n",
       "      <th>Type 2</th>\n",
       "      <th>Total</th>\n",
       "      <th>HP</th>\n",
       "      <th>Attack</th>\n",
       "      <th>Defense</th>\n",
       "      <th>Sp. Atk</th>\n",
       "      <th>Sp. Def</th>\n",
       "      <th>Speed</th>\n",
       "      <th>Generation</th>\n",
       "      <th>Legendary</th>\n",
       "    </tr>\n",
       "  </thead>\n",
       "  <tbody>\n",
       "    <tr>\n",
       "      <th>0</th>\n",
       "      <td>1</td>\n",
       "      <td>Bulbasaur</td>\n",
       "      <td>Grass</td>\n",
       "      <td>Poison</td>\n",
       "      <td>318</td>\n",
       "      <td>45</td>\n",
       "      <td>49</td>\n",
       "      <td>49</td>\n",
       "      <td>65</td>\n",
       "      <td>65</td>\n",
       "      <td>45</td>\n",
       "      <td>1</td>\n",
       "      <td>False</td>\n",
       "    </tr>\n",
       "    <tr>\n",
       "      <th>1</th>\n",
       "      <td>2</td>\n",
       "      <td>Ivysaur</td>\n",
       "      <td>Grass</td>\n",
       "      <td>Poison</td>\n",
       "      <td>405</td>\n",
       "      <td>60</td>\n",
       "      <td>62</td>\n",
       "      <td>63</td>\n",
       "      <td>80</td>\n",
       "      <td>80</td>\n",
       "      <td>60</td>\n",
       "      <td>1</td>\n",
       "      <td>False</td>\n",
       "    </tr>\n",
       "    <tr>\n",
       "      <th>2</th>\n",
       "      <td>3</td>\n",
       "      <td>Venusaur</td>\n",
       "      <td>Grass</td>\n",
       "      <td>Poison</td>\n",
       "      <td>525</td>\n",
       "      <td>80</td>\n",
       "      <td>82</td>\n",
       "      <td>83</td>\n",
       "      <td>100</td>\n",
       "      <td>100</td>\n",
       "      <td>80</td>\n",
       "      <td>1</td>\n",
       "      <td>False</td>\n",
       "    </tr>\n",
       "    <tr>\n",
       "      <th>3</th>\n",
       "      <td>3</td>\n",
       "      <td>VenusaurMega Venusaur</td>\n",
       "      <td>Grass</td>\n",
       "      <td>Poison</td>\n",
       "      <td>625</td>\n",
       "      <td>80</td>\n",
       "      <td>100</td>\n",
       "      <td>123</td>\n",
       "      <td>122</td>\n",
       "      <td>120</td>\n",
       "      <td>80</td>\n",
       "      <td>1</td>\n",
       "      <td>False</td>\n",
       "    </tr>\n",
       "    <tr>\n",
       "      <th>4</th>\n",
       "      <td>4</td>\n",
       "      <td>Charmander</td>\n",
       "      <td>Fire</td>\n",
       "      <td>NaN</td>\n",
       "      <td>309</td>\n",
       "      <td>39</td>\n",
       "      <td>52</td>\n",
       "      <td>43</td>\n",
       "      <td>60</td>\n",
       "      <td>50</td>\n",
       "      <td>65</td>\n",
       "      <td>1</td>\n",
       "      <td>False</td>\n",
       "    </tr>\n",
       "    <tr>\n",
       "      <th>...</th>\n",
       "      <td>...</td>\n",
       "      <td>...</td>\n",
       "      <td>...</td>\n",
       "      <td>...</td>\n",
       "      <td>...</td>\n",
       "      <td>...</td>\n",
       "      <td>...</td>\n",
       "      <td>...</td>\n",
       "      <td>...</td>\n",
       "      <td>...</td>\n",
       "      <td>...</td>\n",
       "      <td>...</td>\n",
       "      <td>...</td>\n",
       "    </tr>\n",
       "    <tr>\n",
       "      <th>795</th>\n",
       "      <td>719</td>\n",
       "      <td>Diancie</td>\n",
       "      <td>Rock</td>\n",
       "      <td>Fairy</td>\n",
       "      <td>600</td>\n",
       "      <td>50</td>\n",
       "      <td>100</td>\n",
       "      <td>150</td>\n",
       "      <td>100</td>\n",
       "      <td>150</td>\n",
       "      <td>50</td>\n",
       "      <td>6</td>\n",
       "      <td>True</td>\n",
       "    </tr>\n",
       "    <tr>\n",
       "      <th>796</th>\n",
       "      <td>719</td>\n",
       "      <td>DiancieMega Diancie</td>\n",
       "      <td>Rock</td>\n",
       "      <td>Fairy</td>\n",
       "      <td>700</td>\n",
       "      <td>50</td>\n",
       "      <td>160</td>\n",
       "      <td>110</td>\n",
       "      <td>160</td>\n",
       "      <td>110</td>\n",
       "      <td>110</td>\n",
       "      <td>6</td>\n",
       "      <td>True</td>\n",
       "    </tr>\n",
       "    <tr>\n",
       "      <th>797</th>\n",
       "      <td>720</td>\n",
       "      <td>HoopaHoopa Confined</td>\n",
       "      <td>Psychic</td>\n",
       "      <td>Ghost</td>\n",
       "      <td>600</td>\n",
       "      <td>80</td>\n",
       "      <td>110</td>\n",
       "      <td>60</td>\n",
       "      <td>150</td>\n",
       "      <td>130</td>\n",
       "      <td>70</td>\n",
       "      <td>6</td>\n",
       "      <td>True</td>\n",
       "    </tr>\n",
       "    <tr>\n",
       "      <th>798</th>\n",
       "      <td>720</td>\n",
       "      <td>HoopaHoopa Unbound</td>\n",
       "      <td>Psychic</td>\n",
       "      <td>Dark</td>\n",
       "      <td>680</td>\n",
       "      <td>80</td>\n",
       "      <td>160</td>\n",
       "      <td>60</td>\n",
       "      <td>170</td>\n",
       "      <td>130</td>\n",
       "      <td>80</td>\n",
       "      <td>6</td>\n",
       "      <td>True</td>\n",
       "    </tr>\n",
       "    <tr>\n",
       "      <th>799</th>\n",
       "      <td>721</td>\n",
       "      <td>Volcanion</td>\n",
       "      <td>Fire</td>\n",
       "      <td>Water</td>\n",
       "      <td>600</td>\n",
       "      <td>80</td>\n",
       "      <td>110</td>\n",
       "      <td>120</td>\n",
       "      <td>130</td>\n",
       "      <td>90</td>\n",
       "      <td>70</td>\n",
       "      <td>6</td>\n",
       "      <td>True</td>\n",
       "    </tr>\n",
       "  </tbody>\n",
       "</table>\n",
       "<p>800 rows × 13 columns</p>\n",
       "</div>"
      ],
      "text/plain": [
       "       #                   Name   Type 1  Type 2  Total  HP  Attack  Defense  \\\n",
       "0      1              Bulbasaur    Grass  Poison    318  45      49       49   \n",
       "1      2                Ivysaur    Grass  Poison    405  60      62       63   \n",
       "2      3               Venusaur    Grass  Poison    525  80      82       83   \n",
       "3      3  VenusaurMega Venusaur    Grass  Poison    625  80     100      123   \n",
       "4      4             Charmander     Fire     NaN    309  39      52       43   \n",
       "..   ...                    ...      ...     ...    ...  ..     ...      ...   \n",
       "795  719                Diancie     Rock   Fairy    600  50     100      150   \n",
       "796  719    DiancieMega Diancie     Rock   Fairy    700  50     160      110   \n",
       "797  720    HoopaHoopa Confined  Psychic   Ghost    600  80     110       60   \n",
       "798  720     HoopaHoopa Unbound  Psychic    Dark    680  80     160       60   \n",
       "799  721              Volcanion     Fire   Water    600  80     110      120   \n",
       "\n",
       "     Sp. Atk  Sp. Def  Speed  Generation  Legendary  \n",
       "0         65       65     45           1      False  \n",
       "1         80       80     60           1      False  \n",
       "2        100      100     80           1      False  \n",
       "3        122      120     80           1      False  \n",
       "4         60       50     65           1      False  \n",
       "..       ...      ...    ...         ...        ...  \n",
       "795      100      150     50           6       True  \n",
       "796      160      110    110           6       True  \n",
       "797      150      130     70           6       True  \n",
       "798      170      130     80           6       True  \n",
       "799      130       90     70           6       True  \n",
       "\n",
       "[800 rows x 13 columns]"
      ]
     },
     "execution_count": 96,
     "metadata": {},
     "output_type": "execute_result"
    }
   ],
   "source": [
    "pd.read_csv('./course-files/course-sources/pokemon.csv')"
   ]
  },
  {
   "cell_type": "code",
   "execution_count": 108,
   "id": "23453a2b",
   "metadata": {
    "collapsed": true
   },
   "outputs": [],
   "source": [
    "ser1 = pd.read_csv('./course-files/course-sources/pokemon.csv',\n",
    "           usecols=['Attack','#'],\n",
    "           squeeze=True,\n",
    "           index_col='#')"
   ]
  },
  {
   "cell_type": "code",
   "execution_count": 100,
   "id": "39939350",
   "metadata": {},
   "outputs": [
    {
     "data": {
      "text/plain": [
       "49"
      ]
     },
     "execution_count": 100,
     "metadata": {},
     "output_type": "execute_result"
    }
   ],
   "source": [
    "ser2 = pd.read_csv('./course-files/course-sources/pokemon.csv',\n",
    "           usecols=['Attack','Name'],\n",
    "           squeeze=True,\n",
    "           index_col='Name')\n",
    "ser2['Bulbasaur']"
   ]
  },
  {
   "cell_type": "code",
   "execution_count": 120,
   "id": "6248c31d",
   "metadata": {},
   "outputs": [
    {
     "name": "stdout",
     "output_type": "stream",
     "text": [
      "Name\n",
      "Ivysaur                   62\n",
      "Venusaur                  82\n",
      "VenusaurMega Venusaur    100\n",
      "Charmander                52\n",
      "Name: Attack, dtype: int64\n",
      "Name\n",
      "Ivysaur                   62\n",
      "Venusaur                  82\n",
      "VenusaurMega Venusaur    100\n",
      "Charmander                52\n",
      "Name: Attack, dtype: int64\n"
     ]
    }
   ],
   "source": [
    "print(ser2['Ivysaur':'Charmander'])\n",
    "print(ser2.loc['Ivysaur':'Charmander'])"
   ]
  },
  {
   "cell_type": "code",
   "execution_count": 102,
   "id": "586a2e31",
   "metadata": {},
   "outputs": [
    {
     "data": {
      "text/plain": [
       "Name\n",
       "Ivysaur       62\n",
       "Charmander    52\n",
       "Bulbasaur     49\n",
       "Name: Attack, dtype: int64"
      ]
     },
     "execution_count": 102,
     "metadata": {},
     "output_type": "execute_result"
    }
   ],
   "source": [
    "ser2[['Ivysaur', 'Charmander', 'Bulbasaur']]"
   ]
  },
  {
   "cell_type": "code",
   "execution_count": 114,
   "id": "e4406534",
   "metadata": {
    "collapsed": true
   },
   "outputs": [],
   "source": [
    "# ser1[['Ivysaur', 'Charmander', 'Bulbasaur']]  # error"
   ]
  },
  {
   "cell_type": "code",
   "execution_count": 111,
   "id": "4d603d85",
   "metadata": {
    "collapsed": true
   },
   "outputs": [],
   "source": [
    "# ser2.loc[2]  # error"
   ]
  },
  {
   "cell_type": "code",
   "execution_count": 112,
   "id": "392aae3d",
   "metadata": {},
   "outputs": [
    {
     "data": {
      "text/plain": [
       "82"
      ]
     },
     "execution_count": 112,
     "metadata": {},
     "output_type": "execute_result"
    }
   ],
   "source": [
    "ser2.iloc[2]"
   ]
  },
  {
   "cell_type": "markdown",
   "id": "da51b12e",
   "metadata": {},
   "source": [
    "## More methods in Series (value_counts, std, mean, median)"
   ]
  },
  {
   "cell_type": "markdown",
   "id": "444b66e5",
   "metadata": {},
   "source": [
    "### value_counts() - group values and sort from most"
   ]
  },
  {
   "cell_type": "code",
   "execution_count": 137,
   "id": "4344dab6",
   "metadata": {},
   "outputs": [
    {
     "data": {
      "text/plain": [
       "Flying      97\n",
       "Ground      35\n",
       "Poison      34\n",
       "Psychic     33\n",
       "Fighting    26\n",
       "Grass       25\n",
       "Fairy       23\n",
       "Steel       22\n",
       "Dark        20\n",
       "Dragon      18\n",
       "Rock        14\n",
       "Water       14\n",
       "Ice         14\n",
       "Ghost       14\n",
       "Fire        12\n",
       "Electric     6\n",
       "Normal       4\n",
       "Bug          3\n",
       "Name: Type 2, dtype: int64"
      ]
     },
     "execution_count": 137,
     "metadata": {},
     "output_type": "execute_result"
    }
   ],
   "source": [
    "pok = pd.read_csv('./course-files/course-sources/pokemon.csv',\n",
    "                   usecols=['Name', 'Attack'],\n",
    "                   squeeze=True,\n",
    "                   index_col='Name')\n",
    "pokType2 = pd.read_csv('./course-files/course-sources/pokemon.csv',\n",
    "                   usecols=['Name', 'Type 2'],\n",
    "                   squeeze=True,\n",
    "                   index_col='Name')\n",
    "pokType2.value_counts()"
   ]
  },
  {
   "cell_type": "code",
   "execution_count": 129,
   "id": "8a5a34d7",
   "metadata": {},
   "outputs": [
    {
     "data": {
      "text/plain": [
       "Flying      97\n",
       "Ground      35\n",
       "Poison      34\n",
       "Psychic     33\n",
       "Fighting    26\n",
       "Name: Type 2, dtype: int64"
      ]
     },
     "execution_count": 129,
     "metadata": {},
     "output_type": "execute_result"
    }
   ],
   "source": [
    "pokType2.value_counts().head()"
   ]
  },
  {
   "cell_type": "code",
   "execution_count": 131,
   "id": "bf6c5d33",
   "metadata": {},
   "outputs": [
    {
     "data": {
      "text/plain": [
       "NaN        386\n",
       "Flying      97\n",
       "Ground      35\n",
       "Poison      34\n",
       "Psychic     33\n",
       "Name: Type 2, dtype: int64"
      ]
     },
     "execution_count": 131,
     "metadata": {},
     "output_type": "execute_result"
    }
   ],
   "source": [
    "pokType2.value_counts(dropna=False).head()"
   ]
  },
  {
   "cell_type": "code",
   "execution_count": 135,
   "id": "2a84946f",
   "metadata": {},
   "outputs": [
    {
     "data": {
      "text/plain": [
       "NaN         0.48250\n",
       "Flying      0.12125\n",
       "Ground      0.04375\n",
       "Poison      0.04250\n",
       "Psychic     0.04125\n",
       "Fighting    0.03250\n",
       "Grass       0.03125\n",
       "Fairy       0.02875\n",
       "Steel       0.02750\n",
       "Dark        0.02500\n",
       "Dragon      0.02250\n",
       "Rock        0.01750\n",
       "Ice         0.01750\n",
       "Water       0.01750\n",
       "Ghost       0.01750\n",
       "Fire        0.01500\n",
       "Electric    0.00750\n",
       "Normal      0.00500\n",
       "Bug         0.00375\n",
       "Name: Type 2, dtype: float64"
      ]
     },
     "execution_count": 135,
     "metadata": {},
     "output_type": "execute_result"
    }
   ],
   "source": [
    "pokType2.value_counts(normalize=True, dropna=False)  # how many percent?"
   ]
  },
  {
   "cell_type": "code",
   "execution_count": 147,
   "id": "e05e4b38",
   "metadata": {
    "scrolled": true
   },
   "outputs": [
    {
     "name": "stdout",
     "output_type": "stream",
     "text": [
      "Name\n",
      "Bulbasaur                 49\n",
      "Ivysaur                   62\n",
      "Venusaur                  82\n",
      "VenusaurMega Venusaur    100\n",
      "Charmander                52\n",
      "                        ... \n",
      "Diancie                  100\n",
      "DiancieMega Diancie      160\n",
      "HoopaHoopa Confined      110\n",
      "HoopaHoopa Unbound       160\n",
      "Volcanion                110\n",
      "Name: Attack, Length: 800, dtype: int64\n",
      "5\n",
      "190\n"
     ]
    }
   ],
   "source": [
    "print(pok)\n",
    "print(pok.min())\n",
    "print(pok.max())"
   ]
  },
  {
   "cell_type": "code",
   "execution_count": 139,
   "id": "702f2944",
   "metadata": {},
   "outputs": [
    {
     "data": {
      "text/plain": [
       "100    40\n",
       "65     39\n",
       "80     37\n",
       "50     37\n",
       "85     33\n",
       "       ..\n",
       "106     1\n",
       "88      1\n",
       "102     1\n",
       "91      1\n",
       "190     1\n",
       "Name: Attack, Length: 111, dtype: int64"
      ]
     },
     "execution_count": 139,
     "metadata": {},
     "output_type": "execute_result"
    }
   ],
   "source": [
    "pok.value_counts()"
   ]
  },
  {
   "cell_type": "markdown",
   "id": "730f33b6",
   "metadata": {},
   "source": [
    "### idxmin() / idxmax() - which idx has min / max value"
   ]
  },
  {
   "cell_type": "code",
   "execution_count": 140,
   "id": "40c61fe4",
   "metadata": {},
   "outputs": [
    {
     "data": {
      "text/plain": [
       "'Chansey'"
      ]
     },
     "execution_count": 140,
     "metadata": {},
     "output_type": "execute_result"
    }
   ],
   "source": [
    "pok.idxmin()"
   ]
  },
  {
   "cell_type": "code",
   "execution_count": 149,
   "id": "d6eaaed6",
   "metadata": {},
   "outputs": [
    {
     "name": "stdout",
     "output_type": "stream",
     "text": [
      "5\n"
     ]
    },
    {
     "data": {
      "text/plain": [
       "5"
      ]
     },
     "execution_count": 149,
     "metadata": {},
     "output_type": "execute_result"
    }
   ],
   "source": [
    "print(pok.loc['Chansey'])\n",
    "pok.loc[pok.idxmin()]"
   ]
  },
  {
   "cell_type": "code",
   "execution_count": 151,
   "id": "104f0595",
   "metadata": {},
   "outputs": [
    {
     "name": "stdout",
     "output_type": "stream",
     "text": [
      "79.00125\n"
     ]
    },
    {
     "data": {
      "text/plain": [
       "79.00125"
      ]
     },
     "execution_count": 151,
     "metadata": {},
     "output_type": "execute_result"
    }
   ],
   "source": [
    "print(pok.mean())\n",
    "pok.sum() / pok.size"
   ]
  },
  {
   "cell_type": "markdown",
   "id": "50715020",
   "metadata": {},
   "source": [
    "### median() - central value after sort"
   ]
  },
  {
   "cell_type": "code",
   "execution_count": 152,
   "id": "cf3ce76d",
   "metadata": {},
   "outputs": [
    {
     "data": {
      "text/plain": [
       "75.0"
      ]
     },
     "execution_count": 152,
     "metadata": {},
     "output_type": "execute_result"
    }
   ],
   "source": [
    "pok.median()"
   ]
  },
  {
   "cell_type": "markdown",
   "id": "1eebcbeb",
   "metadata": {},
   "source": [
    "### std() - how much values are diffrent on average to mean()"
   ]
  },
  {
   "cell_type": "code",
   "execution_count": 153,
   "id": "9eea9348",
   "metadata": {},
   "outputs": [
    {
     "data": {
      "text/plain": [
       "32.45736586949843"
      ]
     },
     "execution_count": 153,
     "metadata": {},
     "output_type": "execute_result"
    }
   ],
   "source": [
    "# in general: std() == mean() +/- mean difference\n",
    "pok.std()  # in this case: 79.00125 +/- 32.45"
   ]
  },
  {
   "cell_type": "markdown",
   "id": "36fd19ad",
   "metadata": {},
   "source": [
    "## Data modification"
   ]
  },
  {
   "cell_type": "code",
   "execution_count": 154,
   "id": "3a53368c",
   "metadata": {},
   "outputs": [
    {
     "data": {
      "text/plain": [
       "Name\n",
       "Bulbasaur                 49\n",
       "Ivysaur                   62\n",
       "Venusaur                  82\n",
       "VenusaurMega Venusaur    100\n",
       "Charmander                52\n",
       "                        ... \n",
       "Diancie                  100\n",
       "DiancieMega Diancie      160\n",
       "HoopaHoopa Confined      110\n",
       "HoopaHoopa Unbound       160\n",
       "Volcanion                110\n",
       "Name: Attack, Length: 800, dtype: int64"
      ]
     },
     "execution_count": 154,
     "metadata": {},
     "output_type": "execute_result"
    }
   ],
   "source": [
    "pok"
   ]
  },
  {
   "cell_type": "code",
   "execution_count": 155,
   "id": "f5043721",
   "metadata": {},
   "outputs": [
    {
     "data": {
      "text/plain": [
       "Name\n",
       "Bulbasaur                 4900\n",
       "Ivysaur                   6200\n",
       "Venusaur                  8200\n",
       "VenusaurMega Venusaur    10000\n",
       "Charmander                5200\n",
       "                         ...  \n",
       "Diancie                  10000\n",
       "DiancieMega Diancie      16000\n",
       "HoopaHoopa Confined      11000\n",
       "HoopaHoopa Unbound       16000\n",
       "Volcanion                11000\n",
       "Name: Attack, Length: 800, dtype: int64"
      ]
     },
     "execution_count": 155,
     "metadata": {},
     "output_type": "execute_result"
    }
   ],
   "source": [
    "pok * 100"
   ]
  },
  {
   "cell_type": "code",
   "execution_count": 156,
   "id": "62323d61",
   "metadata": {},
   "outputs": [],
   "source": [
    "pok100 = pok * 100"
   ]
  },
  {
   "cell_type": "code",
   "execution_count": 172,
   "id": "3406edf9",
   "metadata": {},
   "outputs": [],
   "source": [
    "pokType1 = pd.read_csv('./course-files/course-sources/pokemon.csv',\n",
    "                   usecols=['Name', 'Type 1'],\n",
    "                   squeeze=True,\n",
    "                   index_col='Name')"
   ]
  },
  {
   "cell_type": "code",
   "execution_count": 173,
   "id": "ed04a556",
   "metadata": {},
   "outputs": [
    {
     "data": {
      "text/plain": [
       "Name\n",
       "Bulbasaur                  GRASS\n",
       "Ivysaur                    GRASS\n",
       "Venusaur                   GRASS\n",
       "VenusaurMega Venusaur      GRASS\n",
       "Charmander                  FIRE\n",
       "                          ...   \n",
       "Diancie                     ROCK\n",
       "DiancieMega Diancie         ROCK\n",
       "HoopaHoopa Confined      PSYCHIC\n",
       "HoopaHoopa Unbound       PSYCHIC\n",
       "Volcanion                   FIRE\n",
       "Name: Type 1, Length: 800, dtype: object"
      ]
     },
     "execution_count": 173,
     "metadata": {},
     "output_type": "execute_result"
    }
   ],
   "source": [
    "# pokType1.upper()  # error\n",
    "pokType1.str.upper()"
   ]
  },
  {
   "cell_type": "code",
   "execution_count": 174,
   "id": "21aab950",
   "metadata": {},
   "outputs": [
    {
     "data": {
      "text/plain": [
       "Name\n",
       "Bulbasaur                  TYPE: GRASS\n",
       "Ivysaur                    TYPE: GRASS\n",
       "Venusaur                   TYPE: GRASS\n",
       "VenusaurMega Venusaur      TYPE: GRASS\n",
       "Charmander                  TYPE: FIRE\n",
       "                             ...      \n",
       "Diancie                     TYPE: ROCK\n",
       "DiancieMega Diancie         TYPE: ROCK\n",
       "HoopaHoopa Confined      TYPE: PSYCHIC\n",
       "HoopaHoopa Unbound       TYPE: PSYCHIC\n",
       "Volcanion                   TYPE: FIRE\n",
       "Name: Type 1, Length: 800, dtype: object"
      ]
     },
     "execution_count": 174,
     "metadata": {},
     "output_type": "execute_result"
    }
   ],
   "source": [
    "pokWithType = 'TYPE: ' + pokType1.str.upper()\n",
    "pokWithType"
   ]
  },
  {
   "cell_type": "code",
   "execution_count": 175,
   "id": "aa744d9a",
   "metadata": {},
   "outputs": [
    {
     "data": {
      "text/plain": [
       "Water       112\n",
       "Normal       98\n",
       "Grass        70\n",
       "Bug          69\n",
       "Psychic      57\n",
       "Fire         52\n",
       "Rock         44\n",
       "Electric     44\n",
       "Dragon       32\n",
       "Ghost        32\n",
       "Ground       32\n",
       "Dark         31\n",
       "Poison       28\n",
       "Steel        27\n",
       "Fighting     27\n",
       "Ice          24\n",
       "Fairy        17\n",
       "Flying        4\n",
       "Name: Type 1, dtype: int64"
      ]
     },
     "execution_count": 175,
     "metadata": {},
     "output_type": "execute_result"
    }
   ],
   "source": [
    "pokType1.value_counts()"
   ]
  },
  {
   "cell_type": "code",
   "execution_count": 165,
   "id": "a3a08970",
   "metadata": {},
   "outputs": [],
   "source": [
    "def replace_type(old_type):\n",
    "    if old_type in ['Grass', 'Ground']:\n",
    "        return 'Nature'\n",
    "    else:\n",
    "        return old_type"
   ]
  },
  {
   "cell_type": "code",
   "execution_count": 167,
   "id": "adc8210c",
   "metadata": {},
   "outputs": [
    {
     "data": {
      "text/plain": [
       "'Fire'"
      ]
     },
     "execution_count": 167,
     "metadata": {},
     "output_type": "execute_result"
    }
   ],
   "source": [
    "replace_type('Fire')"
   ]
  },
  {
   "cell_type": "code",
   "execution_count": 168,
   "id": "b8c18a3b",
   "metadata": {},
   "outputs": [
    {
     "data": {
      "text/plain": [
       "'Nature'"
      ]
     },
     "execution_count": 168,
     "metadata": {},
     "output_type": "execute_result"
    }
   ],
   "source": [
    "replace_type('Grass')"
   ]
  },
  {
   "cell_type": "markdown",
   "id": "19307515",
   "metadata": {},
   "source": [
    "### apply() - to inject custom function to all values"
   ]
  },
  {
   "cell_type": "code",
   "execution_count": 177,
   "id": "475b7e09",
   "metadata": {},
   "outputs": [
    {
     "name": "stdout",
     "output_type": "stream",
     "text": [
      "Name\n",
      "Bulbasaur                  Grass\n",
      "Ivysaur                    Grass\n",
      "Venusaur                   Grass\n",
      "VenusaurMega Venusaur      Grass\n",
      "Charmander                  Fire\n",
      "                          ...   \n",
      "Diancie                     Rock\n",
      "DiancieMega Diancie         Rock\n",
      "HoopaHoopa Confined      Psychic\n",
      "HoopaHoopa Unbound       Psychic\n",
      "Volcanion                   Fire\n",
      "Name: Type 1, Length: 800, dtype: object\n"
     ]
    },
    {
     "data": {
      "text/plain": [
       "Name\n",
       "Bulbasaur                 Nature\n",
       "Ivysaur                   Nature\n",
       "Venusaur                  Nature\n",
       "VenusaurMega Venusaur     Nature\n",
       "Charmander                  Fire\n",
       "                          ...   \n",
       "Diancie                     Rock\n",
       "DiancieMega Diancie         Rock\n",
       "HoopaHoopa Confined      Psychic\n",
       "HoopaHoopa Unbound       Psychic\n",
       "Volcanion                   Fire\n",
       "Name: Type 1, Length: 800, dtype: object"
      ]
     },
     "execution_count": 177,
     "metadata": {},
     "output_type": "execute_result"
    }
   ],
   "source": [
    "print(pokType1)\n",
    "pokType1.apply(replace_type)"
   ]
  },
  {
   "cell_type": "code",
   "execution_count": 178,
   "id": "4bcf4376",
   "metadata": {},
   "outputs": [
    {
     "data": {
      "text/plain": [
       "Name\n",
       "Bulbasaur                  GRASS\n",
       "Ivysaur                    GRASS\n",
       "Venusaur                   GRASS\n",
       "VenusaurMega Venusaur      GRASS\n",
       "Charmander                  FIRE\n",
       "                          ...   \n",
       "Diancie                     ROCK\n",
       "DiancieMega Diancie         ROCK\n",
       "HoopaHoopa Confined      PSYCHIC\n",
       "HoopaHoopa Unbound       PSYCHIC\n",
       "Volcanion                   FIRE\n",
       "Name: Type 1, Length: 800, dtype: object"
      ]
     },
     "execution_count": 178,
     "metadata": {},
     "output_type": "execute_result"
    }
   ],
   "source": [
    "pokType1.apply(lambda x_name: x_name.upper())"
   ]
  },
  {
   "cell_type": "code",
   "execution_count": 181,
   "id": "67424870",
   "metadata": {},
   "outputs": [
    {
     "data": {
      "text/plain": [
       "Name\n",
       "Bulbasaur                 Nature\n",
       "Ivysaur                   Nature\n",
       "Venusaur                  Nature\n",
       "VenusaurMega Venusaur     Nature\n",
       "Charmander                  Fire\n",
       "                          ...   \n",
       "Diancie                     Rock\n",
       "DiancieMega Diancie         Rock\n",
       "HoopaHoopa Confined      Psychic\n",
       "HoopaHoopa Unbound       Psychic\n",
       "Volcanion                   Fire\n",
       "Name: Type 1, Length: 800, dtype: object"
      ]
     },
     "execution_count": 181,
     "metadata": {},
     "output_type": "execute_result"
    }
   ],
   "source": [
    "pokType1.apply(lambda x_name:\n",
    "               'Nature' if x_name in ['Grass', 'Ground']\n",
    "               else x_name)"
   ]
  },
  {
   "cell_type": "markdown",
   "id": "c800ffc0",
   "metadata": {},
   "source": [
    "## Map\n",
    "\n",
    "near to join"
   ]
  },
  {
   "cell_type": "code",
   "execution_count": 182,
   "id": "311e9263",
   "metadata": {},
   "outputs": [
    {
     "data": {
      "text/plain": [
       "Andy       5\n",
       "Bob        3\n",
       "Chris      2\n",
       "Dirk       4\n",
       "Francis    3\n",
       "George     4\n",
       "Henry      4\n",
       "Ivan       5\n",
       "dtype: int64"
      ]
     },
     "execution_count": 182,
     "metadata": {},
     "output_type": "execute_result"
    }
   ],
   "source": [
    "team = pd.Series(data=[5,3,2,4,3,4,4,5],\n",
    "                index=['Andy', 'Bob', 'Chris', 'Dirk', 'Francis', 'George', 'Henry', 'Ivan'])\n",
    "team"
   ]
  },
  {
   "cell_type": "code",
   "execution_count": 183,
   "id": "5f49bbe0",
   "metadata": {},
   "outputs": [
    {
     "data": {
      "text/plain": [
       "1      C\n",
       "2      B\n",
       "3      A\n",
       "4     A+\n",
       "5    A++\n",
       "dtype: object"
      ]
     },
     "execution_count": 183,
     "metadata": {},
     "output_type": "execute_result"
    }
   ],
   "source": [
    "notes = pd.Series(data=['C', 'B', 'A', 'A+', 'A++'],\n",
    "                 index=[1,2,3,4,5])\n",
    "notes"
   ]
  },
  {
   "cell_type": "markdown",
   "id": "c39b9848",
   "metadata": {},
   "source": [
    "### values from A should be indexes from B\n",
    "\n",
    "A(idx_A, vals_A) => B(idx_b, vals_B)\n",
    "\n",
    "&\n",
    "\n",
    "vals_b **in** idx_b == True"
   ]
  },
  {
   "cell_type": "code",
   "execution_count": 184,
   "id": "641c36a9",
   "metadata": {},
   "outputs": [
    {
     "data": {
      "text/plain": [
       "Andy       A++\n",
       "Bob          A\n",
       "Chris        B\n",
       "Dirk        A+\n",
       "Francis      A\n",
       "George      A+\n",
       "Henry       A+\n",
       "Ivan       A++\n",
       "dtype: object"
      ]
     },
     "execution_count": 184,
     "metadata": {},
     "output_type": "execute_result"
    }
   ],
   "source": [
    "team.map(notes)"
   ]
  },
  {
   "cell_type": "code",
   "execution_count": 188,
   "id": "4c4cda39",
   "metadata": {},
   "outputs": [
    {
     "data": {
      "text/plain": [
       "{1: 'C', 2: 'B', 3: 'A', 4: 'A+', 5: 'A++'}"
      ]
     },
     "execution_count": 188,
     "metadata": {},
     "output_type": "execute_result"
    }
   ],
   "source": [
    "# it doesn't need a Series, a dict is sufficient [wystarczający]\n",
    "notes_dict = {1: 'C', 2: 'B', 3:'A', 4: 'A+', 5: 'A++'}\n",
    "notes_dict"
   ]
  },
  {
   "cell_type": "code",
   "execution_count": 189,
   "id": "829223ff",
   "metadata": {},
   "outputs": [
    {
     "data": {
      "text/plain": [
       "Andy       A++\n",
       "Bob          A\n",
       "Chris        B\n",
       "Dirk        A+\n",
       "Francis      A\n",
       "George      A+\n",
       "Henry       A+\n",
       "Ivan       A++\n",
       "dtype: object"
      ]
     },
     "execution_count": 189,
     "metadata": {},
     "output_type": "execute_result"
    }
   ],
   "source": [
    "team.map(notes_dict)"
   ]
  },
  {
   "cell_type": "code",
   "execution_count": 190,
   "id": "5c2dfbbd",
   "metadata": {},
   "outputs": [
    {
     "data": {
      "text/plain": [
       "{5: 'Ivan', 3: 'Francis', 2: 'Chris', 4: 'Henry'}"
      ]
     },
     "execution_count": 190,
     "metadata": {},
     "output_type": "execute_result"
    }
   ],
   "source": [
    "# only dicts ?\n",
    "team_dict = {5: 'Andy', 3: 'Bob', 2: 'Chris', 4: 'Dirk', 3: 'Francis', 4: 'George', 4: 'Henry', 5: 'Ivan'}\n",
    "team_dict"
   ]
  },
  {
   "cell_type": "code",
   "execution_count": 192,
   "id": "4ad9b20a",
   "metadata": {
    "collapsed": true
   },
   "outputs": [],
   "source": [
    "# team_dict.map(notes_dict)  # error"
   ]
  }
 ],
 "metadata": {
  "kernelspec": {
   "display_name": "Python 3",
   "language": "python",
   "name": "python3"
  },
  "language_info": {
   "codemirror_mode": {
    "name": "ipython",
    "version": 3
   },
   "file_extension": ".py",
   "mimetype": "text/x-python",
   "name": "python",
   "nbconvert_exporter": "python",
   "pygments_lexer": "ipython3",
   "version": "3.8.10"
  }
 },
 "nbformat": 4,
 "nbformat_minor": 5
}
